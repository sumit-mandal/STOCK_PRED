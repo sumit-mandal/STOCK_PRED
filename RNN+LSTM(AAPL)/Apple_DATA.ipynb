{
 "cells": [
  {
   "cell_type": "code",
   "execution_count": 194,
   "id": "ad9f5bd8-52c1-4d20-8511-4a3472f4ab63",
   "metadata": {},
   "outputs": [],
   "source": [
    "##Data collection\n",
    "\n",
    "key = \"84b02c0f263d56ee9b08c2a0be57fe818765add6\""
   ]
  },
  {
   "cell_type": "code",
   "execution_count": 195,
   "id": "bed630d8-8983-42fb-89a0-8bc32b218dfc",
   "metadata": {},
   "outputs": [],
   "source": [
    "import pandas_datareader as pdr\n",
    "import pandas as pd\n",
    "import matplotlib.pyplot as plt\n",
    "import numpy as np\n",
    "from keras.models import Sequential\n",
    "from keras.layers import Dense\n",
    "from keras.layers import LSTM"
   ]
  },
  {
   "cell_type": "code",
   "execution_count": 196,
   "id": "cd4bbb31-ecf2-4e98-a7d9-0548f3a3891d",
   "metadata": {},
   "outputs": [],
   "source": [
    "df = pdr.get_data_tiingo('AAPL',api_key = key)\n",
    "df.to_csv('AAPL.csv')"
   ]
  },
  {
   "cell_type": "code",
   "execution_count": 197,
   "id": "d102290e-0b70-4cdd-8218-12e4a6ddb9aa",
   "metadata": {},
   "outputs": [],
   "source": [
    "df = pd.read_csv('AAPL.csv')"
   ]
  },
  {
   "cell_type": "code",
   "execution_count": 198,
   "id": "46c39f22-3216-4c09-9edc-9dcb141e7647",
   "metadata": {},
   "outputs": [
    {
     "data": {
      "text/html": [
       "<div>\n",
       "<style scoped>\n",
       "    .dataframe tbody tr th:only-of-type {\n",
       "        vertical-align: middle;\n",
       "    }\n",
       "\n",
       "    .dataframe tbody tr th {\n",
       "        vertical-align: top;\n",
       "    }\n",
       "\n",
       "    .dataframe thead th {\n",
       "        text-align: right;\n",
       "    }\n",
       "</style>\n",
       "<table border=\"1\" class=\"dataframe\">\n",
       "  <thead>\n",
       "    <tr style=\"text-align: right;\">\n",
       "      <th></th>\n",
       "      <th>symbol</th>\n",
       "      <th>date</th>\n",
       "      <th>close</th>\n",
       "      <th>high</th>\n",
       "      <th>low</th>\n",
       "      <th>open</th>\n",
       "      <th>volume</th>\n",
       "      <th>adjClose</th>\n",
       "      <th>adjHigh</th>\n",
       "      <th>adjLow</th>\n",
       "      <th>adjOpen</th>\n",
       "      <th>adjVolume</th>\n",
       "      <th>divCash</th>\n",
       "      <th>splitFactor</th>\n",
       "    </tr>\n",
       "  </thead>\n",
       "  <tbody>\n",
       "    <tr>\n",
       "      <th>0</th>\n",
       "      <td>AAPL</td>\n",
       "      <td>2016-05-10 00:00:00+00:00</td>\n",
       "      <td>93.42</td>\n",
       "      <td>93.5700</td>\n",
       "      <td>92.110</td>\n",
       "      <td>93.33</td>\n",
       "      <td>33686836</td>\n",
       "      <td>21.814826</td>\n",
       "      <td>21.849853</td>\n",
       "      <td>21.508924</td>\n",
       "      <td>21.793810</td>\n",
       "      <td>134747344</td>\n",
       "      <td>0.00</td>\n",
       "      <td>1.0</td>\n",
       "    </tr>\n",
       "    <tr>\n",
       "      <th>1</th>\n",
       "      <td>AAPL</td>\n",
       "      <td>2016-05-11 00:00:00+00:00</td>\n",
       "      <td>92.51</td>\n",
       "      <td>93.5700</td>\n",
       "      <td>92.460</td>\n",
       "      <td>93.48</td>\n",
       "      <td>28719109</td>\n",
       "      <td>21.602329</td>\n",
       "      <td>21.849853</td>\n",
       "      <td>21.590653</td>\n",
       "      <td>21.828837</td>\n",
       "      <td>114876436</td>\n",
       "      <td>0.00</td>\n",
       "      <td>1.0</td>\n",
       "    </tr>\n",
       "    <tr>\n",
       "      <th>2</th>\n",
       "      <td>AAPL</td>\n",
       "      <td>2016-05-12 00:00:00+00:00</td>\n",
       "      <td>90.34</td>\n",
       "      <td>92.7800</td>\n",
       "      <td>89.470</td>\n",
       "      <td>92.72</td>\n",
       "      <td>76314690</td>\n",
       "      <td>21.095605</td>\n",
       "      <td>21.665378</td>\n",
       "      <td>20.892448</td>\n",
       "      <td>21.651367</td>\n",
       "      <td>305258760</td>\n",
       "      <td>0.00</td>\n",
       "      <td>1.0</td>\n",
       "    </tr>\n",
       "    <tr>\n",
       "      <th>3</th>\n",
       "      <td>AAPL</td>\n",
       "      <td>2016-05-13 00:00:00+00:00</td>\n",
       "      <td>90.52</td>\n",
       "      <td>91.6700</td>\n",
       "      <td>90.000</td>\n",
       "      <td>90.00</td>\n",
       "      <td>44392765</td>\n",
       "      <td>21.137637</td>\n",
       "      <td>21.406178</td>\n",
       "      <td>21.016210</td>\n",
       "      <td>21.016210</td>\n",
       "      <td>177571060</td>\n",
       "      <td>0.00</td>\n",
       "      <td>1.0</td>\n",
       "    </tr>\n",
       "    <tr>\n",
       "      <th>4</th>\n",
       "      <td>AAPL</td>\n",
       "      <td>2016-05-16 00:00:00+00:00</td>\n",
       "      <td>93.88</td>\n",
       "      <td>94.3900</td>\n",
       "      <td>91.650</td>\n",
       "      <td>92.39</td>\n",
       "      <td>61259756</td>\n",
       "      <td>21.922242</td>\n",
       "      <td>22.041334</td>\n",
       "      <td>21.401507</td>\n",
       "      <td>21.574307</td>\n",
       "      <td>245039024</td>\n",
       "      <td>0.00</td>\n",
       "      <td>1.0</td>\n",
       "    </tr>\n",
       "    <tr>\n",
       "      <th>...</th>\n",
       "      <td>...</td>\n",
       "      <td>...</td>\n",
       "      <td>...</td>\n",
       "      <td>...</td>\n",
       "      <td>...</td>\n",
       "      <td>...</td>\n",
       "      <td>...</td>\n",
       "      <td>...</td>\n",
       "      <td>...</td>\n",
       "      <td>...</td>\n",
       "      <td>...</td>\n",
       "      <td>...</td>\n",
       "      <td>...</td>\n",
       "      <td>...</td>\n",
       "    </tr>\n",
       "    <tr>\n",
       "      <th>1253</th>\n",
       "      <td>AAPL</td>\n",
       "      <td>2021-05-03 00:00:00+00:00</td>\n",
       "      <td>132.54</td>\n",
       "      <td>134.0700</td>\n",
       "      <td>131.830</td>\n",
       "      <td>132.04</td>\n",
       "      <td>75135100</td>\n",
       "      <td>132.316441</td>\n",
       "      <td>133.843860</td>\n",
       "      <td>131.607639</td>\n",
       "      <td>131.817284</td>\n",
       "      <td>75135100</td>\n",
       "      <td>0.00</td>\n",
       "      <td>1.0</td>\n",
       "    </tr>\n",
       "    <tr>\n",
       "      <th>1254</th>\n",
       "      <td>AAPL</td>\n",
       "      <td>2021-05-04 00:00:00+00:00</td>\n",
       "      <td>127.85</td>\n",
       "      <td>131.4899</td>\n",
       "      <td>126.700</td>\n",
       "      <td>131.19</td>\n",
       "      <td>137564718</td>\n",
       "      <td>127.634352</td>\n",
       "      <td>131.268112</td>\n",
       "      <td>126.486291</td>\n",
       "      <td>130.968718</td>\n",
       "      <td>137564718</td>\n",
       "      <td>0.00</td>\n",
       "      <td>1.0</td>\n",
       "    </tr>\n",
       "    <tr>\n",
       "      <th>1255</th>\n",
       "      <td>AAPL</td>\n",
       "      <td>2021-05-05 00:00:00+00:00</td>\n",
       "      <td>128.10</td>\n",
       "      <td>130.4500</td>\n",
       "      <td>127.970</td>\n",
       "      <td>129.20</td>\n",
       "      <td>84000900</td>\n",
       "      <td>127.883930</td>\n",
       "      <td>130.229966</td>\n",
       "      <td>127.754149</td>\n",
       "      <td>128.982075</td>\n",
       "      <td>84000900</td>\n",
       "      <td>0.00</td>\n",
       "      <td>1.0</td>\n",
       "    </tr>\n",
       "    <tr>\n",
       "      <th>1256</th>\n",
       "      <td>AAPL</td>\n",
       "      <td>2021-05-06 00:00:00+00:00</td>\n",
       "      <td>129.74</td>\n",
       "      <td>129.7500</td>\n",
       "      <td>127.130</td>\n",
       "      <td>127.89</td>\n",
       "      <td>78128334</td>\n",
       "      <td>129.521164</td>\n",
       "      <td>129.531147</td>\n",
       "      <td>126.915566</td>\n",
       "      <td>127.674284</td>\n",
       "      <td>78128334</td>\n",
       "      <td>0.00</td>\n",
       "      <td>1.0</td>\n",
       "    </tr>\n",
       "    <tr>\n",
       "      <th>1257</th>\n",
       "      <td>AAPL</td>\n",
       "      <td>2021-05-07 00:00:00+00:00</td>\n",
       "      <td>130.21</td>\n",
       "      <td>131.2582</td>\n",
       "      <td>129.475</td>\n",
       "      <td>130.85</td>\n",
       "      <td>78973273</td>\n",
       "      <td>130.210000</td>\n",
       "      <td>131.258200</td>\n",
       "      <td>129.475000</td>\n",
       "      <td>130.850000</td>\n",
       "      <td>78973273</td>\n",
       "      <td>0.22</td>\n",
       "      <td>1.0</td>\n",
       "    </tr>\n",
       "  </tbody>\n",
       "</table>\n",
       "<p>1258 rows × 14 columns</p>\n",
       "</div>"
      ],
      "text/plain": [
       "     symbol                       date   close      high      low    open  \\\n",
       "0      AAPL  2016-05-10 00:00:00+00:00   93.42   93.5700   92.110   93.33   \n",
       "1      AAPL  2016-05-11 00:00:00+00:00   92.51   93.5700   92.460   93.48   \n",
       "2      AAPL  2016-05-12 00:00:00+00:00   90.34   92.7800   89.470   92.72   \n",
       "3      AAPL  2016-05-13 00:00:00+00:00   90.52   91.6700   90.000   90.00   \n",
       "4      AAPL  2016-05-16 00:00:00+00:00   93.88   94.3900   91.650   92.39   \n",
       "...     ...                        ...     ...       ...      ...     ...   \n",
       "1253   AAPL  2021-05-03 00:00:00+00:00  132.54  134.0700  131.830  132.04   \n",
       "1254   AAPL  2021-05-04 00:00:00+00:00  127.85  131.4899  126.700  131.19   \n",
       "1255   AAPL  2021-05-05 00:00:00+00:00  128.10  130.4500  127.970  129.20   \n",
       "1256   AAPL  2021-05-06 00:00:00+00:00  129.74  129.7500  127.130  127.89   \n",
       "1257   AAPL  2021-05-07 00:00:00+00:00  130.21  131.2582  129.475  130.85   \n",
       "\n",
       "         volume    adjClose     adjHigh      adjLow     adjOpen  adjVolume  \\\n",
       "0      33686836   21.814826   21.849853   21.508924   21.793810  134747344   \n",
       "1      28719109   21.602329   21.849853   21.590653   21.828837  114876436   \n",
       "2      76314690   21.095605   21.665378   20.892448   21.651367  305258760   \n",
       "3      44392765   21.137637   21.406178   21.016210   21.016210  177571060   \n",
       "4      61259756   21.922242   22.041334   21.401507   21.574307  245039024   \n",
       "...         ...         ...         ...         ...         ...        ...   \n",
       "1253   75135100  132.316441  133.843860  131.607639  131.817284   75135100   \n",
       "1254  137564718  127.634352  131.268112  126.486291  130.968718  137564718   \n",
       "1255   84000900  127.883930  130.229966  127.754149  128.982075   84000900   \n",
       "1256   78128334  129.521164  129.531147  126.915566  127.674284   78128334   \n",
       "1257   78973273  130.210000  131.258200  129.475000  130.850000   78973273   \n",
       "\n",
       "      divCash  splitFactor  \n",
       "0        0.00          1.0  \n",
       "1        0.00          1.0  \n",
       "2        0.00          1.0  \n",
       "3        0.00          1.0  \n",
       "4        0.00          1.0  \n",
       "...       ...          ...  \n",
       "1253     0.00          1.0  \n",
       "1254     0.00          1.0  \n",
       "1255     0.00          1.0  \n",
       "1256     0.00          1.0  \n",
       "1257     0.22          1.0  \n",
       "\n",
       "[1258 rows x 14 columns]"
      ]
     },
     "execution_count": 198,
     "metadata": {},
     "output_type": "execute_result"
    }
   ],
   "source": [
    "df"
   ]
  },
  {
   "cell_type": "code",
   "execution_count": 199,
   "id": "9d9568e5-737a-44af-95d3-1158b1cc5616",
   "metadata": {},
   "outputs": [],
   "source": [
    "#only takinnng close column\n",
    "df1 = df.reset_index()['close']"
   ]
  },
  {
   "cell_type": "code",
   "execution_count": 200,
   "id": "908cbb3b-e271-4938-8e52-d7961e56a782",
   "metadata": {},
   "outputs": [
    {
     "name": "stdout",
     "output_type": "stream",
     "text": [
      "0        93.42\n",
      "1        92.51\n",
      "2        90.34\n",
      "3        90.52\n",
      "4        93.88\n",
      "         ...  \n",
      "1253    132.54\n",
      "1254    127.85\n",
      "1255    128.10\n",
      "1256    129.74\n",
      "1257    130.21\n",
      "Name: close, Length: 1258, dtype: float64\n"
     ]
    }
   ],
   "source": [
    "print(df1)"
   ]
  },
  {
   "cell_type": "code",
   "execution_count": 201,
   "id": "c4c237d2-3a50-4e14-bb5e-a9a1cc4fbac7",
   "metadata": {},
   "outputs": [
    {
     "data": {
      "text/plain": [
       "<matplotlib.legend.Legend at 0x19b88e13a90>"
      ]
     },
     "execution_count": 201,
     "metadata": {},
     "output_type": "execute_result"
    },
    {
     "data": {
      "image/png": "[encoded data removed]",
      "text/plain": [
       "<Figure size 432x288 with 1 Axes>"
      ]
     },
     "metadata": {
      "needs_background": "light"
     },
     "output_type": "display_data"
    }
   ],
   "source": [
    "df1.plot()\n",
    "plt.legend()"
   ]
  },
  {
   "cell_type": "code",
   "execution_count": 244,
   "id": "43818762-c9e8-4976-bf4c-21c4e7b10ac6",
   "metadata": {},
   "outputs": [
    {
     "data": {
      "text/plain": [
       "array([[0.0074083 ],\n",
       "       [0.00521948],\n",
       "       [0.        ],\n",
       "       ...,\n",
       "       [0.09082381],\n",
       "       [0.09476849],\n",
       "       [0.09589898]])"
      ]
     },
     "execution_count": 244,
     "metadata": {},
     "output_type": "execute_result"
    }
   ],
   "source": [
    "df1"
   ]
  },
  {
   "cell_type": "code",
   "execution_count": 203,
   "id": "0fcea9b2-15dd-42e9-8bf3-eebf2d95db8e",
   "metadata": {},
   "outputs": [
    {
     "data": {
      "text/plain": [
       "numpy.ndarray"
      ]
     },
     "execution_count": 203,
     "metadata": {},
     "output_type": "execute_result"
    }
   ],
   "source": [
    "#converting df1 to array\n",
    "df1 = np.array(df1)\n",
    "type(df1)"
   ]
  },
  {
   "cell_type": "markdown",
   "id": "4bb19a5e-ea84-42e8-86e2-b3719f7856b2",
   "metadata": {},
   "source": [
    "## SInce LSTM are sensitive to scale of data, we apply MinMAX Scaler"
   ]
  },
  {
   "cell_type": "code",
   "execution_count": 204,
   "id": "1f9a9352-9565-41cf-891c-96bc962c5481",
   "metadata": {},
   "outputs": [],
   "source": [
    "from sklearn.preprocessing import MinMaxScaler\n",
    "scaler = MinMaxScaler(feature_range=(0,1))\n",
    "df1 = scaler.fit_transform(df1.reshape(-1,1))"
   ]
  },
  {
   "cell_type": "code",
   "execution_count": 205,
   "id": "d2344658-c985-4d64-9d94-775a3c2bb6e0",
   "metadata": {},
   "outputs": [
    {
     "name": "stdout",
     "output_type": "stream",
     "text": [
      "shape of df1 (1258, 1)\n"
     ]
    },
    {
     "data": {
      "text/plain": [
       "array([[0.0074083 , 0.00521948, 0.        , ..., 0.09082381, 0.09476849,\n",
       "        0.09589898]])"
      ]
     },
     "execution_count": 205,
     "metadata": {},
     "output_type": "execute_result"
    }
   ],
   "source": [
    "print(\"shape of df1\",df1.shape)\n",
    "df1.transpose()"
   ]
  },
  {
   "cell_type": "code",
   "execution_count": 206,
   "id": "360e8e95-25a5-45e4-ab83-0be348206b42",
   "metadata": {},
   "outputs": [],
   "source": [
    "#splitting dataset into training and test set\n",
    "training_size = int(len(df1)*0.65)\n",
    "test_size = len(df1)-training_size\n",
    "train_data,test_data = df1[:training_size,:],df1[training_size:len(df1),:1]"
   ]
  },
  {
   "cell_type": "code",
   "execution_count": 207,
   "id": "c6c627fc-19ab-4712-ac7b-f8d85986d413",
   "metadata": {},
   "outputs": [
    {
     "name": "stdout",
     "output_type": "stream",
     "text": [
      "817\n",
      "441\n"
     ]
    },
    {
     "data": {
      "text/plain": [
       "(None, None)"
      ]
     },
     "execution_count": 207,
     "metadata": {},
     "output_type": "execute_result"
    }
   ],
   "source": [
    "print(training_size),print(test_size)"
   ]
  },
  {
   "cell_type": "code",
   "execution_count": 208,
   "id": "a4927412-a870-48d1-820d-8432da544232",
   "metadata": {},
   "outputs": [
    {
     "name": "stdout",
     "output_type": "stream",
     "text": [
      "THis is transpose of training data.It has only one column:\n",
      "\n",
      " [[0.0074083  0.00521948 0.         0.00043295 0.00851473 0.00757667\n",
      "  0.01015033 0.00928443 0.01173782 0.01464823 0.018184   0.02232111\n",
      "  0.02422129 0.02407697 0.02289838 0.01953097 0.01775105 0.01823211\n",
      "  0.01993987 0.02090198 0.02068551 0.02239327 0.02042093 0.01683704\n",
      "  0.01712568 0.01635598 0.01734215 0.01200241 0.01144919 0.01339747\n",
      "  0.01253157 0.01385448 0.00736019 0.004089   0.0078172  0.00976548\n",
      "  0.01265183 0.01334937 0.01118461 0.01248346 0.01346963 0.01524955\n",
      "  0.01597114 0.01702946 0.01570655 0.02032471 0.02030066 0.02282622\n",
      "  0.02292243 0.02313891 0.0218641  0.02001203 0.01683704 0.0152255\n",
      "  0.03033073 0.03367408 0.0333614  0.03778713 0.03401082 0.03716176\n",
      "  0.03735418 0.0412267  0.04336741 0.04442574 0.04247745 0.04230908\n",
      "  0.0429104  0.04603728 0.04579675 0.04541191 0.04507517 0.04574865\n",
      "  0.04370415 0.04452195 0.04254961 0.04144317 0.03992784 0.03963921\n",
      "  0.03766687 0.0379074  0.03942273 0.04182802 0.04175586 0.04334336\n",
      "  0.03651233 0.03076368 0.0363199  0.04235719 0.0515454  0.06068551\n",
      "  0.05912207 0.05589898 0.05587492 0.05582682 0.05840048 0.05380637\n",
      "  0.05421527 0.05472038 0.05678894 0.05253157 0.05462417 0.05334937\n",
      "  0.05450391 0.05462417 0.05664462 0.05705352 0.06184005 0.06244137\n",
      "  0.06494287 0.06407697 0.06564041 0.06544799 0.06525556 0.06441371\n",
      "  0.06426939 0.06316296 0.06568851 0.06713169 0.06073361 0.05806374\n",
      "  0.05623572 0.05580277 0.05087192 0.05111245 0.04687913 0.0444979\n",
      "  0.0482742  0.04983764 0.04940469 0.04197234 0.04351173 0.03696933\n",
      "  0.04033674 0.04726398 0.04716777 0.04743235 0.05144919 0.05161756\n",
      "  0.05024654 0.05159351 0.05106434 0.05079976 0.04853879 0.04606133\n",
      "  0.0470475  0.04514732 0.04716777 0.04976548 0.05238725 0.05678894\n",
      "  0.0552255  0.0597715  0.0597715  0.06128683 0.06164762 0.06325917\n",
      "  0.06400481 0.06426939 0.06241732 0.06297054 0.06475045 0.06354781\n",
      "  0.06347565 0.06128683 0.06208058 0.06176789 0.06318701 0.06631389\n",
      "  0.06891161 0.06920024 0.07073963 0.06953698 0.06903187 0.07134095\n",
      "  0.0713169  0.07081179 0.07134095 0.07153337 0.07126879 0.0758629\n",
      "  0.07600722 0.07603127 0.07526158 0.07458809 0.09238725 0.09185809\n",
      "  0.093181   0.0960914  0.09907396 0.10030066 0.10121467 0.10049308\n",
      "  0.10330728 0.10746843 0.10864702 0.10825015 0.10915213 0.11150932\n",
      "  0.11249549 0.11110042 0.11141311 0.11206254 0.11220686 0.11894167\n",
      "  0.11694528 0.11891762 0.11785929 0.11829224 0.11704149 0.1162718\n",
      "  0.11737823 0.11752255 0.11701744 0.12055322 0.12110643 0.11942273\n",
      "  0.12295851 0.11906194 0.1228623  0.12165965 0.12098617 0.12156344\n",
      "  0.12858689 0.12935658 0.12889958 0.12825015 0.12834636 0.13092002\n",
      "  0.12911606 0.12825015 0.12748046 0.12707156 0.12336741 0.12377631\n",
      "  0.12197234 0.12384847 0.12233313 0.12108238 0.12531569 0.12490679\n",
      "  0.12820204 0.13034275 0.12829826 0.12856284 0.1282261  0.1352736\n",
      "  0.13751052 0.13642814 0.13515334 0.1409982  0.15073963 0.15309681\n",
      "  0.15134095 0.1530006  0.15817198 0.15720986 0.15665664 0.14410102\n",
      "  0.14960914 0.15085989 0.15309681 0.15263981 0.15153337 0.15280818\n",
      "  0.1521828  0.15232712 0.1501383  0.15114853 0.15660854 0.1529525\n",
      "  0.15420325 0.15641612 0.1555021  0.1410463  0.13248346 0.13529765\n",
      "  0.13185809 0.12976548 0.12490679 0.13469633 0.13149729 0.13356584\n",
      "  0.13298857 0.13455201 0.13344558 0.12841852 0.13346963 0.12829826\n",
      "  0.12911606 0.1278653  0.12928443 0.12601323 0.1295009  0.13161756\n",
      "  0.13274805 0.13325316 0.1381359  0.14119062 0.14244137 0.14369212\n",
      "  0.1459531  0.1443175  0.14414913 0.14852676 0.1500902  0.15182201\n",
      "  0.14484666 0.14229705 0.14044498 0.14361996 0.16067348 0.15689717\n",
      "  0.15886951 0.16469032 0.16774504 0.17010222 0.15629585 0.16149128\n",
      "  0.16719182 0.17140108 0.16983764 0.16240529 0.16153939 0.16084185\n",
      "  0.16702345 0.16750451 0.16579675 0.16721587 0.17108839 0.17455201\n",
      "  0.17561034 0.17717378 0.17729405 0.17255562 0.17214672 0.17058328\n",
      "  0.16425737 0.17116055 0.16962117 0.16671076 0.16341551 0.16726398\n",
      "  0.16435358 0.1644979  0.15809982 0.15165364 0.1480457  0.14482261\n",
      "  0.15105232 0.15367408 0.15138906 0.1534095  0.15266386 0.15427541\n",
      "  0.15187011 0.15646422 0.15624775 0.1575466  0.15769092 0.15925436\n",
      "  0.15793145 0.16031269 0.16726398 0.1686831  0.16697535 0.15788334\n",
      "  0.15853277 0.15834035 0.16057727 0.15891762 0.16132291 0.17488876\n",
      "  0.18371618 0.18929645 0.18412508 0.18705953 0.19761876 0.20182802\n",
      "  0.20317498 0.20661455 0.20574865 0.20283824 0.20115454 0.19482862\n",
      "  0.18939266 0.19425135 0.19196633 0.19155743 0.19915815 0.20353578\n",
      "  0.20355983 0.20144317 0.19898978 0.19035478 0.19605532 0.19413109\n",
      "  0.19112447 0.19073963 0.18922429 0.18996993 0.1900902  0.19802766\n",
      "  0.19569453 0.19706554 0.19694528 0.20115454 0.2070475  0.20252556\n",
      "  0.20206855 0.20365604 0.20365604 0.19297655 0.19304871 0.19420325\n",
      "  0.18975346 0.19704149 0.19696933 0.19889357 0.20363199 0.20206855\n",
      "  0.20202044 0.20192423 0.20430547 0.20865905 0.20649429 0.21349369\n",
      "  0.21387853 0.2119543  0.20844257 0.20853879 0.20175586 0.19427541\n",
      "  0.19523752 0.18669874 0.1843175  0.18542393 0.18626578 0.16875526\n",
      "  0.15911004 0.17484065 0.16644618 0.15588695 0.15891762 0.17407096\n",
      "  0.17799158 0.18527962 0.19879735 0.19745039 0.19605532 0.19417919\n",
      "  0.19761876 0.20483464 0.213181   0.21178593 0.2111365  0.20363199\n",
      "  0.20654239 0.20800962 0.20764883 0.20370415 0.20829826 0.21561034\n",
      "  0.21979555 0.21558629 0.21190619 0.2124113  0.21089597 0.20435358\n",
      "  0.20420926 0.19466025 0.18883945 0.17943476 0.19826819 0.18761275\n",
      "  0.18313891 0.18626578 0.18361996 0.18773301 0.19547805 0.19834035\n",
      "  0.18770896 0.1917258  0.19942273 0.19747444 0.20156344 0.20298256\n",
      "  0.20560433 0.21142514 0.21046302 0.19834035 0.18131088 0.18015634\n",
      "  0.17462417 0.17633193 0.17770295 0.17313289 0.18020445 0.18944077\n",
      "  0.2074083  0.20817799 0.22487072 0.22806975 0.23021046 0.2333614\n",
      "  0.23980758 0.2363199  0.23526158 0.23114853 0.23533373 0.23247144\n",
      "  0.23083584 0.23401082 0.23288034 0.23576669 0.23526158 0.23629585\n",
      "  0.23466025 0.23369814 0.2321828  0.24028863 0.24411305 0.24767288\n",
      "  0.24928443 0.24803367 0.24380036 0.24266987 0.24519543 0.24139507\n",
      "  0.2416356  0.23692123 0.2366807  0.22934456 0.23129284 0.22879134\n",
      "  0.22749248 0.22087793 0.22631389 0.22566446 0.22888755 0.22794949\n",
      "  0.23292844 0.22508719 0.22864702 0.23482862 0.24110643 0.24055322\n",
      "  0.23461215 0.24218882 0.2429104  0.24190018 0.24319904 0.24067348\n",
      "  0.24423331 0.24317498 0.24358388 0.24692724 0.25130487 0.24983764\n",
      "  0.24206855 0.23949489 0.2404089  0.26737222 0.28153939 0.28298256\n",
      "  0.28558028 0.2808659  0.28120265 0.28512327 0.28187613 0.28509922\n",
      "  0.28721587 0.28839447 0.29580277 0.30604931 0.30095009 0.29993987\n",
      "  0.29996392 0.30102225 0.30263379 0.30691521 0.31114853 0.31903788\n",
      "  0.32396873 0.33022249 0.33197835 0.32839447 0.31932652 0.31499699\n",
      "  0.30785328 0.32113049 0.31444378 0.32728803 0.32110643 0.3067709\n",
      "  0.3076368  0.30794949 0.31194227 0.30624173 0.31377029 0.3171377\n",
      "  0.31288034 0.32377631 0.32567649 0.32933253 0.33419122 0.34090198\n",
      "  0.33108839 0.32218882 0.32093806 0.32839447 0.30311485 0.29852075\n",
      "  0.31694528 0.30552014 0.31704149 0.31473241 0.30229705 0.31021046\n",
      "  0.31343355 0.31843656 0.30006013 0.31138906 0.30297054 0.29320505\n",
      "  0.29575466 0.30912808 0.31720986 0.28175586 0.2675887  0.27283223\n",
      "  0.28769693 0.28418521 0.27451594 0.24974143 0.24507517 0.23201443\n",
      "  0.24310283 0.24820204 0.22975346 0.20839447 0.20791341 0.19711365\n",
      "  0.20271798 0.20180397 0.21791942 0.21457607 0.21224293 0.22725195\n",
      "  0.20769693 0.20295851 0.18797354 0.19064342 0.18831028 0.18944077\n",
      "  0.19389056 0.18073361 0.17702946 0.18215274 0.16969333 0.15992784\n",
      "  0.14525556 0.13587492 0.16074564 0.15829224 0.15848467 0.16211666\n",
      "  0.16254961 0.12471437 0.13931449 0.13852075 0.14530367 0.15146121\n",
      "  0.15263981 0.14900782 0.1434997  0.15088394 0.15538184 0.15759471\n",
      "  0.15990379 0.15143716 0.15292844 0.14999399 0.16216476 0.15865304\n",
      "  0.15475646 0.1801804  0.18304269 0.18323512 0.19461215 0.20165965\n",
      "  0.20180397 0.19386651 0.1925917  0.19023452 0.19374624 0.19203848\n",
      "  0.19352977 0.19261575 0.19384245 0.19648827 0.19415514 0.19874925\n",
      "  0.20177992 0.20202044 0.2033193  0.1991822  0.20355983 0.20567649\n",
      "  0.20490679 0.20247745 0.19761876 0.19860493 0.21301263 0.21784726\n",
      "  0.2197715  0.22463019 0.23037883 0.23494889 0.231365   0.23528563\n",
      "  0.2519543  0.24223692 0.2366807  0.23199038 0.23603127 0.23663259\n",
      "  0.2395911  0.24269393 0.24938064 0.25257968 0.25339747 0.25654841\n",
      "  0.26400481 0.26256164 0.26525556 0.26123873 0.2610463  0.26191221\n",
      "  0.26196031 0.27129284 0.27304871 0.27466025 0.28175586 0.28098617\n",
      "  0.27646422 0.27410704 0.27485268 0.26537583 0.28906795 0.2857727\n",
      "  0.29202646 0.28416115 0.27064342 0.27073963 0.26549609 0.25698136\n",
      "  0.22941672 0.23648827 0.24192423 0.23990379 0.23730607 0.2230908\n",
      "  0.23153337 0.22234516 0.21484065 0.213181   0.21140108 0.20935658\n",
      "  0.21156945 0.20380036 0.19954299 0.21479254 0.22176789 0.22821407\n",
      "  0.24007216 0.24591702 0.25128082 0.24978954 0.24969333 0.24630186\n",
      "  0.24906795 0.26003608 0.25864101 0.26246542 0.26082983 0.26034877\n",
      "  0.25310884 0.26328322 0.26313891 0.25876127 0.26749248 0.27033073\n",
      "  0.27437162 0.27393867 0.26381239 0.26674684 0.27153337 0.26797354\n",
      "  0.27170174 0.27629585 0.27458809 0.27182201 0.27737823 0.26999399\n",
      "  0.28113049 0.28502706 0.28461816 0.28064943 0.28238124 0.2870475\n",
      "  0.28488274 0.29512928 0.28404089 0.27343355 0.24774504 0.25654841\n",
      "  0.2614552 ]]\n",
      "THis is transpose of test data.It has only one column:\n",
      "\n",
      " [[0.27201443 0.26614552 0.26491882 0.28533975 0.27037883 0.26794949\n",
      "  0.27939868 0.28865905 0.2886831  0.29416717 0.29373422 0.27011425\n",
      "  0.27937462 0.27377029 0.27706554 0.28543596 0.28478653 0.27747444\n",
      "  0.28586891 0.29570655 0.29565845 0.29784726 0.30393265 0.32050511\n",
      "  0.31930247 0.3088635  0.31162959 0.31355382 0.31853277 0.31417919\n",
      "  0.3064101  0.30879134 0.30628984 0.31434756 0.31160553 0.30903187\n",
      "  0.32141912 0.3229104  0.30936861 0.31384245 0.32873121 0.32885147\n",
      "  0.3224534  0.32877931 0.33613951 0.35085989 0.35004209 0.34871918\n",
      "  0.34643416 0.34862297 0.35134095 0.36120265 0.35987974 0.36762477\n",
      "  0.36858689 0.37580277 0.38174384 0.36788936 0.3678172  0.3810463\n",
      "  0.39802766 0.40206855 0.40117859 0.40144317 0.40671076 0.40841852\n",
      "  0.41337342 0.41279615 0.41883343 0.41443175 0.42193626 0.42515935\n",
      "  0.42321106 0.41575466 0.41291642 0.4123632  0.42340349 0.41840048\n",
      "  0.42693927 0.42552014 0.41808779 0.40675887 0.41226699 0.42150331\n",
      "  0.43384245 0.4247264  0.42847865 0.43398677 0.43564642 0.44452195\n",
      "  0.45585087 0.45717378 0.45556224 0.45623572 0.45484065 0.46580878\n",
      "  0.46645821 0.48002405 0.47975947 0.48389657 0.48901984 0.5051353\n",
      "  0.49811185 0.50381239 0.50042093 0.51196633 0.5274564  0.52914011\n",
      "  0.54508719 0.53479254 0.53156945 0.54095009 0.54934456 0.54414913\n",
      "  0.54686711 0.5505472  0.54833434 0.52582081 0.54684305 0.56283824\n",
      "  0.56170776 0.52716777 0.52512327 0.54963319 0.55588695 0.56493085\n",
      "  0.55247144 0.55612748 0.55146121 0.56971738 0.56411305 0.56430547\n",
      "  0.54999399 0.56110643 0.55312087 0.5356825  0.49991581 0.47562237\n",
      "  0.48661455 0.44060132 0.44021648 0.50143115 0.47860493 0.51088394\n",
      "  0.48726398 0.4779074  0.42292243 0.46903187 0.44519543 0.3797715\n",
      "  0.45130487 0.36529164 0.390908   0.37601924 0.37147324 0.33409501\n",
      "  0.32238124 0.37652435 0.37325316 0.40432952 0.3785929  0.39559832\n",
      "  0.39434756 0.36216476 0.37183403 0.36336741 0.41402285 0.40671076\n",
      "  0.4226819  0.42730006 0.43995189 0.47314492 0.46684305 0.47227901\n",
      "  0.46292243 0.44880337 0.42821407 0.44680698 0.44423331 0.46333133\n",
      "  0.46381239 0.4527721  0.47478052 0.48938064 0.47800361 0.48784125\n",
      "  0.49842453 0.50580878 0.51328924 0.52865905 0.54039687 0.53173782\n",
      "  0.52269393 0.52723993 0.52283824 0.54027661 0.53589898 0.5505472\n",
      "  0.54482261 0.5497294  0.54453397 0.54785328 0.54819002 0.54744438\n",
      "  0.55684907 0.56043295 0.56471437 0.55797956 0.58006013 0.5847745\n",
      "  0.61010222 0.63138906 0.59064342 0.59761876 0.60769693 0.62956103\n",
      "  0.62838244 0.62871918 0.62388455 0.64589296 0.6643175  0.64875526\n",
      "  0.66025256 0.63328924 0.65289236 0.66015634 0.65849669 0.65849669\n",
      "  0.68192423 0.6791341  0.70001203 0.7039567  0.70556825 0.70131088\n",
      "  0.71651233 0.72293446 0.711365   0.70948888 0.72901984 0.71595911\n",
      "  0.71858088 0.67598316 0.67377029 0.69488876 0.67990379 0.69710162\n",
      "  0.70816597 0.80505111 0.83081179 0.83781118 0.8416356  0.87858088\n",
      "  0.85173782 0.86727601 0.83502105 0.86999399 0.88923632 0.88825015\n",
      "  0.8853638  0.89455201 0.89594708 0.92064943 0.97929044 0.99360192\n",
      "  0.98366807 1.         0.98544799 0.9834997  0.09308479 0.10544799\n",
      "  0.09876127 0.07345761 0.07365003 0.05407096 0.06489477 0.0556825\n",
      "  0.05209862 0.06016837 0.06061335 0.0524113  0.04810583 0.03968731\n",
      "  0.04748046 0.05164161 0.04036079 0.04300661 0.0527721  0.05921828\n",
      "  0.05712568 0.06126278 0.06361996 0.05455201 0.06292243 0.05488876\n",
      "  0.05950692 0.05924233 0.06405292 0.08192423 0.07398677 0.07420325\n",
      "  0.07304871 0.06898376 0.06167168 0.06535177 0.06381239 0.06111846\n",
      "  0.0594107  0.05943476 0.06316296 0.05017438 0.06008419 0.044546\n",
      "  0.04432952 0.04834636 0.05919423 0.06900782 0.06819002 0.06248948\n",
      "  0.06164762 0.07011425 0.06944077 0.06956103 0.07206254 0.06987372\n",
      "  0.06660253 0.06806975 0.06494287 0.05654841 0.05972339 0.06179194\n",
      "  0.06313891 0.06905592 0.07788334 0.07874925 0.07841251 0.07675286\n",
      "  0.08036079 0.08187613 0.07562237 0.0791341  0.0771377  0.07562237\n",
      "  0.09029465 0.09012628 0.09226699 0.08734817 0.0911365  0.09991581\n",
      "  0.09770295 0.10013229 0.11148527 0.10710764 0.10434155 0.1018641\n",
      "  0.09397474 0.09782321 0.08721587 0.09760673 0.10032471 0.09294047\n",
      "  0.09250752 0.09753458 0.0927721  0.08851473 0.09017438 0.10027661\n",
      "  0.11191822 0.11720986 0.12647023 0.1270475  0.12440168 0.11244738\n",
      "  0.10010824 0.10535177 0.10739627 0.10487072 0.11316897 0.11165364\n",
      "  0.11201443 0.10984967 0.10835839 0.10773301 0.10831028 0.10306675\n",
      "  0.09741431 0.09469633 0.09508118 0.0857727  0.08543596 0.08420926\n",
      "  0.07372219 0.07437162 0.09007817 0.08365604 0.07629585 0.07165364\n",
      "  0.07475646 0.06258569 0.07395069 0.07129284 0.07605532 0.0738184\n",
      "  0.08093806 0.08473842 0.08279014 0.07261575 0.0713169  0.07949489\n",
      "  0.07745039 0.07155743 0.07276007 0.07425135 0.07468431 0.07110042\n",
      "  0.07651233 0.07855683 0.08553217 0.08627781 0.09034275 0.09625977\n",
      "  0.10259771 0.09837643 0.10604931 0.10027661 0.10621768 0.10539988\n",
      "  0.10703548 0.10287432 0.10381239 0.10006013 0.10578473 0.10674684\n",
      "  0.1059531  0.10400481 0.10376428 0.09890559 0.10150331 0.09022249\n",
      "  0.09082381 0.09476849 0.09589898]]\n"
     ]
    }
   ],
   "source": [
    "print(\"THis is transpose of training data.It has only one column:\\n\\n\",train_data.transpose())\n",
    "print(\"THis is transpose of test data.It has only one column:\\n\\n\",test_data.transpose())"
   ]
  },
  {
   "cell_type": "markdown",
   "id": "3d0ffa90-4ee2-4e77-b3c9-6c593aad299d",
   "metadata": {},
   "source": [
    "### For example\n",
    "* consider Time series data---> Train -120,130,125,140,134,150 . This data are for differennt dates\n",
    "\n",
    "* Test----> 160,190,154,160,170\n",
    "\n",
    "`Timesteps = 3`\n",
    "\n",
    "`    X_train     y_train `            ` y_train        y_test `\n",
    "\n",
    "` f1  f2  f3      o/p   `            `    f1    f2    f3     o/p()  `           \n",
    "\n",
    "` 120  130  125     140 `             `    160  190  154      160`\n",
    "\n",
    "` 130  125  140     134  `             `    190  154  160      170`"
   ]
  },
  {
   "cell_type": "code",
   "execution_count": 209,
   "id": "7948ccd5-6b08-467b-968d-f8216a80144a",
   "metadata": {},
   "outputs": [],
   "source": [
    "# convert an array of values into a dataset matrix\n",
    "\n",
    "def create_dataset(dataset,time_step=1):\n",
    "    dataX = []\n",
    "    dataY = []\n",
    "    \n",
    "    for i in range(len(dataset)-time_step-1): #0,1,2,3,4....99(our time_step=100)\n",
    "        a = dataset[i:(i+time_step),0] # all the values from 0 to i+timestep and number of column =0\n",
    "        dataX.append(a) #append a\n",
    "        dataY.append(dataset[i + time_step,0]) # label. i+100,i+101,i+102....\n",
    "    \n",
    "    return np.array(dataX),np.array(dataY)"
   ]
  },
  {
   "cell_type": "code",
   "execution_count": 210,
   "id": "4d04da56-5e45-418c-9c76-375cf56f27b5",
   "metadata": {},
   "outputs": [],
   "source": [
    "# reshape into X =t,t+1,t+2,+t+3.....t+99 and Y= t+100 \n",
    "time_step = 100\n",
    "X_train,y_train = create_dataset(train_data,time_step)\n",
    "X_test,y_test = create_dataset(test_data,time_step)"
   ]
  },
  {
   "cell_type": "code",
   "execution_count": 211,
   "id": "7c4a1ede-7b64-48d0-9b47-e0cdc8425cb4",
   "metadata": {},
   "outputs": [
    {
     "name": "stdout",
     "output_type": "stream",
     "text": [
      "[0.0074083  0.00521948 0.         0.00043295 0.00851473 0.00757667\n",
      " 0.01015033 0.00928443 0.01173782 0.01464823 0.018184   0.02232111\n",
      " 0.02422129 0.02407697 0.02289838 0.01953097 0.01775105 0.01823211\n",
      " 0.01993987 0.02090198 0.02068551 0.02239327 0.02042093 0.01683704\n",
      " 0.01712568 0.01635598 0.01734215 0.01200241 0.01144919 0.01339747\n",
      " 0.01253157 0.01385448 0.00736019 0.004089   0.0078172  0.00976548\n",
      " 0.01265183 0.01334937 0.01118461 0.01248346 0.01346963 0.01524955\n",
      " 0.01597114 0.01702946 0.01570655 0.02032471 0.02030066 0.02282622\n",
      " 0.02292243 0.02313891 0.0218641  0.02001203 0.01683704 0.0152255\n",
      " 0.03033073 0.03367408 0.0333614  0.03778713 0.03401082 0.03716176\n",
      " 0.03735418 0.0412267  0.04336741 0.04442574 0.04247745 0.04230908\n",
      " 0.0429104  0.04603728 0.04579675 0.04541191 0.04507517 0.04574865\n",
      " 0.04370415 0.04452195 0.04254961 0.04144317 0.03992784 0.03963921\n",
      " 0.03766687 0.0379074  0.03942273 0.04182802 0.04175586 0.04334336\n",
      " 0.03651233 0.03076368 0.0363199  0.04235719 0.0515454  0.06068551\n",
      " 0.05912207 0.05589898 0.05587492 0.05582682 0.05840048 0.05380637\n",
      " 0.05421527 0.05472038 0.05678894 0.05253157]\n",
      "X_train shape (716, 100)\n",
      "X_test shape (340, 100)\n",
      "y_train shape (716,)\n",
      "y_test shape (340,)\n"
     ]
    }
   ],
   "source": [
    "print(X_train[0])\n",
    "print(\"X_train shape\",X_train.shape)\n",
    "\n",
    "print(\"X_test shape\",X_test.shape)\n",
    "\n",
    "print(\"y_train shape\",y_train.shape)\n",
    "print(\"y_test shape\",y_test.shape)"
   ]
  },
  {
   "cell_type": "code",
   "execution_count": 212,
   "id": "2b4a30fa-30be-4039-82f2-bb38e2e29388",
   "metadata": {},
   "outputs": [],
   "source": [
    "# reshape input to be [samples, time steps, features] which is required for LSTM\n",
    "\n",
    "X_train = X_train.reshape(X_train.shape[0],X_train.shape[1],1)\n",
    "X_test = X_test.reshape(X_test.shape[0],X_test.shape[1],1)"
   ]
  },
  {
   "cell_type": "code",
   "execution_count": 213,
   "id": "40b899a1-60c0-47d7-923c-46f6d19f70a6",
   "metadata": {},
   "outputs": [
    {
     "name": "stdout",
     "output_type": "stream",
     "text": [
      "Model: \"sequential_2\"\n",
      "_________________________________________________________________\n",
      "Layer (type)                 Output Shape              Param #   \n",
      "=================================================================\n",
      "lstm_6 (LSTM)                (None, 100, 50)           10400     \n",
      "_________________________________________________________________\n",
      "lstm_7 (LSTM)                (None, 100, 50)           20200     \n",
      "_________________________________________________________________\n",
      "lstm_8 (LSTM)                (None, 50)                20200     \n",
      "_________________________________________________________________\n",
      "dense_2 (Dense)              (None, 1)                 51        \n",
      "=================================================================\n",
      "Total params: 50,851\n",
      "Trainable params: 50,851\n",
      "Non-trainable params: 0\n",
      "_________________________________________________________________\n"
     ]
    }
   ],
   "source": [
    "#creating the model\n",
    "model = Sequential()\n",
    "model.add(LSTM(50,return_sequences=True,input_shape=(100,1)))\n",
    "model.add(LSTM(50,return_sequences=True))\n",
    "model.add(LSTM(50))\n",
    "model.add(Dense(1))\n",
    "model.compile(loss='mse',optimizer='adam')\n",
    "model.summary()"
   ]
  },
  {
   "cell_type": "code",
   "execution_count": 214,
   "id": "21dbcad3-dd1d-4061-8714-e708771a0660",
   "metadata": {},
   "outputs": [
    {
     "name": "stdout",
     "output_type": "stream",
     "text": [
      "Epoch 1/100\n",
      "12/12 [==============================] - 12s 226ms/step - loss: 0.0201 - val_loss: 0.0476\n",
      "Epoch 2/100\n",
      "12/12 [==============================] - 1s 49ms/step - loss: 0.0027 - val_loss: 0.0279\n",
      "Epoch 3/100\n",
      "12/12 [==============================] - 1s 60ms/step - loss: 0.0015 - val_loss: 0.0246\n",
      "Epoch 4/100\n",
      "12/12 [==============================] - 1s 57ms/step - loss: 6.7945e-04 - val_loss: 0.0200\n",
      "Epoch 5/100\n",
      "12/12 [==============================] - 1s 65ms/step - loss: 4.1262e-04 - val_loss: 0.0213\n",
      "Epoch 6/100\n",
      "12/12 [==============================] - 1s 65ms/step - loss: 4.3845e-04 - val_loss: 0.0197\n",
      "Epoch 7/100\n",
      "12/12 [==============================] - 1s 54ms/step - loss: 4.3120e-04 - val_loss: 0.0190\n",
      "Epoch 8/100\n",
      "12/12 [==============================] - 1s 58ms/step - loss: 3.7307e-04 - val_loss: 0.0185\n",
      "Epoch 9/100\n",
      "12/12 [==============================] - 1s 68ms/step - loss: 3.7659e-04 - val_loss: 0.0178\n",
      "Epoch 10/100\n",
      "12/12 [==============================] - 1s 58ms/step - loss: 3.6809e-04 - val_loss: 0.0173\n",
      "Epoch 11/100\n",
      "12/12 [==============================] - 1s 73ms/step - loss: 3.5538e-04 - val_loss: 0.0168\n",
      "Epoch 12/100\n",
      "12/12 [==============================] - 1s 69ms/step - loss: 3.4021e-04 - val_loss: 0.0162\n",
      "Epoch 13/100\n",
      "12/12 [==============================] - 1s 65ms/step - loss: 3.2719e-04 - val_loss: 0.0160\n",
      "Epoch 14/100\n",
      "12/12 [==============================] - 1s 63ms/step - loss: 3.0244e-04 - val_loss: 0.0153\n",
      "Epoch 15/100\n",
      "12/12 [==============================] - 1s 57ms/step - loss: 2.9761e-04 - val_loss: 0.0152\n",
      "Epoch 16/100\n",
      "12/12 [==============================] - 1s 62ms/step - loss: 3.4901e-04 - val_loss: 0.0144\n",
      "Epoch 17/100\n",
      "12/12 [==============================] - 1s 61ms/step - loss: 2.6401e-04 - val_loss: 0.0139\n",
      "Epoch 18/100\n",
      "12/12 [==============================] - 1s 62ms/step - loss: 2.4849e-04 - val_loss: 0.0138\n",
      "Epoch 19/100\n",
      "12/12 [==============================] - 1s 63ms/step - loss: 2.9851e-04 - val_loss: 0.0132\n",
      "Epoch 20/100\n",
      "12/12 [==============================] - 1s 68ms/step - loss: 2.7656e-04 - val_loss: 0.0131\n",
      "Epoch 21/100\n",
      "12/12 [==============================] - 1s 59ms/step - loss: 2.3803e-04 - val_loss: 0.0128\n",
      "Epoch 22/100\n",
      "12/12 [==============================] - 1s 60ms/step - loss: 2.3362e-04 - val_loss: 0.0126\n",
      "Epoch 23/100\n",
      "12/12 [==============================] - 1s 58ms/step - loss: 2.1051e-04 - val_loss: 0.0126\n",
      "Epoch 24/100\n",
      "12/12 [==============================] - 1s 58ms/step - loss: 2.2134e-04 - val_loss: 0.0123\n",
      "Epoch 25/100\n",
      "12/12 [==============================] - 1s 68ms/step - loss: 2.0910e-04 - val_loss: 0.0141\n",
      "Epoch 26/100\n",
      "12/12 [==============================] - 1s 68ms/step - loss: 3.2277e-04 - val_loss: 0.0117\n",
      "Epoch 27/100\n",
      "12/12 [==============================] - 1s 64ms/step - loss: 2.4128e-04 - val_loss: 0.0126\n",
      "Epoch 28/100\n",
      "12/12 [==============================] - 1s 57ms/step - loss: 2.2207e-04 - val_loss: 0.0115\n",
      "Epoch 29/100\n",
      "12/12 [==============================] - 1s 59ms/step - loss: 2.1879e-04 - val_loss: 0.0115\n",
      "Epoch 30/100\n",
      "12/12 [==============================] - 1s 64ms/step - loss: 2.0025e-04 - val_loss: 0.0121\n",
      "Epoch 31/100\n",
      "12/12 [==============================] - 1s 59ms/step - loss: 1.8606e-04 - val_loss: 0.0116\n",
      "Epoch 32/100\n",
      "12/12 [==============================] - 1s 64ms/step - loss: 1.9444e-04 - val_loss: 0.0115\n",
      "Epoch 33/100\n",
      "12/12 [==============================] - 1s 56ms/step - loss: 1.9464e-04 - val_loss: 0.0131\n",
      "Epoch 34/100\n",
      "12/12 [==============================] - 1s 59ms/step - loss: 2.2189e-04 - val_loss: 0.0110\n",
      "Epoch 35/100\n",
      "12/12 [==============================] - 1s 61ms/step - loss: 1.9330e-04 - val_loss: 0.0119\n",
      "Epoch 36/100\n",
      "12/12 [==============================] - 1s 78ms/step - loss: 1.7733e-04 - val_loss: 0.0106\n",
      "Epoch 37/100\n",
      "12/12 [==============================] - 1s 59ms/step - loss: 1.9854e-04 - val_loss: 0.0120\n",
      "Epoch 38/100\n",
      "12/12 [==============================] - 1s 58ms/step - loss: 2.1811e-04 - val_loss: 0.0102\n",
      "Epoch 39/100\n",
      "12/12 [==============================] - 1s 64ms/step - loss: 2.3564e-04 - val_loss: 0.0123\n",
      "Epoch 40/100\n",
      "12/12 [==============================] - 1s 59ms/step - loss: 2.0385e-04 - val_loss: 0.0105\n",
      "Epoch 41/100\n",
      "12/12 [==============================] - 1s 61ms/step - loss: 1.7414e-04 - val_loss: 0.0117\n",
      "Epoch 42/100\n",
      "12/12 [==============================] - 1s 59ms/step - loss: 1.7527e-04 - val_loss: 0.0104\n",
      "Epoch 43/100\n",
      "12/12 [==============================] - 1s 61ms/step - loss: 1.7743e-04 - val_loss: 0.0110\n",
      "Epoch 44/100\n",
      "12/12 [==============================] - 1s 61ms/step - loss: 1.5944e-04 - val_loss: 0.0107\n",
      "Epoch 45/100\n",
      "12/12 [==============================] - 1s 89ms/step - loss: 1.6447e-04 - val_loss: 0.0113\n",
      "Epoch 46/100\n",
      "12/12 [==============================] - 1s 80ms/step - loss: 1.7229e-04 - val_loss: 0.0102\n",
      "Epoch 47/100\n",
      "12/12 [==============================] - 1s 64ms/step - loss: 1.6610e-04 - val_loss: 0.0111\n",
      "Epoch 48/100\n",
      "12/12 [==============================] - 1s 60ms/step - loss: 1.6516e-04 - val_loss: 0.0104\n",
      "Epoch 49/100\n",
      "12/12 [==============================] - 1s 70ms/step - loss: 1.6752e-04 - val_loss: 0.0103\n",
      "Epoch 50/100\n",
      "12/12 [==============================] - 1s 63ms/step - loss: 1.5814e-04 - val_loss: 0.0100\n",
      "Epoch 51/100\n",
      "12/12 [==============================] - 1s 74ms/step - loss: 1.5460e-04 - val_loss: 0.0105\n",
      "Epoch 52/100\n",
      "12/12 [==============================] - 1s 79ms/step - loss: 1.6974e-04 - val_loss: 0.0093\n",
      "Epoch 53/100\n",
      "12/12 [==============================] - 1s 70ms/step - loss: 1.4827e-04 - val_loss: 0.0093\n",
      "Epoch 54/100\n",
      "12/12 [==============================] - 1s 68ms/step - loss: 1.4388e-04 - val_loss: 0.0112\n",
      "Epoch 55/100\n",
      "12/12 [==============================] - 1s 59ms/step - loss: 1.9794e-04 - val_loss: 0.0099\n",
      "Epoch 56/100\n",
      "12/12 [==============================] - 1s 60ms/step - loss: 1.4083e-04 - val_loss: 0.0094\n",
      "Epoch 57/100\n",
      "12/12 [==============================] - 1s 65ms/step - loss: 1.4281e-04 - val_loss: 0.0096\n",
      "Epoch 58/100\n",
      "12/12 [==============================] - 1s 63ms/step - loss: 1.3934e-04 - val_loss: 0.0094\n",
      "Epoch 59/100\n",
      "12/12 [==============================] - 1s 65ms/step - loss: 1.3640e-04 - val_loss: 0.0089\n",
      "Epoch 60/100\n",
      "12/12 [==============================] - 1s 61ms/step - loss: 1.4223e-04 - val_loss: 0.0090\n",
      "Epoch 61/100\n",
      "12/12 [==============================] - 1s 58ms/step - loss: 1.4499e-04 - val_loss: 0.0089\n",
      "Epoch 62/100\n",
      "12/12 [==============================] - 1s 65ms/step - loss: 1.3937e-04 - val_loss: 0.0086\n",
      "Epoch 63/100\n",
      "12/12 [==============================] - 1s 60ms/step - loss: 1.4492e-04 - val_loss: 0.0085\n",
      "Epoch 64/100\n",
      "12/12 [==============================] - 1s 82ms/step - loss: 1.3708e-04 - val_loss: 0.0090\n",
      "Epoch 65/100\n",
      "12/12 [==============================] - 1s 88ms/step - loss: 1.4140e-04 - val_loss: 0.0087\n",
      "Epoch 66/100\n",
      "12/12 [==============================] - 1s 86ms/step - loss: 1.4955e-04 - val_loss: 0.0089\n",
      "Epoch 67/100\n",
      "12/12 [==============================] - 1s 73ms/step - loss: 1.5892e-04 - val_loss: 0.0077\n",
      "Epoch 68/100\n",
      "12/12 [==============================] - 1s 87ms/step - loss: 1.2700e-04 - val_loss: 0.0079\n",
      "Epoch 69/100\n",
      "12/12 [==============================] - 1s 78ms/step - loss: 1.3379e-04 - val_loss: 0.0090\n",
      "Epoch 70/100\n",
      "12/12 [==============================] - 1s 77ms/step - loss: 1.4947e-04 - val_loss: 0.0082\n",
      "Epoch 71/100\n",
      "12/12 [==============================] - 1s 76ms/step - loss: 1.2861e-04 - val_loss: 0.0083\n",
      "Epoch 72/100\n",
      "12/12 [==============================] - 1s 69ms/step - loss: 1.2188e-04 - val_loss: 0.0079\n",
      "Epoch 73/100\n",
      "12/12 [==============================] - 1s 62ms/step - loss: 1.1585e-04 - val_loss: 0.0079\n",
      "Epoch 74/100\n",
      "12/12 [==============================] - 1s 61ms/step - loss: 1.2111e-04 - val_loss: 0.0074\n",
      "Epoch 75/100\n",
      "12/12 [==============================] - 1s 64ms/step - loss: 1.9119e-04 - val_loss: 0.0083\n",
      "Epoch 76/100\n",
      "12/12 [==============================] - 1s 66ms/step - loss: 1.3211e-04 - val_loss: 0.0076\n",
      "Epoch 77/100\n",
      "12/12 [==============================] - 1s 63ms/step - loss: 1.2176e-04 - val_loss: 0.0073\n",
      "Epoch 78/100\n",
      "12/12 [==============================] - 1s 68ms/step - loss: 1.2482e-04 - val_loss: 0.0074\n",
      "Epoch 79/100\n",
      "12/12 [==============================] - 1s 74ms/step - loss: 1.2223e-04 - val_loss: 0.0077\n",
      "Epoch 80/100\n",
      "12/12 [==============================] - 1s 74ms/step - loss: 1.1401e-04 - val_loss: 0.0075\n",
      "Epoch 81/100\n",
      "12/12 [==============================] - 1s 66ms/step - loss: 1.1148e-04 - val_loss: 0.0068\n",
      "Epoch 82/100\n",
      "12/12 [==============================] - 1s 64ms/step - loss: 1.3184e-04 - val_loss: 0.0071\n",
      "Epoch 83/100\n",
      "12/12 [==============================] - 1s 78ms/step - loss: 1.0716e-04 - val_loss: 0.0070\n",
      "Epoch 84/100\n",
      "12/12 [==============================] - 1s 74ms/step - loss: 1.1008e-04 - val_loss: 0.0070\n",
      "Epoch 85/100\n",
      "12/12 [==============================] - 1s 83ms/step - loss: 1.0957e-04 - val_loss: 0.0066\n",
      "Epoch 86/100\n",
      "12/12 [==============================] - 1s 72ms/step - loss: 1.0745e-04 - val_loss: 0.0070\n",
      "Epoch 87/100\n",
      "12/12 [==============================] - 1s 68ms/step - loss: 1.1992e-04 - val_loss: 0.0068\n",
      "Epoch 88/100\n",
      "12/12 [==============================] - 1s 63ms/step - loss: 9.6649e-05 - val_loss: 0.0067\n",
      "Epoch 89/100\n",
      "12/12 [==============================] - 1s 73ms/step - loss: 1.0366e-04 - val_loss: 0.0067\n",
      "Epoch 90/100\n",
      "12/12 [==============================] - 1s 76ms/step - loss: 1.0116e-04 - val_loss: 0.0066\n",
      "Epoch 91/100\n",
      "12/12 [==============================] - 1s 63ms/step - loss: 9.4378e-05 - val_loss: 0.0067\n",
      "Epoch 92/100\n",
      "12/12 [==============================] - 1s 67ms/step - loss: 1.1815e-04 - val_loss: 0.0067\n",
      "Epoch 93/100\n",
      "12/12 [==============================] - 1s 71ms/step - loss: 1.0532e-04 - val_loss: 0.0063\n",
      "Epoch 94/100\n",
      "12/12 [==============================] - 1s 71ms/step - loss: 1.0230e-04 - val_loss: 0.0063\n",
      "Epoch 95/100\n",
      "12/12 [==============================] - 1s 67ms/step - loss: 9.0734e-05 - val_loss: 0.0064\n",
      "Epoch 96/100\n",
      "12/12 [==============================] - 1s 64ms/step - loss: 1.0212e-04 - val_loss: 0.0065\n",
      "Epoch 97/100\n",
      "12/12 [==============================] - 1s 83ms/step - loss: 1.0432e-04 - val_loss: 0.0070\n",
      "Epoch 98/100\n",
      "12/12 [==============================] - 1s 69ms/step - loss: 1.2021e-04 - val_loss: 0.0061\n",
      "Epoch 99/100\n",
      "12/12 [==============================] - 1s 70ms/step - loss: 9.6247e-05 - val_loss: 0.0061\n",
      "Epoch 100/100\n",
      "12/12 [==============================] - 1s 82ms/step - loss: 1.0292e-04 - val_loss: 0.0061\n"
     ]
    },
    {
     "data": {
      "text/plain": [
       "<tensorflow.python.keras.callbacks.History at 0x19b8a945e20>"
      ]
     },
     "execution_count": 214,
     "metadata": {},
     "output_type": "execute_result"
    }
   ],
   "source": [
    "model.fit(X_train,y_train,validation_data=(X_test,y_test),epochs=100,batch_size=64,verbose=1)"
   ]
  },
  {
   "cell_type": "code",
   "execution_count": 215,
   "id": "ea3ab272-0f4e-4e4a-ae27-832cfaaf772d",
   "metadata": {},
   "outputs": [],
   "source": [
    "model.save(\"Apple_Model.h5\")"
   ]
  },
  {
   "cell_type": "code",
   "execution_count": 216,
   "id": "4950a696-8285-4ca8-973c-caced69a50ea",
   "metadata": {},
   "outputs": [],
   "source": [
    "from keras.models import load_model\n",
    "model = load_model(\"Apple_Model.h5\")"
   ]
  },
  {
   "cell_type": "code",
   "execution_count": 217,
   "id": "d5e9a9c5-2713-4a08-960a-4fdecf29262d",
   "metadata": {},
   "outputs": [],
   "source": [
    "#Let's do prediction and check performance matrix\n",
    "train_predict = model.predict(X_train)\n",
    "test_predict = model.predict(X_test)\n",
    "\n"
   ]
  },
  {
   "cell_type": "code",
   "execution_count": 218,
   "id": "95190eaa-d835-4163-a2d6-56534d6e2588",
   "metadata": {},
   "outputs": [],
   "source": [
    "#Transform back to the original form\n",
    "\n",
    "#we already did scaling and now need tto do reverse scaling\n",
    "#SInce we'll be doing RMSE Reverse mean squared error we do reverse scaling\n",
    "\n",
    "train_predict = scaler.inverse_transform(train_predict)\n",
    "test_predict = scaler.inverse_transform(test_predict)"
   ]
  },
  {
   "cell_type": "code",
   "execution_count": 219,
   "id": "9629b40c-6dc0-4b5a-ad90-a38c011e20a3",
   "metadata": {},
   "outputs": [
    {
     "data": {
      "text/plain": [
       "170.943134602437"
      ]
     },
     "execution_count": 219,
     "metadata": {},
     "output_type": "execute_result"
    }
   ],
   "source": [
    "#Calculate RMSE performance matrix\n",
    "import math\n",
    "from sklearn.metrics import mean_squared_error\n",
    "math.sqrt(mean_squared_error(y_train,train_predict))"
   ]
  },
  {
   "cell_type": "code",
   "execution_count": 220,
   "id": "3ff5e6b6-ce79-4419-b6f6-897d1f40c804",
   "metadata": {},
   "outputs": [
    {
     "data": {
      "text/plain": [
       "254.48303537494178"
      ]
     },
     "execution_count": 220,
     "metadata": {},
     "output_type": "execute_result"
    }
   ],
   "source": [
    "#Test data RMSE\n",
    "math.sqrt(mean_squared_error(y_test,test_predict))"
   ]
  },
  {
   "cell_type": "markdown",
   "id": "388676db-50f8-491e-ac8b-69f59c7e6178",
   "metadata": {},
   "source": [
    "# plotting"
   ]
  },
  {
   "cell_type": "code",
   "execution_count": 221,
   "id": "3385b952-7426-4612-802e-79f37f3b8692",
   "metadata": {},
   "outputs": [],
   "source": [
    "#shift train predictions for plotting\n",
    "look_back=100\n",
    "trainPredictPlot = np.empty_like(df1)\n"
   ]
  },
  {
   "cell_type": "code",
   "execution_count": 222,
   "id": "23cd0c47-73d5-44d7-be28-6bad18ce4e30",
   "metadata": {},
   "outputs": [
    {
     "data": {
      "text/plain": [
       "[<matplotlib.lines.Line2D at 0x19b9607bca0>]"
      ]
     },
     "execution_count": 222,
     "metadata": {},
     "output_type": "execute_result"
    },
    {
     "data": {
      "image/png": "[encoded data removed]",
      "text/plain": [
       "<Figure size 432x288 with 1 Axes>"
      ]
     },
     "metadata": {
      "needs_background": "light"
     },
     "output_type": "display_data"
    }
   ],
   "source": [
    "plt.plot(trainPredictPlot)"
   ]
  },
  {
   "cell_type": "code",
   "execution_count": 223,
   "id": "71bf3df0-87a4-4bcb-bfe3-51208322c598",
   "metadata": {},
   "outputs": [
    {
     "data": {
      "text/plain": [
       "[<matplotlib.lines.Line2D at 0x19b960e03d0>]"
      ]
     },
     "execution_count": 223,
     "metadata": {},
     "output_type": "execute_result"
    },
    {
     "data": {
      "image/png": "[encoded data removed]",
      "text/plain": [
       "<Figure size 432x288 with 1 Axes>"
      ]
     },
     "metadata": {
      "needs_background": "light"
     },
     "output_type": "display_data"
    }
   ],
   "source": [
    "trainPredictPlot[:,:] = np.nan\n",
    "plt.plot(trainPredictPlot)\n",
    "\n",
    "#we takr nan value based on the size of df1"
   ]
  },
  {
   "cell_type": "code",
   "execution_count": 224,
   "id": "49f74061-ffc5-48ee-a534-3553bc983e0a",
   "metadata": {},
   "outputs": [],
   "source": [
    "trainPredictPlot[look_back:len(train_predict)+look_back,:] = train_predict"
   ]
  },
  {
   "cell_type": "code",
   "execution_count": 225,
   "id": "942868e0-4fce-46af-9b50-8b8f4eda5e0b",
   "metadata": {},
   "outputs": [
    {
     "data": {
      "text/plain": [
       "[<matplotlib.lines.Line2D at 0x19b961324f0>]"
      ]
     },
     "execution_count": 225,
     "metadata": {},
     "output_type": "execute_result"
    },
    {
     "data": {
      "image/png": "[encoded data removed]",
      "text/plain": [
       "<Figure size 432x288 with 1 Axes>"
      ]
     },
     "metadata": {
      "needs_background": "light"
     },
     "output_type": "display_data"
    }
   ],
   "source": [
    "plt.plot(trainPredictPlot[look_back:len(train_predict)+look_back,:] )"
   ]
  },
  {
   "cell_type": "code",
   "execution_count": 226,
   "id": "b9efceb1-abe0-47a7-93f7-9b5514d91b76",
   "metadata": {},
   "outputs": [
    {
     "data": {
      "text/plain": [
       "[<matplotlib.lines.Line2D at 0x19b9618c5b0>]"
      ]
     },
     "execution_count": 226,
     "metadata": {},
     "output_type": "execute_result"
    },
    {
     "data": {
      "image/png": "[encoded data removed]",
      "text/plain": [
       "<Figure size 432x288 with 1 Axes>"
      ]
     },
     "metadata": {
      "needs_background": "light"
     },
     "output_type": "display_data"
    }
   ],
   "source": [
    "#shift test prediction for plotting\n",
    "testPredictPlot = np.empty_like(df1)\n",
    "plt.plot(testPredictPlot)"
   ]
  },
  {
   "cell_type": "code",
   "execution_count": 227,
   "id": "71096ea0-b6d8-4b60-8ae3-ffc2ab1c8057",
   "metadata": {},
   "outputs": [
    {
     "data": {
      "text/plain": [
       "[<matplotlib.lines.Line2D at 0x19b961e8160>]"
      ]
     },
     "execution_count": 227,
     "metadata": {},
     "output_type": "execute_result"
    },
    {
     "data": {
      "image/png": "[encoded data removed]",
      "text/plain": [
       "<Figure size 432x288 with 1 Axes>"
      ]
     },
     "metadata": {
      "needs_background": "light"
     },
     "output_type": "display_data"
    }
   ],
   "source": [
    "testPredictPlot[:,:] = np.nan\n",
    "plt.plot(testPredictPlot[:,:])"
   ]
  },
  {
   "cell_type": "code",
   "execution_count": 228,
   "id": "96ed41c5-9fb2-484b-928f-b27b4d54e770",
   "metadata": {},
   "outputs": [],
   "source": [
    "testPredictPlot[len(train_predict)+(look_back*2)+1:len(df1)-1,:] = test_predict"
   ]
  },
  {
   "cell_type": "code",
   "execution_count": 229,
   "id": "88abf5ba-b280-4457-8c8d-1d79c52c69dc",
   "metadata": {},
   "outputs": [
    {
     "data": {
      "text/plain": [
       "[<matplotlib.lines.Line2D at 0x19b9622ed90>]"
      ]
     },
     "execution_count": 229,
     "metadata": {},
     "output_type": "execute_result"
    },
    {
     "data": {
      "image/png": "[encoded data removed]",
      "text/plain": [
       "<Figure size 432x288 with 1 Axes>"
      ]
     },
     "metadata": {
      "needs_background": "light"
     },
     "output_type": "display_data"
    }
   ],
   "source": [
    "plt.plot(test_predict)"
   ]
  },
  {
   "cell_type": "code",
   "execution_count": 230,
   "id": "360cdb92-a47e-4222-8ca7-83e8db0bd720",
   "metadata": {},
   "outputs": [
    {
     "data": {
      "text/plain": [
       "[<matplotlib.lines.Line2D at 0x19b9628adf0>]"
      ]
     },
     "execution_count": 230,
     "metadata": {},
     "output_type": "execute_result"
    },
    {
     "data": {
      "image/png": "[encoded data removed]",
      "text/plain": [
       "<Figure size 432x288 with 1 Axes>"
      ]
     },
     "metadata": {
      "needs_background": "light"
     },
     "output_type": "display_data"
    }
   ],
   "source": [
    "#plot baseline and predictions\n",
    "plt.plot(scaler.inverse_transform(df1))\n",
    "\n"
   ]
  },
  {
   "cell_type": "code",
   "execution_count": 231,
   "id": "b50bf05a-0bc1-4072-bbc2-ea234f1b66f1",
   "metadata": {},
   "outputs": [
    {
     "data": {
      "text/plain": [
       "[<matplotlib.lines.Line2D at 0x19b962e9490>]"
      ]
     },
     "execution_count": 231,
     "metadata": {},
     "output_type": "execute_result"
    },
    {
     "data": {
      "image/png": "[encoded data removed]",
      "text/plain": [
       "<Figure size 432x288 with 1 Axes>"
      ]
     },
     "metadata": {
      "needs_background": "light"
     },
     "output_type": "display_data"
    }
   ],
   "source": [
    "plt.plot(trainPredictPlot\n",
    "        \n",
    "        \n",
    "        \n",
    "        \n",
    "        \n",
    "        \n",
    "        )"
   ]
  },
  {
   "cell_type": "code",
   "execution_count": 232,
   "id": "3dd9a76c-061b-4178-82c3-d5de844d6c19",
   "metadata": {},
   "outputs": [
    {
     "data": {
      "text/plain": [
       "[<matplotlib.lines.Line2D at 0x19b9633e9a0>]"
      ]
     },
     "execution_count": 232,
     "metadata": {},
     "output_type": "execute_result"
    },
    {
     "data": {
      "image/png": "[encoded data removed]",
      "text/plain": [
       "<Figure size 432x288 with 1 Axes>"
      ]
     },
     "metadata": {
      "needs_background": "light"
     },
     "output_type": "display_data"
    }
   ],
   "source": [
    "plt.plot(testPredictPlot)"
   ]
  },
  {
   "cell_type": "code",
   "execution_count": 233,
   "id": "e4fbb0be-e9d4-435e-ab23-a4f2df34aaca",
   "metadata": {},
   "outputs": [
    {
     "data": {
      "image/png": "[encoded data removed]",
      "text/plain": [
       "<Figure size 432x288 with 1 Axes>"
      ]
     },
     "metadata": {
      "needs_background": "light"
     },
     "output_type": "display_data"
    }
   ],
   "source": [
    "# ALL together\n",
    "look_back = 100\n",
    "trainPredictPlot = np.empty_like(df1)\n",
    "trainPredictPlot[:,:] = np.nan\n",
    "#we take all nan value based on the size of df1\n",
    "trainPredictPlot[look_back:len(train_predict)+look_back,:] =train_predict\n",
    "\n",
    "#Shift test prediction for plotting\n",
    "testPredictPlot = np.empty_like(df1)\n",
    "testPredictPlot[:,:] = np.nan\n",
    "\n",
    "testPredictPlot[len(train_predict)+(look_back*2)+1:len(df1)-1,:] = test_predict\n",
    "\n",
    "#plot baseline and predictions\n",
    "plt.plot(scaler.inverse_transform(df1),label='inverse transform')\n",
    "plt.plot(trainPredictPlot,label='train_predict')\n",
    "plt.plot(testPredictPlot,label='test predict')\n",
    "plt.legend()\n",
    "plt.show()\n",
    "\n",
    "\n"
   ]
  },
  {
   "cell_type": "code",
   "execution_count": 234,
   "id": "b740f030-da41-4688-9a60-1bb66cfc95c4",
   "metadata": {},
   "outputs": [
    {
     "data": {
      "text/plain": [
       "441"
      ]
     },
     "execution_count": 234,
     "metadata": {},
     "output_type": "execute_result"
    }
   ],
   "source": [
    "len(test_data)\n",
    "#suppose the last date is of 09-05-2021 we need to predict for future 30 days from 09-05-2021\n",
    "# for 09-05-2021 we'll be considering data of last 100 days to train"
   ]
  },
  {
   "cell_type": "code",
   "execution_count": 235,
   "id": "581ff3d7-4f41-40c5-bd59-d75e44276203",
   "metadata": {},
   "outputs": [
    {
     "data": {
      "text/plain": [
       "(1, 100)"
      ]
     },
     "execution_count": 235,
     "metadata": {},
     "output_type": "execute_result"
    }
   ],
   "source": [
    "x_input = test_data[341:].reshape(1,-1) #last 100 days\n",
    "x_input.shape"
   ]
  },
  {
   "cell_type": "code",
   "execution_count": 236,
   "id": "82dbaf9f-73b4-4538-93b2-73ae08e3f82b",
   "metadata": {},
   "outputs": [
    {
     "data": {
      "text/plain": [
       "numpy.ndarray"
      ]
     },
     "execution_count": 236,
     "metadata": {},
     "output_type": "execute_result"
    }
   ],
   "source": [
    "type(x_input)"
   ]
  },
  {
   "cell_type": "code",
   "execution_count": 237,
   "id": "17f6557f-9ffe-4bea-8dbf-034dc1a1ce78",
   "metadata": {},
   "outputs": [],
   "source": [
    "#connverting x_input from numpy.ndarray to list\n",
    "temp_input = list(x_input)\n",
    "temp_input = temp_input[0].tolist()"
   ]
  },
  {
   "cell_type": "code",
   "execution_count": 238,
   "id": "cf59836b-c6ea-4097-9fbc-d6c50c77ed50",
   "metadata": {},
   "outputs": [
    {
     "data": {
      "text/plain": [
       "[0.07562236921226695,\n",
       " 0.0902946482260974,\n",
       " 0.0901262778111846,\n",
       " 0.09226698737221883,\n",
       " 0.08734816596512324,\n",
       " 0.0911365003006614,\n",
       " 0.09991581479254358,\n",
       " 0.09770294648226097,\n",
       " 0.10013229104028859,\n",
       " 0.11148526758869509,\n",
       " 0.10710763680096214,\n",
       " 0.1043415514131088,\n",
       " 0.10186410102224891,\n",
       " 0.09397474443776305,\n",
       " 0.0978232110643415,\n",
       " 0.08721587492483462,\n",
       " 0.09760673481659649,\n",
       " 0.10032471437161755,\n",
       " 0.09294046903187009,\n",
       " 0.09250751653638006,\n",
       " 0.09753457606734811,\n",
       " 0.09277209861695729,\n",
       " 0.08851473241130486,\n",
       " 0.09017438364401681,\n",
       " 0.10027660853878534,\n",
       " 0.11191822008418523,\n",
       " 0.11720986169573056,\n",
       " 0.12647023451593503,\n",
       " 0.1270475045099218,\n",
       " 0.12440168370414911,\n",
       " 0.11244738424533973,\n",
       " 0.10010823812387254,\n",
       " 0.10535177390258565,\n",
       " 0.10739627179795552,\n",
       " 0.10487071557426336,\n",
       " 0.11316897173782314,\n",
       " 0.11165363800360789,\n",
       " 0.11201443174984965,\n",
       " 0.10984966927239925,\n",
       " 0.10835838845460005,\n",
       " 0.10773301262778107,\n",
       " 0.1083102826217679,\n",
       " 0.10306674684305472,\n",
       " 0.09741431148526758,\n",
       " 0.09469633193024657,\n",
       " 0.09508117859290438,\n",
       " 0.08577269993986769,\n",
       " 0.08543595911004209,\n",
       " 0.08420926037282017,\n",
       " 0.07372218881539383,\n",
       " 0.07437161755862898,\n",
       " 0.09007817197835238,\n",
       " 0.08365604329524956,\n",
       " 0.0762958508719182,\n",
       " 0.07165363800360791,\n",
       " 0.07475646422128684,\n",
       " 0.0625856885147324,\n",
       " 0.07395069152134692,\n",
       " 0.0712928442573662,\n",
       " 0.07605532170775703,\n",
       " 0.07381840048105831,\n",
       " 0.0809380637402285,\n",
       " 0.08473842453397473,\n",
       " 0.0827901383042694,\n",
       " 0.07261575466025255,\n",
       " 0.07131689717378231,\n",
       " 0.07949488875526156,\n",
       " 0.07745039085989175,\n",
       " 0.07155742633794349,\n",
       " 0.07276007215874924,\n",
       " 0.07425135297654839,\n",
       " 0.07468430547203847,\n",
       " 0.0711004209260373,\n",
       " 0.07651232711966327,\n",
       " 0.07855682501503308,\n",
       " 0.08553217077570657,\n",
       " 0.08627781118460609,\n",
       " 0.09034275405892966,\n",
       " 0.09625977149729409,\n",
       " 0.10259771497294046,\n",
       " 0.09837642814191222,\n",
       " 0.10604930847865301,\n",
       " 0.10027660853878534,\n",
       " 0.10621767889356581,\n",
       " 0.10539987973541787,\n",
       " 0.10703547805171376,\n",
       " 0.10287432351172582,\n",
       " 0.1038123872519543,\n",
       " 0.10006013229104027,\n",
       " 0.10578472639807573,\n",
       " 0.10674684305472038,\n",
       " 0.10595309681298853,\n",
       " 0.10400481058328326,\n",
       " 0.10376428141912203,\n",
       " 0.09890559230306673,\n",
       " 0.1015033072760072,\n",
       " 0.09022248947684902,\n",
       " 0.0908238123872519,\n",
       " 0.09476849067949489,\n",
       " 0.09589897775105233]"
      ]
     },
     "execution_count": 238,
     "metadata": {},
     "output_type": "execute_result"
    }
   ],
   "source": [
    "temp_input\n",
    "#this is previous 100 days value"
   ]
  },
  {
   "cell_type": "code",
   "execution_count": 239,
   "id": "a2c800c6-f00c-4c78-a269-8e45f1d50c35",
   "metadata": {},
   "outputs": [
    {
     "name": "stdout",
     "output_type": "stream",
     "text": [
      "[0.09723116]\n",
      "1 day input [0.09029465 0.09012628 0.09226699 0.08734817 0.0911365  0.09991581\n",
      " 0.09770295 0.10013229 0.11148527 0.10710764 0.10434155 0.1018641\n",
      " 0.09397474 0.09782321 0.08721587 0.09760673 0.10032471 0.09294047\n",
      " 0.09250752 0.09753458 0.0927721  0.08851473 0.09017438 0.10027661\n",
      " 0.11191822 0.11720986 0.12647023 0.1270475  0.12440168 0.11244738\n",
      " 0.10010824 0.10535177 0.10739627 0.10487072 0.11316897 0.11165364\n",
      " 0.11201443 0.10984967 0.10835839 0.10773301 0.10831028 0.10306675\n",
      " 0.09741431 0.09469633 0.09508118 0.0857727  0.08543596 0.08420926\n",
      " 0.07372219 0.07437162 0.09007817 0.08365604 0.07629585 0.07165364\n",
      " 0.07475646 0.06258569 0.07395069 0.07129284 0.07605532 0.0738184\n",
      " 0.08093806 0.08473842 0.08279014 0.07261575 0.0713169  0.07949489\n",
      " 0.07745039 0.07155743 0.07276007 0.07425135 0.07468431 0.07110042\n",
      " 0.07651233 0.07855683 0.08553217 0.08627781 0.09034275 0.09625977\n",
      " 0.10259771 0.09837643 0.10604931 0.10027661 0.10621768 0.10539988\n",
      " 0.10703548 0.10287432 0.10381239 0.10006013 0.10578473 0.10674684\n",
      " 0.1059531  0.10400481 0.10376428 0.09890559 0.10150331 0.09022249\n",
      " 0.09082381 0.09476849 0.09589898 0.09723116]\n",
      "1 day output [[0.09716365]]\n",
      "2 day input [0.09012628 0.09226699 0.08734817 0.0911365  0.09991581 0.09770295\n",
      " 0.10013229 0.11148527 0.10710764 0.10434155 0.1018641  0.09397474\n",
      " 0.09782321 0.08721587 0.09760673 0.10032471 0.09294047 0.09250752\n",
      " 0.09753458 0.0927721  0.08851473 0.09017438 0.10027661 0.11191822\n",
      " 0.11720986 0.12647023 0.1270475  0.12440168 0.11244738 0.10010824\n",
      " 0.10535177 0.10739627 0.10487072 0.11316897 0.11165364 0.11201443\n",
      " 0.10984967 0.10835839 0.10773301 0.10831028 0.10306675 0.09741431\n",
      " 0.09469633 0.09508118 0.0857727  0.08543596 0.08420926 0.07372219\n",
      " 0.07437162 0.09007817 0.08365604 0.07629585 0.07165364 0.07475646\n",
      " 0.06258569 0.07395069 0.07129284 0.07605532 0.0738184  0.08093806\n",
      " 0.08473842 0.08279014 0.07261575 0.0713169  0.07949489 0.07745039\n",
      " 0.07155743 0.07276007 0.07425135 0.07468431 0.07110042 0.07651233\n",
      " 0.07855683 0.08553217 0.08627781 0.09034275 0.09625977 0.10259771\n",
      " 0.09837643 0.10604931 0.10027661 0.10621768 0.10539988 0.10703548\n",
      " 0.10287432 0.10381239 0.10006013 0.10578473 0.10674684 0.1059531\n",
      " 0.10400481 0.10376428 0.09890559 0.10150331 0.09022249 0.09082381\n",
      " 0.09476849 0.09589898 0.09723116 0.09716365]\n",
      "2 day output [[0.09782588]]\n",
      "3 day input [0.09226699 0.08734817 0.0911365  0.09991581 0.09770295 0.10013229\n",
      " 0.11148527 0.10710764 0.10434155 0.1018641  0.09397474 0.09782321\n",
      " 0.08721587 0.09760673 0.10032471 0.09294047 0.09250752 0.09753458\n",
      " 0.0927721  0.08851473 0.09017438 0.10027661 0.11191822 0.11720986\n",
      " 0.12647023 0.1270475  0.12440168 0.11244738 0.10010824 0.10535177\n",
      " 0.10739627 0.10487072 0.11316897 0.11165364 0.11201443 0.10984967\n",
      " 0.10835839 0.10773301 0.10831028 0.10306675 0.09741431 0.09469633\n",
      " 0.09508118 0.0857727  0.08543596 0.08420926 0.07372219 0.07437162\n",
      " 0.09007817 0.08365604 0.07629585 0.07165364 0.07475646 0.06258569\n",
      " 0.07395069 0.07129284 0.07605532 0.0738184  0.08093806 0.08473842\n",
      " 0.08279014 0.07261575 0.0713169  0.07949489 0.07745039 0.07155743\n",
      " 0.07276007 0.07425135 0.07468431 0.07110042 0.07651233 0.07855683\n",
      " 0.08553217 0.08627781 0.09034275 0.09625977 0.10259771 0.09837643\n",
      " 0.10604931 0.10027661 0.10621768 0.10539988 0.10703548 0.10287432\n",
      " 0.10381239 0.10006013 0.10578473 0.10674684 0.1059531  0.10400481\n",
      " 0.10376428 0.09890559 0.10150331 0.09022249 0.09082381 0.09476849\n",
      " 0.09589898 0.09723116 0.09716365 0.09782588]\n",
      "3 day output [[0.09885994]]\n",
      "4 day input [0.08734817 0.0911365  0.09991581 0.09770295 0.10013229 0.11148527\n",
      " 0.10710764 0.10434155 0.1018641  0.09397474 0.09782321 0.08721587\n",
      " 0.09760673 0.10032471 0.09294047 0.09250752 0.09753458 0.0927721\n",
      " 0.08851473 0.09017438 0.10027661 0.11191822 0.11720986 0.12647023\n",
      " 0.1270475  0.12440168 0.11244738 0.10010824 0.10535177 0.10739627\n",
      " 0.10487072 0.11316897 0.11165364 0.11201443 0.10984967 0.10835839\n",
      " 0.10773301 0.10831028 0.10306675 0.09741431 0.09469633 0.09508118\n",
      " 0.0857727  0.08543596 0.08420926 0.07372219 0.07437162 0.09007817\n",
      " 0.08365604 0.07629585 0.07165364 0.07475646 0.06258569 0.07395069\n",
      " 0.07129284 0.07605532 0.0738184  0.08093806 0.08473842 0.08279014\n",
      " 0.07261575 0.0713169  0.07949489 0.07745039 0.07155743 0.07276007\n",
      " 0.07425135 0.07468431 0.07110042 0.07651233 0.07855683 0.08553217\n",
      " 0.08627781 0.09034275 0.09625977 0.10259771 0.09837643 0.10604931\n",
      " 0.10027661 0.10621768 0.10539988 0.10703548 0.10287432 0.10381239\n",
      " 0.10006013 0.10578473 0.10674684 0.1059531  0.10400481 0.10376428\n",
      " 0.09890559 0.10150331 0.09022249 0.09082381 0.09476849 0.09589898\n",
      " 0.09723116 0.09716365 0.09782588 0.09885994]\n",
      "4 day output [[0.10002499]]\n",
      "5 day input [0.0911365  0.09991581 0.09770295 0.10013229 0.11148527 0.10710764\n",
      " 0.10434155 0.1018641  0.09397474 0.09782321 0.08721587 0.09760673\n",
      " 0.10032471 0.09294047 0.09250752 0.09753458 0.0927721  0.08851473\n",
      " 0.09017438 0.10027661 0.11191822 0.11720986 0.12647023 0.1270475\n",
      " 0.12440168 0.11244738 0.10010824 0.10535177 0.10739627 0.10487072\n",
      " 0.11316897 0.11165364 0.11201443 0.10984967 0.10835839 0.10773301\n",
      " 0.10831028 0.10306675 0.09741431 0.09469633 0.09508118 0.0857727\n",
      " 0.08543596 0.08420926 0.07372219 0.07437162 0.09007817 0.08365604\n",
      " 0.07629585 0.07165364 0.07475646 0.06258569 0.07395069 0.07129284\n",
      " 0.07605532 0.0738184  0.08093806 0.08473842 0.08279014 0.07261575\n",
      " 0.0713169  0.07949489 0.07745039 0.07155743 0.07276007 0.07425135\n",
      " 0.07468431 0.07110042 0.07651233 0.07855683 0.08553217 0.08627781\n",
      " 0.09034275 0.09625977 0.10259771 0.09837643 0.10604931 0.10027661\n",
      " 0.10621768 0.10539988 0.10703548 0.10287432 0.10381239 0.10006013\n",
      " 0.10578473 0.10674684 0.1059531  0.10400481 0.10376428 0.09890559\n",
      " 0.10150331 0.09022249 0.09082381 0.09476849 0.09589898 0.09723116\n",
      " 0.09716365 0.09782588 0.09885994 0.10002499]\n",
      "5 day output [[0.10118768]]\n",
      "6 day input [0.09991581 0.09770295 0.10013229 0.11148527 0.10710764 0.10434155\n",
      " 0.1018641  0.09397474 0.09782321 0.08721587 0.09760673 0.10032471\n",
      " 0.09294047 0.09250752 0.09753458 0.0927721  0.08851473 0.09017438\n",
      " 0.10027661 0.11191822 0.11720986 0.12647023 0.1270475  0.12440168\n",
      " 0.11244738 0.10010824 0.10535177 0.10739627 0.10487072 0.11316897\n",
      " 0.11165364 0.11201443 0.10984967 0.10835839 0.10773301 0.10831028\n",
      " 0.10306675 0.09741431 0.09469633 0.09508118 0.0857727  0.08543596\n",
      " 0.08420926 0.07372219 0.07437162 0.09007817 0.08365604 0.07629585\n",
      " 0.07165364 0.07475646 0.06258569 0.07395069 0.07129284 0.07605532\n",
      " 0.0738184  0.08093806 0.08473842 0.08279014 0.07261575 0.0713169\n",
      " 0.07949489 0.07745039 0.07155743 0.07276007 0.07425135 0.07468431\n",
      " 0.07110042 0.07651233 0.07855683 0.08553217 0.08627781 0.09034275\n",
      " 0.09625977 0.10259771 0.09837643 0.10604931 0.10027661 0.10621768\n",
      " 0.10539988 0.10703548 0.10287432 0.10381239 0.10006013 0.10578473\n",
      " 0.10674684 0.1059531  0.10400481 0.10376428 0.09890559 0.10150331\n",
      " 0.09022249 0.09082381 0.09476849 0.09589898 0.09723116 0.09716365\n",
      " 0.09782588 0.09885994 0.10002499 0.10118768]\n",
      "6 day output [[0.10228298]]\n",
      "7 day input [0.09770295 0.10013229 0.11148527 0.10710764 0.10434155 0.1018641\n",
      " 0.09397474 0.09782321 0.08721587 0.09760673 0.10032471 0.09294047\n",
      " 0.09250752 0.09753458 0.0927721  0.08851473 0.09017438 0.10027661\n",
      " 0.11191822 0.11720986 0.12647023 0.1270475  0.12440168 0.11244738\n",
      " 0.10010824 0.10535177 0.10739627 0.10487072 0.11316897 0.11165364\n",
      " 0.11201443 0.10984967 0.10835839 0.10773301 0.10831028 0.10306675\n",
      " 0.09741431 0.09469633 0.09508118 0.0857727  0.08543596 0.08420926\n",
      " 0.07372219 0.07437162 0.09007817 0.08365604 0.07629585 0.07165364\n",
      " 0.07475646 0.06258569 0.07395069 0.07129284 0.07605532 0.0738184\n",
      " 0.08093806 0.08473842 0.08279014 0.07261575 0.0713169  0.07949489\n",
      " 0.07745039 0.07155743 0.07276007 0.07425135 0.07468431 0.07110042\n",
      " 0.07651233 0.07855683 0.08553217 0.08627781 0.09034275 0.09625977\n",
      " 0.10259771 0.09837643 0.10604931 0.10027661 0.10621768 0.10539988\n",
      " 0.10703548 0.10287432 0.10381239 0.10006013 0.10578473 0.10674684\n",
      " 0.1059531  0.10400481 0.10376428 0.09890559 0.10150331 0.09022249\n",
      " 0.09082381 0.09476849 0.09589898 0.09723116 0.09716365 0.09782588\n",
      " 0.09885994 0.10002499 0.10118768 0.10228298]\n",
      "7 day output [[0.10328234]]\n",
      "8 day input [0.10013229 0.11148527 0.10710764 0.10434155 0.1018641  0.09397474\n",
      " 0.09782321 0.08721587 0.09760673 0.10032471 0.09294047 0.09250752\n",
      " 0.09753458 0.0927721  0.08851473 0.09017438 0.10027661 0.11191822\n",
      " 0.11720986 0.12647023 0.1270475  0.12440168 0.11244738 0.10010824\n",
      " 0.10535177 0.10739627 0.10487072 0.11316897 0.11165364 0.11201443\n",
      " 0.10984967 0.10835839 0.10773301 0.10831028 0.10306675 0.09741431\n",
      " 0.09469633 0.09508118 0.0857727  0.08543596 0.08420926 0.07372219\n",
      " 0.07437162 0.09007817 0.08365604 0.07629585 0.07165364 0.07475646\n",
      " 0.06258569 0.07395069 0.07129284 0.07605532 0.0738184  0.08093806\n",
      " 0.08473842 0.08279014 0.07261575 0.0713169  0.07949489 0.07745039\n",
      " 0.07155743 0.07276007 0.07425135 0.07468431 0.07110042 0.07651233\n",
      " 0.07855683 0.08553217 0.08627781 0.09034275 0.09625977 0.10259771\n",
      " 0.09837643 0.10604931 0.10027661 0.10621768 0.10539988 0.10703548\n",
      " 0.10287432 0.10381239 0.10006013 0.10578473 0.10674684 0.1059531\n",
      " 0.10400481 0.10376428 0.09890559 0.10150331 0.09022249 0.09082381\n",
      " 0.09476849 0.09589898 0.09723116 0.09716365 0.09782588 0.09885994\n",
      " 0.10002499 0.10118768 0.10228298 0.10328234]\n",
      "8 day output [[0.1041752]]\n",
      "9 day input [0.11148527 0.10710764 0.10434155 0.1018641  0.09397474 0.09782321\n",
      " 0.08721587 0.09760673 0.10032471 0.09294047 0.09250752 0.09753458\n",
      " 0.0927721  0.08851473 0.09017438 0.10027661 0.11191822 0.11720986\n",
      " 0.12647023 0.1270475  0.12440168 0.11244738 0.10010824 0.10535177\n",
      " 0.10739627 0.10487072 0.11316897 0.11165364 0.11201443 0.10984967\n",
      " 0.10835839 0.10773301 0.10831028 0.10306675 0.09741431 0.09469633\n",
      " 0.09508118 0.0857727  0.08543596 0.08420926 0.07372219 0.07437162\n",
      " 0.09007817 0.08365604 0.07629585 0.07165364 0.07475646 0.06258569\n",
      " 0.07395069 0.07129284 0.07605532 0.0738184  0.08093806 0.08473842\n",
      " 0.08279014 0.07261575 0.0713169  0.07949489 0.07745039 0.07155743\n",
      " 0.07276007 0.07425135 0.07468431 0.07110042 0.07651233 0.07855683\n",
      " 0.08553217 0.08627781 0.09034275 0.09625977 0.10259771 0.09837643\n",
      " 0.10604931 0.10027661 0.10621768 0.10539988 0.10703548 0.10287432\n",
      " 0.10381239 0.10006013 0.10578473 0.10674684 0.1059531  0.10400481\n",
      " 0.10376428 0.09890559 0.10150331 0.09022249 0.09082381 0.09476849\n",
      " 0.09589898 0.09723116 0.09716365 0.09782588 0.09885994 0.10002499\n",
      " 0.10118768 0.10228298 0.10328234 0.1041752 ]\n",
      "9 day output [[0.10496069]]\n",
      "10 day input [0.10710764 0.10434155 0.1018641  0.09397474 0.09782321 0.08721587\n",
      " 0.09760673 0.10032471 0.09294047 0.09250752 0.09753458 0.0927721\n",
      " 0.08851473 0.09017438 0.10027661 0.11191822 0.11720986 0.12647023\n",
      " 0.1270475  0.12440168 0.11244738 0.10010824 0.10535177 0.10739627\n",
      " 0.10487072 0.11316897 0.11165364 0.11201443 0.10984967 0.10835839\n",
      " 0.10773301 0.10831028 0.10306675 0.09741431 0.09469633 0.09508118\n",
      " 0.0857727  0.08543596 0.08420926 0.07372219 0.07437162 0.09007817\n",
      " 0.08365604 0.07629585 0.07165364 0.07475646 0.06258569 0.07395069\n",
      " 0.07129284 0.07605532 0.0738184  0.08093806 0.08473842 0.08279014\n",
      " 0.07261575 0.0713169  0.07949489 0.07745039 0.07155743 0.07276007\n",
      " 0.07425135 0.07468431 0.07110042 0.07651233 0.07855683 0.08553217\n",
      " 0.08627781 0.09034275 0.09625977 0.10259771 0.09837643 0.10604931\n",
      " 0.10027661 0.10621768 0.10539988 0.10703548 0.10287432 0.10381239\n",
      " 0.10006013 0.10578473 0.10674684 0.1059531  0.10400481 0.10376428\n",
      " 0.09890559 0.10150331 0.09022249 0.09082381 0.09476849 0.09589898\n",
      " 0.09723116 0.09716365 0.09782588 0.09885994 0.10002499 0.10118768\n",
      " 0.10228298 0.10328234 0.1041752  0.10496069]\n",
      "10 day output [[0.10564443]]\n",
      "11 day input [0.10434155 0.1018641  0.09397474 0.09782321 0.08721587 0.09760673\n",
      " 0.10032471 0.09294047 0.09250752 0.09753458 0.0927721  0.08851473\n",
      " 0.09017438 0.10027661 0.11191822 0.11720986 0.12647023 0.1270475\n",
      " 0.12440168 0.11244738 0.10010824 0.10535177 0.10739627 0.10487072\n",
      " 0.11316897 0.11165364 0.11201443 0.10984967 0.10835839 0.10773301\n",
      " 0.10831028 0.10306675 0.09741431 0.09469633 0.09508118 0.0857727\n",
      " 0.08543596 0.08420926 0.07372219 0.07437162 0.09007817 0.08365604\n",
      " 0.07629585 0.07165364 0.07475646 0.06258569 0.07395069 0.07129284\n",
      " 0.07605532 0.0738184  0.08093806 0.08473842 0.08279014 0.07261575\n",
      " 0.0713169  0.07949489 0.07745039 0.07155743 0.07276007 0.07425135\n",
      " 0.07468431 0.07110042 0.07651233 0.07855683 0.08553217 0.08627781\n",
      " 0.09034275 0.09625977 0.10259771 0.09837643 0.10604931 0.10027661\n",
      " 0.10621768 0.10539988 0.10703548 0.10287432 0.10381239 0.10006013\n",
      " 0.10578473 0.10674684 0.1059531  0.10400481 0.10376428 0.09890559\n",
      " 0.10150331 0.09022249 0.09082381 0.09476849 0.09589898 0.09723116\n",
      " 0.09716365 0.09782588 0.09885994 0.10002499 0.10118768 0.10228298\n",
      " 0.10328234 0.1041752  0.10496069 0.10564443]\n",
      "11 day output [[0.10623703]]\n",
      "12 day input [0.1018641  0.09397474 0.09782321 0.08721587 0.09760673 0.10032471\n",
      " 0.09294047 0.09250752 0.09753458 0.0927721  0.08851473 0.09017438\n",
      " 0.10027661 0.11191822 0.11720986 0.12647023 0.1270475  0.12440168\n",
      " 0.11244738 0.10010824 0.10535177 0.10739627 0.10487072 0.11316897\n",
      " 0.11165364 0.11201443 0.10984967 0.10835839 0.10773301 0.10831028\n",
      " 0.10306675 0.09741431 0.09469633 0.09508118 0.0857727  0.08543596\n",
      " 0.08420926 0.07372219 0.07437162 0.09007817 0.08365604 0.07629585\n",
      " 0.07165364 0.07475646 0.06258569 0.07395069 0.07129284 0.07605532\n",
      " 0.0738184  0.08093806 0.08473842 0.08279014 0.07261575 0.0713169\n",
      " 0.07949489 0.07745039 0.07155743 0.07276007 0.07425135 0.07468431\n",
      " 0.07110042 0.07651233 0.07855683 0.08553217 0.08627781 0.09034275\n",
      " 0.09625977 0.10259771 0.09837643 0.10604931 0.10027661 0.10621768\n",
      " 0.10539988 0.10703548 0.10287432 0.10381239 0.10006013 0.10578473\n",
      " 0.10674684 0.1059531  0.10400481 0.10376428 0.09890559 0.10150331\n",
      " 0.09022249 0.09082381 0.09476849 0.09589898 0.09723116 0.09716365\n",
      " 0.09782588 0.09885994 0.10002499 0.10118768 0.10228298 0.10328234\n",
      " 0.1041752  0.10496069 0.10564443 0.10623703]\n",
      "12 day output [[0.1067531]]\n",
      "13 day input [0.09397474 0.09782321 0.08721587 0.09760673 0.10032471 0.09294047\n",
      " 0.09250752 0.09753458 0.0927721  0.08851473 0.09017438 0.10027661\n",
      " 0.11191822 0.11720986 0.12647023 0.1270475  0.12440168 0.11244738\n",
      " 0.10010824 0.10535177 0.10739627 0.10487072 0.11316897 0.11165364\n",
      " 0.11201443 0.10984967 0.10835839 0.10773301 0.10831028 0.10306675\n",
      " 0.09741431 0.09469633 0.09508118 0.0857727  0.08543596 0.08420926\n",
      " 0.07372219 0.07437162 0.09007817 0.08365604 0.07629585 0.07165364\n",
      " 0.07475646 0.06258569 0.07395069 0.07129284 0.07605532 0.0738184\n",
      " 0.08093806 0.08473842 0.08279014 0.07261575 0.0713169  0.07949489\n",
      " 0.07745039 0.07155743 0.07276007 0.07425135 0.07468431 0.07110042\n",
      " 0.07651233 0.07855683 0.08553217 0.08627781 0.09034275 0.09625977\n",
      " 0.10259771 0.09837643 0.10604931 0.10027661 0.10621768 0.10539988\n",
      " 0.10703548 0.10287432 0.10381239 0.10006013 0.10578473 0.10674684\n",
      " 0.1059531  0.10400481 0.10376428 0.09890559 0.10150331 0.09022249\n",
      " 0.09082381 0.09476849 0.09589898 0.09723116 0.09716365 0.09782588\n",
      " 0.09885994 0.10002499 0.10118768 0.10228298 0.10328234 0.1041752\n",
      " 0.10496069 0.10564443 0.10623703 0.1067531 ]\n",
      "13 day output [[0.10720983]]\n",
      "14 day input [0.09782321 0.08721587 0.09760673 0.10032471 0.09294047 0.09250752\n",
      " 0.09753458 0.0927721  0.08851473 0.09017438 0.10027661 0.11191822\n",
      " 0.11720986 0.12647023 0.1270475  0.12440168 0.11244738 0.10010824\n",
      " 0.10535177 0.10739627 0.10487072 0.11316897 0.11165364 0.11201443\n",
      " 0.10984967 0.10835839 0.10773301 0.10831028 0.10306675 0.09741431\n",
      " 0.09469633 0.09508118 0.0857727  0.08543596 0.08420926 0.07372219\n",
      " 0.07437162 0.09007817 0.08365604 0.07629585 0.07165364 0.07475646\n",
      " 0.06258569 0.07395069 0.07129284 0.07605532 0.0738184  0.08093806\n",
      " 0.08473842 0.08279014 0.07261575 0.0713169  0.07949489 0.07745039\n",
      " 0.07155743 0.07276007 0.07425135 0.07468431 0.07110042 0.07651233\n",
      " 0.07855683 0.08553217 0.08627781 0.09034275 0.09625977 0.10259771\n",
      " 0.09837643 0.10604931 0.10027661 0.10621768 0.10539988 0.10703548\n",
      " 0.10287432 0.10381239 0.10006013 0.10578473 0.10674684 0.1059531\n",
      " 0.10400481 0.10376428 0.09890559 0.10150331 0.09022249 0.09082381\n",
      " 0.09476849 0.09589898 0.09723116 0.09716365 0.09782588 0.09885994\n",
      " 0.10002499 0.10118768 0.10228298 0.10328234 0.1041752  0.10496069\n",
      " 0.10564443 0.10623703 0.1067531  0.10720983]\n",
      "14 day output [[0.10762563]]\n",
      "15 day input [0.08721587 0.09760673 0.10032471 0.09294047 0.09250752 0.09753458\n",
      " 0.0927721  0.08851473 0.09017438 0.10027661 0.11191822 0.11720986\n",
      " 0.12647023 0.1270475  0.12440168 0.11244738 0.10010824 0.10535177\n",
      " 0.10739627 0.10487072 0.11316897 0.11165364 0.11201443 0.10984967\n",
      " 0.10835839 0.10773301 0.10831028 0.10306675 0.09741431 0.09469633\n",
      " 0.09508118 0.0857727  0.08543596 0.08420926 0.07372219 0.07437162\n",
      " 0.09007817 0.08365604 0.07629585 0.07165364 0.07475646 0.06258569\n",
      " 0.07395069 0.07129284 0.07605532 0.0738184  0.08093806 0.08473842\n",
      " 0.08279014 0.07261575 0.0713169  0.07949489 0.07745039 0.07155743\n",
      " 0.07276007 0.07425135 0.07468431 0.07110042 0.07651233 0.07855683\n",
      " 0.08553217 0.08627781 0.09034275 0.09625977 0.10259771 0.09837643\n",
      " 0.10604931 0.10027661 0.10621768 0.10539988 0.10703548 0.10287432\n",
      " 0.10381239 0.10006013 0.10578473 0.10674684 0.1059531  0.10400481\n",
      " 0.10376428 0.09890559 0.10150331 0.09022249 0.09082381 0.09476849\n",
      " 0.09589898 0.09723116 0.09716365 0.09782588 0.09885994 0.10002499\n",
      " 0.10118768 0.10228298 0.10328234 0.1041752  0.10496069 0.10564443\n",
      " 0.10623703 0.1067531  0.10720983 0.10762563]\n",
      "15 day output [[0.10801863]]\n",
      "16 day input [0.09760673 0.10032471 0.09294047 0.09250752 0.09753458 0.0927721\n",
      " 0.08851473 0.09017438 0.10027661 0.11191822 0.11720986 0.12647023\n",
      " 0.1270475  0.12440168 0.11244738 0.10010824 0.10535177 0.10739627\n",
      " 0.10487072 0.11316897 0.11165364 0.11201443 0.10984967 0.10835839\n",
      " 0.10773301 0.10831028 0.10306675 0.09741431 0.09469633 0.09508118\n",
      " 0.0857727  0.08543596 0.08420926 0.07372219 0.07437162 0.09007817\n",
      " 0.08365604 0.07629585 0.07165364 0.07475646 0.06258569 0.07395069\n",
      " 0.07129284 0.07605532 0.0738184  0.08093806 0.08473842 0.08279014\n",
      " 0.07261575 0.0713169  0.07949489 0.07745039 0.07155743 0.07276007\n",
      " 0.07425135 0.07468431 0.07110042 0.07651233 0.07855683 0.08553217\n",
      " 0.08627781 0.09034275 0.09625977 0.10259771 0.09837643 0.10604931\n",
      " 0.10027661 0.10621768 0.10539988 0.10703548 0.10287432 0.10381239\n",
      " 0.10006013 0.10578473 0.10674684 0.1059531  0.10400481 0.10376428\n",
      " 0.09890559 0.10150331 0.09022249 0.09082381 0.09476849 0.09589898\n",
      " 0.09723116 0.09716365 0.09782588 0.09885994 0.10002499 0.10118768\n",
      " 0.10228298 0.10328234 0.1041752  0.10496069 0.10564443 0.10623703\n",
      " 0.1067531  0.10720983 0.10762563 0.10801863]\n",
      "16 day output [[0.10840558]]\n",
      "17 day input [0.10032471 0.09294047 0.09250752 0.09753458 0.0927721  0.08851473\n",
      " 0.09017438 0.10027661 0.11191822 0.11720986 0.12647023 0.1270475\n",
      " 0.12440168 0.11244738 0.10010824 0.10535177 0.10739627 0.10487072\n",
      " 0.11316897 0.11165364 0.11201443 0.10984967 0.10835839 0.10773301\n",
      " 0.10831028 0.10306675 0.09741431 0.09469633 0.09508118 0.0857727\n",
      " 0.08543596 0.08420926 0.07372219 0.07437162 0.09007817 0.08365604\n",
      " 0.07629585 0.07165364 0.07475646 0.06258569 0.07395069 0.07129284\n",
      " 0.07605532 0.0738184  0.08093806 0.08473842 0.08279014 0.07261575\n",
      " 0.0713169  0.07949489 0.07745039 0.07155743 0.07276007 0.07425135\n",
      " 0.07468431 0.07110042 0.07651233 0.07855683 0.08553217 0.08627781\n",
      " 0.09034275 0.09625977 0.10259771 0.09837643 0.10604931 0.10027661\n",
      " 0.10621768 0.10539988 0.10703548 0.10287432 0.10381239 0.10006013\n",
      " 0.10578473 0.10674684 0.1059531  0.10400481 0.10376428 0.09890559\n",
      " 0.10150331 0.09022249 0.09082381 0.09476849 0.09589898 0.09723116\n",
      " 0.09716365 0.09782588 0.09885994 0.10002499 0.10118768 0.10228298\n",
      " 0.10328234 0.1041752  0.10496069 0.10564443 0.10623703 0.1067531\n",
      " 0.10720983 0.10762563 0.10801863 0.10840558]\n",
      "17 day output [[0.10880087]]\n",
      "18 day input [0.09294047 0.09250752 0.09753458 0.0927721  0.08851473 0.09017438\n",
      " 0.10027661 0.11191822 0.11720986 0.12647023 0.1270475  0.12440168\n",
      " 0.11244738 0.10010824 0.10535177 0.10739627 0.10487072 0.11316897\n",
      " 0.11165364 0.11201443 0.10984967 0.10835839 0.10773301 0.10831028\n",
      " 0.10306675 0.09741431 0.09469633 0.09508118 0.0857727  0.08543596\n",
      " 0.08420926 0.07372219 0.07437162 0.09007817 0.08365604 0.07629585\n",
      " 0.07165364 0.07475646 0.06258569 0.07395069 0.07129284 0.07605532\n",
      " 0.0738184  0.08093806 0.08473842 0.08279014 0.07261575 0.0713169\n",
      " 0.07949489 0.07745039 0.07155743 0.07276007 0.07425135 0.07468431\n",
      " 0.07110042 0.07651233 0.07855683 0.08553217 0.08627781 0.09034275\n",
      " 0.09625977 0.10259771 0.09837643 0.10604931 0.10027661 0.10621768\n",
      " 0.10539988 0.10703548 0.10287432 0.10381239 0.10006013 0.10578473\n",
      " 0.10674684 0.1059531  0.10400481 0.10376428 0.09890559 0.10150331\n",
      " 0.09022249 0.09082381 0.09476849 0.09589898 0.09723116 0.09716365\n",
      " 0.09782588 0.09885994 0.10002499 0.10118768 0.10228298 0.10328234\n",
      " 0.1041752  0.10496069 0.10564443 0.10623703 0.1067531  0.10720983\n",
      " 0.10762563 0.10801863 0.10840558 0.10880087]\n",
      "18 day output [[0.10921594]]\n",
      "19 day input [0.09250752 0.09753458 0.0927721  0.08851473 0.09017438 0.10027661\n",
      " 0.11191822 0.11720986 0.12647023 0.1270475  0.12440168 0.11244738\n",
      " 0.10010824 0.10535177 0.10739627 0.10487072 0.11316897 0.11165364\n",
      " 0.11201443 0.10984967 0.10835839 0.10773301 0.10831028 0.10306675\n",
      " 0.09741431 0.09469633 0.09508118 0.0857727  0.08543596 0.08420926\n",
      " 0.07372219 0.07437162 0.09007817 0.08365604 0.07629585 0.07165364\n",
      " 0.07475646 0.06258569 0.07395069 0.07129284 0.07605532 0.0738184\n",
      " 0.08093806 0.08473842 0.08279014 0.07261575 0.0713169  0.07949489\n",
      " 0.07745039 0.07155743 0.07276007 0.07425135 0.07468431 0.07110042\n",
      " 0.07651233 0.07855683 0.08553217 0.08627781 0.09034275 0.09625977\n",
      " 0.10259771 0.09837643 0.10604931 0.10027661 0.10621768 0.10539988\n",
      " 0.10703548 0.10287432 0.10381239 0.10006013 0.10578473 0.10674684\n",
      " 0.1059531  0.10400481 0.10376428 0.09890559 0.10150331 0.09022249\n",
      " 0.09082381 0.09476849 0.09589898 0.09723116 0.09716365 0.09782588\n",
      " 0.09885994 0.10002499 0.10118768 0.10228298 0.10328234 0.1041752\n",
      " 0.10496069 0.10564443 0.10623703 0.1067531  0.10720983 0.10762563\n",
      " 0.10801863 0.10840558 0.10880087 0.10921594]\n",
      "19 day output [[0.10965902]]\n",
      "20 day input [0.09753458 0.0927721  0.08851473 0.09017438 0.10027661 0.11191822\n",
      " 0.11720986 0.12647023 0.1270475  0.12440168 0.11244738 0.10010824\n",
      " 0.10535177 0.10739627 0.10487072 0.11316897 0.11165364 0.11201443\n",
      " 0.10984967 0.10835839 0.10773301 0.10831028 0.10306675 0.09741431\n",
      " 0.09469633 0.09508118 0.0857727  0.08543596 0.08420926 0.07372219\n",
      " 0.07437162 0.09007817 0.08365604 0.07629585 0.07165364 0.07475646\n",
      " 0.06258569 0.07395069 0.07129284 0.07605532 0.0738184  0.08093806\n",
      " 0.08473842 0.08279014 0.07261575 0.0713169  0.07949489 0.07745039\n",
      " 0.07155743 0.07276007 0.07425135 0.07468431 0.07110042 0.07651233\n",
      " 0.07855683 0.08553217 0.08627781 0.09034275 0.09625977 0.10259771\n",
      " 0.09837643 0.10604931 0.10027661 0.10621768 0.10539988 0.10703548\n",
      " 0.10287432 0.10381239 0.10006013 0.10578473 0.10674684 0.1059531\n",
      " 0.10400481 0.10376428 0.09890559 0.10150331 0.09022249 0.09082381\n",
      " 0.09476849 0.09589898 0.09723116 0.09716365 0.09782588 0.09885994\n",
      " 0.10002499 0.10118768 0.10228298 0.10328234 0.1041752  0.10496069\n",
      " 0.10564443 0.10623703 0.1067531  0.10720983 0.10762563 0.10801863\n",
      " 0.10840558 0.10880087 0.10921594 0.10965902]\n",
      "20 day output [[0.11013518]]\n",
      "21 day input [0.0927721  0.08851473 0.09017438 0.10027661 0.11191822 0.11720986\n",
      " 0.12647023 0.1270475  0.12440168 0.11244738 0.10010824 0.10535177\n",
      " 0.10739627 0.10487072 0.11316897 0.11165364 0.11201443 0.10984967\n",
      " 0.10835839 0.10773301 0.10831028 0.10306675 0.09741431 0.09469633\n",
      " 0.09508118 0.0857727  0.08543596 0.08420926 0.07372219 0.07437162\n",
      " 0.09007817 0.08365604 0.07629585 0.07165364 0.07475646 0.06258569\n",
      " 0.07395069 0.07129284 0.07605532 0.0738184  0.08093806 0.08473842\n",
      " 0.08279014 0.07261575 0.0713169  0.07949489 0.07745039 0.07155743\n",
      " 0.07276007 0.07425135 0.07468431 0.07110042 0.07651233 0.07855683\n",
      " 0.08553217 0.08627781 0.09034275 0.09625977 0.10259771 0.09837643\n",
      " 0.10604931 0.10027661 0.10621768 0.10539988 0.10703548 0.10287432\n",
      " 0.10381239 0.10006013 0.10578473 0.10674684 0.1059531  0.10400481\n",
      " 0.10376428 0.09890559 0.10150331 0.09022249 0.09082381 0.09476849\n",
      " 0.09589898 0.09723116 0.09716365 0.09782588 0.09885994 0.10002499\n",
      " 0.10118768 0.10228298 0.10328234 0.1041752  0.10496069 0.10564443\n",
      " 0.10623703 0.1067531  0.10720983 0.10762563 0.10801863 0.10840558\n",
      " 0.10880087 0.10921594 0.10965902 0.11013518]\n",
      "21 day output [[0.11064646]]\n",
      "22 day input [0.08851473 0.09017438 0.10027661 0.11191822 0.11720986 0.12647023\n",
      " 0.1270475  0.12440168 0.11244738 0.10010824 0.10535177 0.10739627\n",
      " 0.10487072 0.11316897 0.11165364 0.11201443 0.10984967 0.10835839\n",
      " 0.10773301 0.10831028 0.10306675 0.09741431 0.09469633 0.09508118\n",
      " 0.0857727  0.08543596 0.08420926 0.07372219 0.07437162 0.09007817\n",
      " 0.08365604 0.07629585 0.07165364 0.07475646 0.06258569 0.07395069\n",
      " 0.07129284 0.07605532 0.0738184  0.08093806 0.08473842 0.08279014\n",
      " 0.07261575 0.0713169  0.07949489 0.07745039 0.07155743 0.07276007\n",
      " 0.07425135 0.07468431 0.07110042 0.07651233 0.07855683 0.08553217\n",
      " 0.08627781 0.09034275 0.09625977 0.10259771 0.09837643 0.10604931\n",
      " 0.10027661 0.10621768 0.10539988 0.10703548 0.10287432 0.10381239\n",
      " 0.10006013 0.10578473 0.10674684 0.1059531  0.10400481 0.10376428\n",
      " 0.09890559 0.10150331 0.09022249 0.09082381 0.09476849 0.09589898\n",
      " 0.09723116 0.09716365 0.09782588 0.09885994 0.10002499 0.10118768\n",
      " 0.10228298 0.10328234 0.1041752  0.10496069 0.10564443 0.10623703\n",
      " 0.1067531  0.10720983 0.10762563 0.10801863 0.10840558 0.10880087\n",
      " 0.10921594 0.10965902 0.11013518 0.11064646]\n",
      "22 day output [[0.11119237]]\n",
      "23 day input [0.09017438 0.10027661 0.11191822 0.11720986 0.12647023 0.1270475\n",
      " 0.12440168 0.11244738 0.10010824 0.10535177 0.10739627 0.10487072\n",
      " 0.11316897 0.11165364 0.11201443 0.10984967 0.10835839 0.10773301\n",
      " 0.10831028 0.10306675 0.09741431 0.09469633 0.09508118 0.0857727\n",
      " 0.08543596 0.08420926 0.07372219 0.07437162 0.09007817 0.08365604\n",
      " 0.07629585 0.07165364 0.07475646 0.06258569 0.07395069 0.07129284\n",
      " 0.07605532 0.0738184  0.08093806 0.08473842 0.08279014 0.07261575\n",
      " 0.0713169  0.07949489 0.07745039 0.07155743 0.07276007 0.07425135\n",
      " 0.07468431 0.07110042 0.07651233 0.07855683 0.08553217 0.08627781\n",
      " 0.09034275 0.09625977 0.10259771 0.09837643 0.10604931 0.10027661\n",
      " 0.10621768 0.10539988 0.10703548 0.10287432 0.10381239 0.10006013\n",
      " 0.10578473 0.10674684 0.1059531  0.10400481 0.10376428 0.09890559\n",
      " 0.10150331 0.09022249 0.09082381 0.09476849 0.09589898 0.09723116\n",
      " 0.09716365 0.09782588 0.09885994 0.10002499 0.10118768 0.10228298\n",
      " 0.10328234 0.1041752  0.10496069 0.10564443 0.10623703 0.1067531\n",
      " 0.10720983 0.10762563 0.10801863 0.10840558 0.10880087 0.10921594\n",
      " 0.10965902 0.11013518 0.11064646 0.11119237]\n",
      "23 day output [[0.11177032]]\n",
      "24 day input [0.10027661 0.11191822 0.11720986 0.12647023 0.1270475  0.12440168\n",
      " 0.11244738 0.10010824 0.10535177 0.10739627 0.10487072 0.11316897\n",
      " 0.11165364 0.11201443 0.10984967 0.10835839 0.10773301 0.10831028\n",
      " 0.10306675 0.09741431 0.09469633 0.09508118 0.0857727  0.08543596\n",
      " 0.08420926 0.07372219 0.07437162 0.09007817 0.08365604 0.07629585\n",
      " 0.07165364 0.07475646 0.06258569 0.07395069 0.07129284 0.07605532\n",
      " 0.0738184  0.08093806 0.08473842 0.08279014 0.07261575 0.0713169\n",
      " 0.07949489 0.07745039 0.07155743 0.07276007 0.07425135 0.07468431\n",
      " 0.07110042 0.07651233 0.07855683 0.08553217 0.08627781 0.09034275\n",
      " 0.09625977 0.10259771 0.09837643 0.10604931 0.10027661 0.10621768\n",
      " 0.10539988 0.10703548 0.10287432 0.10381239 0.10006013 0.10578473\n",
      " 0.10674684 0.1059531  0.10400481 0.10376428 0.09890559 0.10150331\n",
      " 0.09022249 0.09082381 0.09476849 0.09589898 0.09723116 0.09716365\n",
      " 0.09782588 0.09885994 0.10002499 0.10118768 0.10228298 0.10328234\n",
      " 0.1041752  0.10496069 0.10564443 0.10623703 0.1067531  0.10720983\n",
      " 0.10762563 0.10801863 0.10840558 0.10880087 0.10921594 0.10965902\n",
      " 0.11013518 0.11064646 0.11119237 0.11177032]\n",
      "24 day output [[0.11237619]]\n",
      "25 day input [0.11191822 0.11720986 0.12647023 0.1270475  0.12440168 0.11244738\n",
      " 0.10010824 0.10535177 0.10739627 0.10487072 0.11316897 0.11165364\n",
      " 0.11201443 0.10984967 0.10835839 0.10773301 0.10831028 0.10306675\n",
      " 0.09741431 0.09469633 0.09508118 0.0857727  0.08543596 0.08420926\n",
      " 0.07372219 0.07437162 0.09007817 0.08365604 0.07629585 0.07165364\n",
      " 0.07475646 0.06258569 0.07395069 0.07129284 0.07605532 0.0738184\n",
      " 0.08093806 0.08473842 0.08279014 0.07261575 0.0713169  0.07949489\n",
      " 0.07745039 0.07155743 0.07276007 0.07425135 0.07468431 0.07110042\n",
      " 0.07651233 0.07855683 0.08553217 0.08627781 0.09034275 0.09625977\n",
      " 0.10259771 0.09837643 0.10604931 0.10027661 0.10621768 0.10539988\n",
      " 0.10703548 0.10287432 0.10381239 0.10006013 0.10578473 0.10674684\n",
      " 0.1059531  0.10400481 0.10376428 0.09890559 0.10150331 0.09022249\n",
      " 0.09082381 0.09476849 0.09589898 0.09723116 0.09716365 0.09782588\n",
      " 0.09885994 0.10002499 0.10118768 0.10228298 0.10328234 0.1041752\n",
      " 0.10496069 0.10564443 0.10623703 0.1067531  0.10720983 0.10762563\n",
      " 0.10801863 0.10840558 0.10880087 0.10921594 0.10965902 0.11013518\n",
      " 0.11064646 0.11119237 0.11177032 0.11237619]\n",
      "25 day output [[0.1130049]]\n",
      "26 day input [0.11720986 0.12647023 0.1270475  0.12440168 0.11244738 0.10010824\n",
      " 0.10535177 0.10739627 0.10487072 0.11316897 0.11165364 0.11201443\n",
      " 0.10984967 0.10835839 0.10773301 0.10831028 0.10306675 0.09741431\n",
      " 0.09469633 0.09508118 0.0857727  0.08543596 0.08420926 0.07372219\n",
      " 0.07437162 0.09007817 0.08365604 0.07629585 0.07165364 0.07475646\n",
      " 0.06258569 0.07395069 0.07129284 0.07605532 0.0738184  0.08093806\n",
      " 0.08473842 0.08279014 0.07261575 0.0713169  0.07949489 0.07745039\n",
      " 0.07155743 0.07276007 0.07425135 0.07468431 0.07110042 0.07651233\n",
      " 0.07855683 0.08553217 0.08627781 0.09034275 0.09625977 0.10259771\n",
      " 0.09837643 0.10604931 0.10027661 0.10621768 0.10539988 0.10703548\n",
      " 0.10287432 0.10381239 0.10006013 0.10578473 0.10674684 0.1059531\n",
      " 0.10400481 0.10376428 0.09890559 0.10150331 0.09022249 0.09082381\n",
      " 0.09476849 0.09589898 0.09723116 0.09716365 0.09782588 0.09885994\n",
      " 0.10002499 0.10118768 0.10228298 0.10328234 0.1041752  0.10496069\n",
      " 0.10564443 0.10623703 0.1067531  0.10720983 0.10762563 0.10801863\n",
      " 0.10840558 0.10880087 0.10921594 0.10965902 0.11013518 0.11064646\n",
      " 0.11119237 0.11177032 0.11237619 0.1130049 ]\n",
      "26 day output [[0.1136509]]\n",
      "27 day input [0.12647023 0.1270475  0.12440168 0.11244738 0.10010824 0.10535177\n",
      " 0.10739627 0.10487072 0.11316897 0.11165364 0.11201443 0.10984967\n",
      " 0.10835839 0.10773301 0.10831028 0.10306675 0.09741431 0.09469633\n",
      " 0.09508118 0.0857727  0.08543596 0.08420926 0.07372219 0.07437162\n",
      " 0.09007817 0.08365604 0.07629585 0.07165364 0.07475646 0.06258569\n",
      " 0.07395069 0.07129284 0.07605532 0.0738184  0.08093806 0.08473842\n",
      " 0.08279014 0.07261575 0.0713169  0.07949489 0.07745039 0.07155743\n",
      " 0.07276007 0.07425135 0.07468431 0.07110042 0.07651233 0.07855683\n",
      " 0.08553217 0.08627781 0.09034275 0.09625977 0.10259771 0.09837643\n",
      " 0.10604931 0.10027661 0.10621768 0.10539988 0.10703548 0.10287432\n",
      " 0.10381239 0.10006013 0.10578473 0.10674684 0.1059531  0.10400481\n",
      " 0.10376428 0.09890559 0.10150331 0.09022249 0.09082381 0.09476849\n",
      " 0.09589898 0.09723116 0.09716365 0.09782588 0.09885994 0.10002499\n",
      " 0.10118768 0.10228298 0.10328234 0.1041752  0.10496069 0.10564443\n",
      " 0.10623703 0.1067531  0.10720983 0.10762563 0.10801863 0.10840558\n",
      " 0.10880087 0.10921594 0.10965902 0.11013518 0.11064646 0.11119237\n",
      " 0.11177032 0.11237619 0.1130049  0.1136509 ]\n",
      "27 day output [[0.11430863]]\n",
      "28 day input [0.1270475  0.12440168 0.11244738 0.10010824 0.10535177 0.10739627\n",
      " 0.10487072 0.11316897 0.11165364 0.11201443 0.10984967 0.10835839\n",
      " 0.10773301 0.10831028 0.10306675 0.09741431 0.09469633 0.09508118\n",
      " 0.0857727  0.08543596 0.08420926 0.07372219 0.07437162 0.09007817\n",
      " 0.08365604 0.07629585 0.07165364 0.07475646 0.06258569 0.07395069\n",
      " 0.07129284 0.07605532 0.0738184  0.08093806 0.08473842 0.08279014\n",
      " 0.07261575 0.0713169  0.07949489 0.07745039 0.07155743 0.07276007\n",
      " 0.07425135 0.07468431 0.07110042 0.07651233 0.07855683 0.08553217\n",
      " 0.08627781 0.09034275 0.09625977 0.10259771 0.09837643 0.10604931\n",
      " 0.10027661 0.10621768 0.10539988 0.10703548 0.10287432 0.10381239\n",
      " 0.10006013 0.10578473 0.10674684 0.1059531  0.10400481 0.10376428\n",
      " 0.09890559 0.10150331 0.09022249 0.09082381 0.09476849 0.09589898\n",
      " 0.09723116 0.09716365 0.09782588 0.09885994 0.10002499 0.10118768\n",
      " 0.10228298 0.10328234 0.1041752  0.10496069 0.10564443 0.10623703\n",
      " 0.1067531  0.10720983 0.10762563 0.10801863 0.10840558 0.10880087\n",
      " 0.10921594 0.10965902 0.11013518 0.11064646 0.11119237 0.11177032\n",
      " 0.11237619 0.1130049  0.1136509  0.11430863]\n",
      "28 day output [[0.11497296]]\n",
      "29 day input [0.12440168 0.11244738 0.10010824 0.10535177 0.10739627 0.10487072\n",
      " 0.11316897 0.11165364 0.11201443 0.10984967 0.10835839 0.10773301\n",
      " 0.10831028 0.10306675 0.09741431 0.09469633 0.09508118 0.0857727\n",
      " 0.08543596 0.08420926 0.07372219 0.07437162 0.09007817 0.08365604\n",
      " 0.07629585 0.07165364 0.07475646 0.06258569 0.07395069 0.07129284\n",
      " 0.07605532 0.0738184  0.08093806 0.08473842 0.08279014 0.07261575\n",
      " 0.0713169  0.07949489 0.07745039 0.07155743 0.07276007 0.07425135\n",
      " 0.07468431 0.07110042 0.07651233 0.07855683 0.08553217 0.08627781\n",
      " 0.09034275 0.09625977 0.10259771 0.09837643 0.10604931 0.10027661\n",
      " 0.10621768 0.10539988 0.10703548 0.10287432 0.10381239 0.10006013\n",
      " 0.10578473 0.10674684 0.1059531  0.10400481 0.10376428 0.09890559\n",
      " 0.10150331 0.09022249 0.09082381 0.09476849 0.09589898 0.09723116\n",
      " 0.09716365 0.09782588 0.09885994 0.10002499 0.10118768 0.10228298\n",
      " 0.10328234 0.1041752  0.10496069 0.10564443 0.10623703 0.1067531\n",
      " 0.10720983 0.10762563 0.10801863 0.10840558 0.10880087 0.10921594\n",
      " 0.10965902 0.11013518 0.11064646 0.11119237 0.11177032 0.11237619\n",
      " 0.1130049  0.1136509  0.11430863 0.11497296]\n",
      "29 day output [[0.11563934]]\n",
      "[[0.09723115712404251], [0.09716365486383438], [0.09782587736845016], [0.09885993599891663], [0.1000249907374382], [0.10118767619132996], [0.10228297859430313], [0.10328233987092972], [0.10417520254850388], [0.10496069490909576], [0.10564442723989487], [0.106237031519413], [0.10675310343503952], [0.10720983147621155], [0.10762562602758408], [0.10801862925291061], [0.10840558260679245], [0.10880086570978165], [0.10921593755483627], [0.10965902358293533], [0.11013517528772354], [0.11064645648002625], [0.11119236797094345], [0.11177032440900803], [0.11237619072198868], [0.1130049005150795], [0.11365089565515518], [0.11430863291025162], [0.11497296392917633], [0.1156393364071846]]\n"
     ]
    }
   ],
   "source": [
    "#demonstrate prediction for next 30 days\n",
    "from numpy import array\n",
    "\n",
    "lst_output=[]\n",
    "n_steps = 100\n",
    "i = 0\n",
    "while(i<30):\n",
    "    \n",
    "    if(len(temp_input)>100): #5. when we add it into the list we'll have 101 element.THen we have to shift from one position and take the reamaining data\n",
    "        #that is what if condition is doing here\n",
    "#         print(\"temp input 1\",temp_input)\n",
    "        x_input = np.array(temp_input[1:]) #if len(temp_input>100) then shift to one position right -->\"temp_input[1:]\"\n",
    "        print(\"{} day input {}\".format(i,x_input))\n",
    "        x_input = x_input.reshape((1,n_steps,1))\n",
    "#         print(\"x_input is\",x_input)\n",
    "        yhat = model.predict(x_input,verbose=0)\n",
    "        print(\"{} day output {}\".format(i,yhat))\n",
    "        temp_input.extend(yhat[0].tolist())\n",
    "        temp_input = temp_input[1:]\n",
    "#         print(temp_input)\n",
    "        lst_output.extend(yhat.tolist())\n",
    "        i = i+1\n",
    "        \n",
    "    else:\n",
    "        x_input = x_input.reshape(1,n_steps,1)  # 1.what ever 100 results we are given we are passing\n",
    "        #it to the model and doing the predict before that we need to reshape.\n",
    "        yhat = model.predict(x_input,verbose=0) #2.then we are doing prediction and getting yhat value\n",
    "        print(yhat[0])\n",
    "        temp_input.extend(yhat[0].tolist()) #4. THen we are also adding it to our previous input i.e. temp_input\n",
    "        \n",
    "        \n",
    "        lst_output.extend(yhat.tolist())  #3.then we are adding yhat value inside our final list i.e lstoutput\n",
    "        i=i+1\n",
    "        \n",
    "print(lst_output)\n",
    "        \n",
    "              "
   ]
  },
  {
   "cell_type": "code",
   "execution_count": 240,
   "id": "a11b0a7b-d6df-4898-b646-049c24628095",
   "metadata": {},
   "outputs": [],
   "source": [
    "day_new = np.arange(1,101) #100 index kept inide day_new\n",
    "day_pred = np.arange(101,131) #p 30 indexes kept inside day_pred"
   ]
  },
  {
   "cell_type": "code",
   "execution_count": 241,
   "id": "74d8de32-eb87-47f8-b98f-68c3bc58970f",
   "metadata": {},
   "outputs": [
    {
     "data": {
      "text/plain": [
       "1258"
      ]
     },
     "execution_count": 241,
     "metadata": {},
     "output_type": "execute_result"
    }
   ],
   "source": [
    "len(df1)"
   ]
  },
  {
   "cell_type": "code",
   "execution_count": 242,
   "id": "a153b728-6125-4013-beb8-0e69e8b5c549",
   "metadata": {},
   "outputs": [],
   "source": [
    "df3 = df1.tolist() #convering df1 into list\n",
    "df3.extend(lst_output) #adding it to lst_output\n"
   ]
  },
  {
   "cell_type": "code",
   "execution_count": 247,
   "id": "64d8c7dc-fbee-41f2-8aa7-408559142639",
   "metadata": {},
   "outputs": [
    {
     "data": {
      "text/plain": [
       "[<matplotlib.lines.Line2D at 0x19b967477f0>]"
      ]
     },
     "execution_count": 247,
     "metadata": {},
     "output_type": "execute_result"
    },
    {
     "data": {
      "image/png": "[encoded data removed]",
      "text/plain": [
       "<Figure size 432x288 with 1 Axes>"
      ]
     },
     "metadata": {
      "needs_background": "light"
     },
     "output_type": "display_data"
    }
   ],
   "source": [
    "plt.plot(day_new,scaler.inverse_transform(df1[1158:])) #total length of df1 is 1258 but we need 100 previous data\n",
    "#so from 1158 to 1258 dispay as real data\n",
    "plt.plot(day_pred,scaler.inverse_transform(lst_output)) #predicted data"
   ]
  },
  {
   "cell_type": "code",
   "execution_count": 249,
   "id": "e6b48ba1-3711-4e2d-9554-786258d4d426",
   "metadata": {},
   "outputs": [
    {
     "data": {
      "text/plain": [
       "[<matplotlib.lines.Line2D at 0x19b967f0370>]"
      ]
     },
     "execution_count": 249,
     "metadata": {},
     "output_type": "execute_result"
    },
    {
     "data": {
      "image/png": "[encoded data removed]",
      "text/plain": [
       "<Figure size 432x288 with 1 Axes>"
      ]
     },
     "metadata": {
      "needs_background": "light"
     },
     "output_type": "display_data"
    }
   ],
   "source": [
    "#combined output\n",
    "df3=df1.tolist()\n",
    "df3.extend(lst_output)\n",
    "plt.plot(df3[1200:])"
   ]
  },
  {
   "cell_type": "code",
   "execution_count": 254,
   "id": "5c3480c8-e3eb-46a8-b5c9-19219106aabf",
   "metadata": {},
   "outputs": [
    {
     "data": {
      "text/plain": [
       "[<matplotlib.lines.Line2D at 0x19b968ee7f0>]"
      ]
     },
     "execution_count": 254,
     "metadata": {},
     "output_type": "execute_result"
    },
    {
     "data": {
      "image/png": "[encoded data removed]",
      "text/plain": [
       "<Figure size 432x288 with 1 Axes>"
      ]
     },
     "metadata": {
      "needs_background": "light"
     },
     "output_type": "display_data"
    }
   ],
   "source": [
    "#complete 5 year data + prediction\n",
    "df3=scaler.inverse_transform(df3).tolist()\n",
    "plt.plot(df3)"
   ]
  },
  {
   "cell_type": "code",
   "execution_count": 257,
   "id": "2899d5aa-24c2-4233-873d-4116d757e0e4",
   "metadata": {},
   "outputs": [
    {
     "name": "stdout",
     "output_type": "stream",
     "text": [
      "[main 0a3260b] 13:41/09-05-2021\n",
      " 2 files changed, 1259 insertions(+)\n",
      " create mode 100644 RNN+LSTM(AAPL)/AAPL.csv\n",
      " create mode 100644 RNN+LSTM(AAPL)/Apple_Model.h5\n"
     ]
    },
    {
     "name": "stderr",
     "output_type": "stream",
     "text": [
      "remote: This repository moved. Please use the new location:        \n",
      "remote:   https://github.com/sumit-mandal/STOCK_PRED_RNN-LSTM.git        \n",
      "To https://github.com/sumit-mandal/STOCK_PRED.git\n",
      "   37f2d50..0a3260b  main -> main\n"
     ]
    }
   ],
   "source": [
    "! git add Apple_DATA.ipynb\n",
    "! git commit -m \"13:42/09-05-2021\"\n",
    "! git push origin main"
   ]
  },
  {
   "cell_type": "code",
   "execution_count": null,
   "id": "c41c8e0b-8a74-4288-a44b-bd8b65f70809",
   "metadata": {},
   "outputs": [],
   "source": []
  }
 ],
 "metadata": {
  "kernelspec": {
   "display_name": "Python [conda env:cv]",
   "language": "python",
   "name": "conda-env-cv-py"
  },
  "language_info": {
   "codemirror_mode": {
    "name": "ipython",
    "version": 3
   },
   "file_extension": ".py",
   "mimetype": "text/x-python",
   "name": "python",
   "nbconvert_exporter": "python",
   "pygments_lexer": "ipython3",
   "version": "3.8.5"
  }
 },
 "nbformat": 4,
 "nbformat_minor": 5
}
