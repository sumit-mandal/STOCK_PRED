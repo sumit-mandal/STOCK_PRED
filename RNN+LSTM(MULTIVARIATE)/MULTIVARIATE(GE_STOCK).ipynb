{
 "cells": [
  {
   "cell_type": "code",
   "execution_count": 2,
   "id": "5d4302da-1bdb-4d52-8c28-f1a08f1372ff",
   "metadata": {},
   "outputs": [
    {
     "name": "stderr",
     "output_type": "stream",
     "text": [
      "<frozen importlib._bootstrap>:219: RuntimeWarning: numpy.ufunc size changed, may indicate binary incompatibility. Expected 192 from C header, got 216 from PyObject\n",
      "<frozen importlib._bootstrap>:219: RuntimeWarning: numpy.ufunc size changed, may indicate binary incompatibility. Expected 192 from C header, got 216 from PyObject\n"
     ]
    }
   ],
   "source": [
    "#importing the dataset\n",
    "import numpy as np\n",
    "import matplotlib.pyplot as plt\n",
    "import pandas as pd\n",
    "from keras.layers import Dropout,LSTM,Dense\n",
    "from keras.models import Sequential\n",
    "from sklearn.preprocessing import StandardScaler\n",
    "import seaborn as sns"
   ]
  },
  {
   "cell_type": "code",
   "execution_count": 3,
   "id": "2ae51236-bbe5-49cc-a9f8-43096bd37eee",
   "metadata": {},
   "outputs": [
    {
     "data": {
      "text/html": [
       "<div>\n",
       "<style scoped>\n",
       "    .dataframe tbody tr th:only-of-type {\n",
       "        vertical-align: middle;\n",
       "    }\n",
       "\n",
       "    .dataframe tbody tr th {\n",
       "        vertical-align: top;\n",
       "    }\n",
       "\n",
       "    .dataframe thead th {\n",
       "        text-align: right;\n",
       "    }\n",
       "</style>\n",
       "<table border=\"1\" class=\"dataframe\">\n",
       "  <thead>\n",
       "    <tr style=\"text-align: right;\">\n",
       "      <th></th>\n",
       "      <th>Date</th>\n",
       "      <th>Open</th>\n",
       "      <th>High</th>\n",
       "      <th>Low</th>\n",
       "      <th>Close</th>\n",
       "      <th>Adj Close</th>\n",
       "      <th>Volume</th>\n",
       "    </tr>\n",
       "  </thead>\n",
       "  <tbody>\n",
       "    <tr>\n",
       "      <th>0</th>\n",
       "      <td>1970-01-02</td>\n",
       "      <td>0.776242</td>\n",
       "      <td>0.777494</td>\n",
       "      <td>0.766226</td>\n",
       "      <td>0.767478</td>\n",
       "      <td>0.159365</td>\n",
       "      <td>2316288</td>\n",
       "    </tr>\n",
       "    <tr>\n",
       "      <th>1</th>\n",
       "      <td>1970-01-05</td>\n",
       "      <td>0.767478</td>\n",
       "      <td>0.771234</td>\n",
       "      <td>0.757462</td>\n",
       "      <td>0.763722</td>\n",
       "      <td>0.158585</td>\n",
       "      <td>4233216</td>\n",
       "    </tr>\n",
       "    <tr>\n",
       "      <th>2</th>\n",
       "      <td>1970-01-06</td>\n",
       "      <td>0.762470</td>\n",
       "      <td>0.762470</td>\n",
       "      <td>0.737430</td>\n",
       "      <td>0.741186</td>\n",
       "      <td>0.153906</td>\n",
       "      <td>3544320</td>\n",
       "    </tr>\n",
       "    <tr>\n",
       "      <th>3</th>\n",
       "      <td>1970-01-07</td>\n",
       "      <td>0.743690</td>\n",
       "      <td>0.754958</td>\n",
       "      <td>0.743690</td>\n",
       "      <td>0.744942</td>\n",
       "      <td>0.154685</td>\n",
       "      <td>4602624</td>\n",
       "    </tr>\n",
       "    <tr>\n",
       "      <th>4</th>\n",
       "      <td>1970-01-08</td>\n",
       "      <td>0.747446</td>\n",
       "      <td>0.758714</td>\n",
       "      <td>0.747446</td>\n",
       "      <td>0.751202</td>\n",
       "      <td>0.155985</td>\n",
       "      <td>13897728</td>\n",
       "    </tr>\n",
       "    <tr>\n",
       "      <th>...</th>\n",
       "      <td>...</td>\n",
       "      <td>...</td>\n",
       "      <td>...</td>\n",
       "      <td>...</td>\n",
       "      <td>...</td>\n",
       "      <td>...</td>\n",
       "      <td>...</td>\n",
       "    </tr>\n",
       "    <tr>\n",
       "      <th>12818</th>\n",
       "      <td>2020-10-23</td>\n",
       "      <td>7.930000</td>\n",
       "      <td>8.030000</td>\n",
       "      <td>7.560000</td>\n",
       "      <td>7.630000</td>\n",
       "      <td>7.617370</td>\n",
       "      <td>132563200</td>\n",
       "    </tr>\n",
       "    <tr>\n",
       "      <th>12819</th>\n",
       "      <td>2020-10-26</td>\n",
       "      <td>7.460000</td>\n",
       "      <td>7.560000</td>\n",
       "      <td>7.280000</td>\n",
       "      <td>7.380000</td>\n",
       "      <td>7.367784</td>\n",
       "      <td>104254400</td>\n",
       "    </tr>\n",
       "    <tr>\n",
       "      <th>12820</th>\n",
       "      <td>2020-10-27</td>\n",
       "      <td>7.400000</td>\n",
       "      <td>7.400000</td>\n",
       "      <td>7.090000</td>\n",
       "      <td>7.100000</td>\n",
       "      <td>7.088247</td>\n",
       "      <td>98170000</td>\n",
       "    </tr>\n",
       "    <tr>\n",
       "      <th>12821</th>\n",
       "      <td>2020-10-28</td>\n",
       "      <td>7.510000</td>\n",
       "      <td>7.860000</td>\n",
       "      <td>7.410000</td>\n",
       "      <td>7.420000</td>\n",
       "      <td>7.407717</td>\n",
       "      <td>253494100</td>\n",
       "    </tr>\n",
       "    <tr>\n",
       "      <th>12822</th>\n",
       "      <td>2020-10-29</td>\n",
       "      <td>7.660000</td>\n",
       "      <td>7.740000</td>\n",
       "      <td>7.310000</td>\n",
       "      <td>7.370000</td>\n",
       "      <td>7.357800</td>\n",
       "      <td>123298000</td>\n",
       "    </tr>\n",
       "  </tbody>\n",
       "</table>\n",
       "<p>12823 rows × 7 columns</p>\n",
       "</div>"
      ],
      "text/plain": [
       "             Date      Open      High       Low     Close  Adj Close     Volume\n",
       "0      1970-01-02  0.776242  0.777494  0.766226  0.767478   0.159365    2316288\n",
       "1      1970-01-05  0.767478  0.771234  0.757462  0.763722   0.158585    4233216\n",
       "2      1970-01-06  0.762470  0.762470  0.737430  0.741186   0.153906    3544320\n",
       "3      1970-01-07  0.743690  0.754958  0.743690  0.744942   0.154685    4602624\n",
       "4      1970-01-08  0.747446  0.758714  0.747446  0.751202   0.155985   13897728\n",
       "...           ...       ...       ...       ...       ...        ...        ...\n",
       "12818  2020-10-23  7.930000  8.030000  7.560000  7.630000   7.617370  132563200\n",
       "12819  2020-10-26  7.460000  7.560000  7.280000  7.380000   7.367784  104254400\n",
       "12820  2020-10-27  7.400000  7.400000  7.090000  7.100000   7.088247   98170000\n",
       "12821  2020-10-28  7.510000  7.860000  7.410000  7.420000   7.407717  253494100\n",
       "12822  2020-10-29  7.660000  7.740000  7.310000  7.370000   7.357800  123298000\n",
       "\n",
       "[12823 rows x 7 columns]"
      ]
     },
     "execution_count": 3,
     "metadata": {},
     "output_type": "execute_result"
    }
   ],
   "source": [
    "df = pd.read_csv(\"GE.csv\")\n",
    "df"
   ]
  },
  {
   "cell_type": "markdown",
   "id": "6b541cec-9eb2-4e72-9d51-494794bdc29e",
   "metadata": {},
   "source": [
    "### SEperating dates for future plotiing"
   ]
  },
  {
   "cell_type": "code",
   "execution_count": 4,
   "id": "206a967f-0dc9-452f-ab94-f3e1fbd11701",
   "metadata": {},
   "outputs": [
    {
     "data": {
      "text/plain": [
       "0       1970-01-02\n",
       "1       1970-01-05\n",
       "2       1970-01-06\n",
       "3       1970-01-07\n",
       "4       1970-01-08\n",
       "           ...    \n",
       "12818   2020-10-23\n",
       "12819   2020-10-26\n",
       "12820   2020-10-27\n",
       "12821   2020-10-28\n",
       "12822   2020-10-29\n",
       "Name: Date, Length: 12823, dtype: datetime64[ns]"
      ]
     },
     "execution_count": 4,
     "metadata": {},
     "output_type": "execute_result"
    }
   ],
   "source": [
    "train_dates = pd.to_datetime(df['Date'])\n",
    "train_dates"
   ]
  },
  {
   "cell_type": "code",
   "execution_count": 5,
   "id": "2f071f43-8635-445b-b443-43619e439c26",
   "metadata": {},
   "outputs": [
    {
     "data": {
      "text/plain": [
       "['Open', 'High', 'Low', 'Close', 'Adj Close']"
      ]
     },
     "execution_count": 5,
     "metadata": {},
     "output_type": "execute_result"
    }
   ],
   "source": [
    "# variables for training\n",
    "# we'll take all the varibales except date and volume\n",
    "cols = list(df)[1:6]\n",
    "cols\n",
    "\n",
    "# Alternatively\n",
    "# k = df.iloc[:,[1,2,3,4,5]]\n",
    "# k"
   ]
  },
  {
   "cell_type": "code",
   "execution_count": 6,
   "id": "300dd9a0-54fd-488b-ab73-0625709f250e",
   "metadata": {},
   "outputs": [
    {
     "data": {
      "text/html": [
       "<div>\n",
       "<style scoped>\n",
       "    .dataframe tbody tr th:only-of-type {\n",
       "        vertical-align: middle;\n",
       "    }\n",
       "\n",
       "    .dataframe tbody tr th {\n",
       "        vertical-align: top;\n",
       "    }\n",
       "\n",
       "    .dataframe thead th {\n",
       "        text-align: right;\n",
       "    }\n",
       "</style>\n",
       "<table border=\"1\" class=\"dataframe\">\n",
       "  <thead>\n",
       "    <tr style=\"text-align: right;\">\n",
       "      <th></th>\n",
       "      <th>Open</th>\n",
       "      <th>High</th>\n",
       "      <th>Low</th>\n",
       "      <th>Close</th>\n",
       "      <th>Adj Close</th>\n",
       "    </tr>\n",
       "  </thead>\n",
       "  <tbody>\n",
       "    <tr>\n",
       "      <th>0</th>\n",
       "      <td>0.776242</td>\n",
       "      <td>0.777494</td>\n",
       "      <td>0.766226</td>\n",
       "      <td>0.767478</td>\n",
       "      <td>0.159365</td>\n",
       "    </tr>\n",
       "    <tr>\n",
       "      <th>1</th>\n",
       "      <td>0.767478</td>\n",
       "      <td>0.771234</td>\n",
       "      <td>0.757462</td>\n",
       "      <td>0.763722</td>\n",
       "      <td>0.158585</td>\n",
       "    </tr>\n",
       "    <tr>\n",
       "      <th>2</th>\n",
       "      <td>0.762470</td>\n",
       "      <td>0.762470</td>\n",
       "      <td>0.737430</td>\n",
       "      <td>0.741186</td>\n",
       "      <td>0.153906</td>\n",
       "    </tr>\n",
       "    <tr>\n",
       "      <th>3</th>\n",
       "      <td>0.743690</td>\n",
       "      <td>0.754958</td>\n",
       "      <td>0.743690</td>\n",
       "      <td>0.744942</td>\n",
       "      <td>0.154685</td>\n",
       "    </tr>\n",
       "    <tr>\n",
       "      <th>4</th>\n",
       "      <td>0.747446</td>\n",
       "      <td>0.758714</td>\n",
       "      <td>0.747446</td>\n",
       "      <td>0.751202</td>\n",
       "      <td>0.155985</td>\n",
       "    </tr>\n",
       "    <tr>\n",
       "      <th>...</th>\n",
       "      <td>...</td>\n",
       "      <td>...</td>\n",
       "      <td>...</td>\n",
       "      <td>...</td>\n",
       "      <td>...</td>\n",
       "    </tr>\n",
       "    <tr>\n",
       "      <th>12818</th>\n",
       "      <td>7.930000</td>\n",
       "      <td>8.030000</td>\n",
       "      <td>7.560000</td>\n",
       "      <td>7.630000</td>\n",
       "      <td>7.617370</td>\n",
       "    </tr>\n",
       "    <tr>\n",
       "      <th>12819</th>\n",
       "      <td>7.460000</td>\n",
       "      <td>7.560000</td>\n",
       "      <td>7.280000</td>\n",
       "      <td>7.380000</td>\n",
       "      <td>7.367784</td>\n",
       "    </tr>\n",
       "    <tr>\n",
       "      <th>12820</th>\n",
       "      <td>7.400000</td>\n",
       "      <td>7.400000</td>\n",
       "      <td>7.090000</td>\n",
       "      <td>7.100000</td>\n",
       "      <td>7.088247</td>\n",
       "    </tr>\n",
       "    <tr>\n",
       "      <th>12821</th>\n",
       "      <td>7.510000</td>\n",
       "      <td>7.860000</td>\n",
       "      <td>7.410000</td>\n",
       "      <td>7.420000</td>\n",
       "      <td>7.407717</td>\n",
       "    </tr>\n",
       "    <tr>\n",
       "      <th>12822</th>\n",
       "      <td>7.660000</td>\n",
       "      <td>7.740000</td>\n",
       "      <td>7.310000</td>\n",
       "      <td>7.370000</td>\n",
       "      <td>7.357800</td>\n",
       "    </tr>\n",
       "  </tbody>\n",
       "</table>\n",
       "<p>12823 rows × 5 columns</p>\n",
       "</div>"
      ],
      "text/plain": [
       "           Open      High       Low     Close  Adj Close\n",
       "0      0.776242  0.777494  0.766226  0.767478   0.159365\n",
       "1      0.767478  0.771234  0.757462  0.763722   0.158585\n",
       "2      0.762470  0.762470  0.737430  0.741186   0.153906\n",
       "3      0.743690  0.754958  0.743690  0.744942   0.154685\n",
       "4      0.747446  0.758714  0.747446  0.751202   0.155985\n",
       "...         ...       ...       ...       ...        ...\n",
       "12818  7.930000  8.030000  7.560000  7.630000   7.617370\n",
       "12819  7.460000  7.560000  7.280000  7.380000   7.367784\n",
       "12820  7.400000  7.400000  7.090000  7.100000   7.088247\n",
       "12821  7.510000  7.860000  7.410000  7.420000   7.407717\n",
       "12822  7.660000  7.740000  7.310000  7.370000   7.357800\n",
       "\n",
       "[12823 rows x 5 columns]"
      ]
     },
     "execution_count": 6,
     "metadata": {},
     "output_type": "execute_result"
    }
   ],
   "source": [
    "# Taking all the rows\n",
    "df_for_training = df[cols].astype(float)\n",
    "df_for_training"
   ]
  },
  {
   "cell_type": "code",
   "execution_count": 7,
   "id": "e657e0b1-33fa-48da-9e8c-59636b793590",
   "metadata": {},
   "outputs": [
    {
     "data": {
      "text/plain": [
       "<AxesSubplot:>"
      ]
     },
     "execution_count": 7,
     "metadata": {},
     "output_type": "execute_result"
    },
    {
     "data": {
      "image/png": "[encoded data removed]",
      "text/plain": [
       "<Figure size 432x288 with 1 Axes>"
      ]
     },
     "metadata": {
      "needs_background": "light"
     },
     "output_type": "display_data"
    }
   ],
   "source": [
    "#Plotting the dataframe\n",
    "df_for_plot = df_for_training.tail(5000)\n",
    "df_for_plot.plot()\n"
   ]
  },
  {
   "cell_type": "code",
   "execution_count": 8,
   "id": "88e45431-cdb2-4a76-9b8e-c9bd2b645c5b",
   "metadata": {},
   "outputs": [
    {
     "data": {
      "text/plain": [
       "<AxesSubplot:>"
      ]
     },
     "execution_count": 8,
     "metadata": {},
     "output_type": "execute_result"
    },
    {
     "data": {
      "image/png": "[encoded data removed]",
      "text/plain": [
       "<Figure size 432x288 with 1 Axes>"
      ]
     },
     "metadata": {
      "needs_background": "light"
     },
     "output_type": "display_data"
    }
   ],
   "source": [
    "df_for_training.plot()"
   ]
  },
  {
   "cell_type": "markdown",
   "id": "7108aab1-3c11-41d1-97f6-66f7fe48fdbc",
   "metadata": {},
   "source": [
    "#### LSTM uses sigmoid and tanh that are sensitive to magnitude so values need to be normalized\n",
    "## normalize the dataset"
   ]
  },
  {
   "cell_type": "code",
   "execution_count": 9,
   "id": "fe9b52ad-5ee5-4532-8ffb-e68cf7135b98",
   "metadata": {},
   "outputs": [],
   "source": [
    "from sklearn.preprocessing import StandardScaler\n",
    "sc = StandardScaler()\n",
    "scaler = sc.fit(df_for_training)\n",
    "df_for_training_scaled = scaler.transform(df_for_training) \n",
    "# Perform standardization by centering and scaling"
   ]
  },
  {
   "cell_type": "code",
   "execution_count": 10,
   "id": "6ab0045f-0364-4744-8546-cac6fcc3e7df",
   "metadata": {},
   "outputs": [
    {
     "name": "stdout",
     "output_type": "stream",
     "text": [
      "df_for_training_scaled value is\n",
      " [[-0.97378877 -0.97388589 -0.97415185 -0.97420562 -0.97631221]\n",
      " [-0.97443889 -0.97434522 -0.9748095  -0.97448422 -0.97639712]\n",
      " [-0.97481038 -0.97498828 -0.9763127  -0.97615581 -0.97690647]\n",
      " ...\n",
      " [-0.4824379  -0.48795858 -0.49961686 -0.5044953  -0.2220384 ]\n",
      " [-0.47427809 -0.45420602 -0.47560411 -0.48075953 -0.1872611 ]\n",
      " [-0.46315108 -0.46301104 -0.48310809 -0.48446824 -0.19269503]]\n"
     ]
    }
   ],
   "source": [
    "print(\"df_for_training_scaled value is\\n\",df_for_training_scaled)"
   ]
  },
  {
   "cell_type": "markdown",
   "id": "a20076e7-f156-4e90-824a-bfdc7aedb0e2",
   "metadata": {},
   "source": [
    "#### As required for LSTM networks, we require to reshape an input data into n_samples x timesteps x n_features. \n",
    "##### In this example, the n_features is 2. We will make timesteps = 3. \n",
    "##### With this, the resultant n_samples is 5 (as the input data has 9 rows)."
   ]
  },
  {
   "cell_type": "code",
   "execution_count": 11,
   "id": "7ac2bd3d-88c9-421f-92ed-ba30c2f6b3b3",
   "metadata": {},
   "outputs": [],
   "source": [
    "X_train = []\n",
    "y_train = []\n",
    "\n",
    "n_future = 1 # values between 1-14 and 15 willbe label\n",
    "n_past = 14 #\n",
    "\n",
    "#value between 1 to 14 will be considered as X_train and next value will be label\n",
    "# this is time step\n",
    "\n",
    "for i in range(n_past,len(df_for_training_scaled)-n_future + 1):\n",
    "    X_train.append(df_for_training_scaled[i-n_past:i,0:df_for_training.shape[1]])\n",
    "    y_train.append(df_for_training_scaled[i + n_future - 1: i+n_future,0])\n",
    "    \n",
    "X_train,y_train = np.array(X_train),np.array(y_train)"
   ]
  },
  {
   "cell_type": "code",
   "execution_count": 12,
   "id": "15f22136-4b47-4a64-8a17-735c75abbecb",
   "metadata": {},
   "outputs": [
    {
     "name": "stdout",
     "output_type": "stream",
     "text": [
      "X_train is\n",
      " [[[-0.97378877 -0.97388589 -0.97415185 -0.97420562 -0.97631221]\n",
      "  [-0.97443889 -0.97434522 -0.9748095  -0.97448422 -0.97639712]\n",
      "  [-0.97481038 -0.97498828 -0.9763127  -0.97615581 -0.97690647]\n",
      "  ...\n",
      "  [-0.97611061 -0.97609067 -0.97678245 -0.97689874 -0.9771329 ]\n",
      "  [-0.97713222 -0.97700933 -0.97697035 -0.97671301 -0.97707629]\n",
      "  [-0.97694647 -0.97609067 -0.97659455 -0.97615581 -0.97690647]]\n",
      "\n",
      " [[-0.97443889 -0.97434522 -0.9748095  -0.97448422 -0.97639712]\n",
      "  [-0.97481038 -0.97498828 -0.9763127  -0.97615581 -0.97690647]\n",
      "  [-0.97620348 -0.97553948 -0.97584295 -0.97587721 -0.97682167]\n",
      "  ...\n",
      "  [-0.97713222 -0.97700933 -0.97697035 -0.97671301 -0.97707629]\n",
      "  [-0.97694647 -0.97609067 -0.97659455 -0.97615581 -0.97690647]\n",
      "  [-0.97638923 -0.97618254 -0.97621875 -0.97606295 -0.97687817]]\n",
      "\n",
      " [[-0.97481038 -0.97498828 -0.9763127  -0.97615581 -0.97690647]\n",
      "  [-0.97620348 -0.97553948 -0.97584295 -0.97587721 -0.97682167]\n",
      "  [-0.97592486 -0.97526388 -0.9755611  -0.97541288 -0.97668015]\n",
      "  ...\n",
      "  [-0.97694647 -0.97609067 -0.97659455 -0.97615581 -0.97690647]\n",
      "  [-0.97638923 -0.97618254 -0.97621875 -0.97606295 -0.97687817]\n",
      "  [-0.97629636 -0.9762744  -0.9768764  -0.97689874 -0.9771329 ]]\n",
      "\n",
      " ...\n",
      "\n",
      " [[-0.56997039 -0.56133372 -0.56565192 -0.56309299 -0.30789493]\n",
      "  [-0.55958518 -0.54152244 -0.55589674 -0.53787373 -0.27094403]\n",
      "  [-0.50691732 -0.51217238 -0.52888239 -0.52378062 -0.25029493]\n",
      "  ...\n",
      "  [-0.4876305  -0.46227728 -0.48235769 -0.45850724 -0.15465728]\n",
      "  [-0.44312246 -0.44173224 -0.46434813 -0.46518293 -0.1644384 ]\n",
      "  [-0.47798709 -0.47621856 -0.48535929 -0.4837265  -0.19160818]]\n",
      "\n",
      " [[-0.55958518 -0.54152244 -0.55589674 -0.53787373 -0.27094403]\n",
      "  [-0.50691732 -0.51217238 -0.52888239 -0.52378062 -0.25029493]\n",
      "  [-0.51804433 -0.52317865 -0.5258808  -0.52452236 -0.25138178]\n",
      "  ...\n",
      "  [-0.44312246 -0.44173224 -0.46434813 -0.46518293 -0.1644384 ]\n",
      "  [-0.47798709 -0.47621856 -0.48535929 -0.4837265  -0.19160818]\n",
      "  [-0.4824379  -0.48795858 -0.49961686 -0.5044953  -0.2220384 ]]\n",
      "\n",
      " [[-0.50691732 -0.51217238 -0.52888239 -0.52378062 -0.25029493]\n",
      "  [-0.51804433 -0.52317865 -0.5258808  -0.52452236 -0.25138178]\n",
      "  [-0.52768774 -0.53051617 -0.53188399 -0.53268153 -0.2633365 ]\n",
      "  ...\n",
      "  [-0.47798709 -0.47621856 -0.48535929 -0.4837265  -0.19160818]\n",
      "  [-0.4824379  -0.48795858 -0.49961686 -0.5044953  -0.2220384 ]\n",
      "  [-0.47427809 -0.45420602 -0.47560411 -0.48075953 -0.1872611 ]]]\n",
      "y_train is\n",
      " [[-0.97638923]\n",
      " [-0.97629636]\n",
      " [-0.97713222]\n",
      " ...\n",
      " [-0.4824379 ]\n",
      " [-0.47427809]\n",
      " [-0.46315108]]\n"
     ]
    }
   ],
   "source": [
    "# import sys\n",
    "# np.set_printoptions(threshold=sys.maxsize)\n",
    "print(\"X_train is\\n\", X_train)\n",
    "print(\"y_train is\\n\",y_train)\n",
    "\n"
   ]
  },
  {
   "cell_type": "code",
   "execution_count": 13,
   "id": "34869428-2390-4471-9bc6-f745e01d8bc0",
   "metadata": {},
   "outputs": [
    {
     "name": "stdout",
     "output_type": "stream",
     "text": [
      "X_train shape is :\n",
      " (12809, 14, 5)\n",
      "y_train shape is :\n",
      " (12809, 1)\n",
      "df_for_training_scaled shape is\n",
      " (12823, 5)\n"
     ]
    }
   ],
   "source": [
    "print('X_train shape is :\\n',X_train.shape) #12809 is number of rows 14 is timesteps and 5 is columns\n",
    "print('y_train shape is :\\n',y_train.shape)\n",
    "print(\"df_for_training_scaled shape is\\n\",df_for_training_scaled.shape)"
   ]
  },
  {
   "cell_type": "code",
   "execution_count": 14,
   "id": "342d3cb9-2949-415a-8fc4-f10b211b225a",
   "metadata": {},
   "outputs": [
    {
     "name": "stdout",
     "output_type": "stream",
     "text": [
      "WARNING:tensorflow:Layer lstm will not use cuDNN kernel since it doesn't meet the cuDNN kernel criteria. It will use generic GPU kernel as fallback when running on GPU\n",
      "WARNING:tensorflow:Layer lstm_1 will not use cuDNN kernel since it doesn't meet the cuDNN kernel criteria. It will use generic GPU kernel as fallback when running on GPU\n",
      "Model: \"sequential\"\n",
      "_________________________________________________________________\n",
      "Layer (type)                 Output Shape              Param #   \n",
      "=================================================================\n",
      "lstm (LSTM)                  (None, 14, 64)            17920     \n",
      "_________________________________________________________________\n",
      "lstm_1 (LSTM)                (None, 32)                12416     \n",
      "_________________________________________________________________\n",
      "dropout (Dropout)            (None, 32)                0         \n",
      "_________________________________________________________________\n",
      "dense (Dense)                (None, 1)                 33        \n",
      "=================================================================\n",
      "Total params: 30,369\n",
      "Trainable params: 30,369\n",
      "Non-trainable params: 0\n",
      "_________________________________________________________________\n"
     ]
    }
   ],
   "source": [
    "#Define AutoEncoder Model\n",
    "model = Sequential()\n",
    "model.add(LSTM(64,activation='relu',input_shape=(X_train.shape[1],X_train.shape[2]),return_sequences=True))\n",
    "model.add(LSTM(32, activation='relu', return_sequences=False))\n",
    "model.add(Dropout(0.2))\n",
    "model.add(Dense(y_train.shape[1]))\n",
    "\n",
    "model.compile(optimizer='adam', loss='mse')\n",
    "model.summary()"
   ]
  },
  {
   "cell_type": "code",
   "execution_count": 15,
   "id": "d15ffb41-8196-4e30-b362-6bcc09eb6ab7",
   "metadata": {},
   "outputs": [],
   "source": [
    "#Fitting the model\n",
    "from keras.optimizers import RMSprop\n",
    "from keras.callbacks import ModelCheckpoint,EarlyStopping\n",
    "\n",
    "checkpoint = ModelCheckpoint('GE_STOCKS.h5',\n",
    "                            monitor = 'val_loss', #Only saving the model which has minimum val loss with patience of 3\n",
    "                            mode = 'min',\n",
    "                            save_best_only=True,\n",
    "                            verbose = 1)\n",
    "\n",
    "earlystop = EarlyStopping(monitor = 'val_loss', \n",
    "                          min_delta = 0, \n",
    "                          patience = 3,\n",
    "                          verbose = 1,\n",
    "                          restore_best_weights = True)\n",
    "\n",
    "callbacks = [earlystop,checkpoint]\n",
    "\n",
    "# model = model.fit(X_train,y_train,epochs=100,batch_size=32,validation_split=0.1,verbose=1,earlystop)\n"
   ]
  },
  {
   "cell_type": "code",
   "execution_count": 22,
   "id": "a0c1b622-6c2d-4bf0-9ee8-66bbbd4d317e",
   "metadata": {},
   "outputs": [
    {
     "name": "stdout",
     "output_type": "stream",
     "text": [
      "WARNING:tensorflow:Layer lstm will not use cuDNN kernel since it doesn't meet the cuDNN kernel criteria. It will use generic GPU kernel as fallback when running on GPU\n",
      "WARNING:tensorflow:Layer lstm_1 will not use cuDNN kernel since it doesn't meet the cuDNN kernel criteria. It will use generic GPU kernel as fallback when running on GPU\n"
     ]
    }
   ],
   "source": [
    "from keras.models import load_model\n",
    "model = load_model(\"GE_STOCKS.h5\")"
   ]
  },
  {
   "cell_type": "code",
   "execution_count": 25,
   "id": "fae4304b-c678-46b1-afed-1e962290db1a",
   "metadata": {},
   "outputs": [],
   "source": [
    "# plt.plot(history.history['loss'], label='Training loss')\n",
    "# plt.plot(history.history['val_loss'], label='Validation loss')\n",
    "# plt.legend()"
   ]
  },
  {
   "cell_type": "markdown",
   "id": "0e8fb191-7241-4abc-9278-4ed117654119",
   "metadata": {},
   "source": [
    "### PREDICTING THE FUTUTRE"
   ]
  },
  {
   "cell_type": "code",
   "execution_count": 95,
   "id": "aa7fb6f9-99a9-43a7-afdd-638d75e3f48a",
   "metadata": {},
   "outputs": [
    {
     "data": {
      "text/plain": [
       "'forecast shape is (90, 1)'"
      ]
     },
     "execution_count": 95,
     "metadata": {},
     "output_type": "execute_result"
    }
   ],
   "source": [
    "# Start with the last day in training date and predict future...\n",
    "k_future = 90 #Predicting 90 days  in future. \n",
    "forecast_period_dates = pd.date_range(list(train_dates)[-1],periods=k_future,freq='1d').tolist()\n",
    "\"\"\" Take the current date \"list(train_dates)\" - 1, then go to 90 days in future with a frequency of 1 day\n",
    "#date_range - Return a fixed frequency DatetimeIndex.\n",
    "# to list - Converts series into List.\"\"\"\n",
    "\n",
    "forecast = model.predict(X_train[-k_future:])\n",
    "f\"forecast shape is {forecast.shape}\"\n"
   ]
  },
  {
   "cell_type": "code",
   "execution_count": 96,
   "id": "2a7c5898-5275-4231-8e10-54d42dc8b036",
   "metadata": {},
   "outputs": [
    {
     "data": {
      "text/plain": [
       "[Timestamp('2020-10-29 00:00:00', freq='D'),\n",
       " Timestamp('2020-10-30 00:00:00', freq='D'),\n",
       " Timestamp('2020-10-31 00:00:00', freq='D'),\n",
       " Timestamp('2020-11-01 00:00:00', freq='D'),\n",
       " Timestamp('2020-11-02 00:00:00', freq='D'),\n",
       " Timestamp('2020-11-03 00:00:00', freq='D'),\n",
       " Timestamp('2020-11-04 00:00:00', freq='D'),\n",
       " Timestamp('2020-11-05 00:00:00', freq='D'),\n",
       " Timestamp('2020-11-06 00:00:00', freq='D'),\n",
       " Timestamp('2020-11-07 00:00:00', freq='D'),\n",
       " Timestamp('2020-11-08 00:00:00', freq='D'),\n",
       " Timestamp('2020-11-09 00:00:00', freq='D'),\n",
       " Timestamp('2020-11-10 00:00:00', freq='D'),\n",
       " Timestamp('2020-11-11 00:00:00', freq='D'),\n",
       " Timestamp('2020-11-12 00:00:00', freq='D'),\n",
       " Timestamp('2020-11-13 00:00:00', freq='D'),\n",
       " Timestamp('2020-11-14 00:00:00', freq='D'),\n",
       " Timestamp('2020-11-15 00:00:00', freq='D'),\n",
       " Timestamp('2020-11-16 00:00:00', freq='D'),\n",
       " Timestamp('2020-11-17 00:00:00', freq='D'),\n",
       " Timestamp('2020-11-18 00:00:00', freq='D'),\n",
       " Timestamp('2020-11-19 00:00:00', freq='D'),\n",
       " Timestamp('2020-11-20 00:00:00', freq='D'),\n",
       " Timestamp('2020-11-21 00:00:00', freq='D'),\n",
       " Timestamp('2020-11-22 00:00:00', freq='D'),\n",
       " Timestamp('2020-11-23 00:00:00', freq='D'),\n",
       " Timestamp('2020-11-24 00:00:00', freq='D'),\n",
       " Timestamp('2020-11-25 00:00:00', freq='D'),\n",
       " Timestamp('2020-11-26 00:00:00', freq='D'),\n",
       " Timestamp('2020-11-27 00:00:00', freq='D'),\n",
       " Timestamp('2020-11-28 00:00:00', freq='D'),\n",
       " Timestamp('2020-11-29 00:00:00', freq='D'),\n",
       " Timestamp('2020-11-30 00:00:00', freq='D'),\n",
       " Timestamp('2020-12-01 00:00:00', freq='D'),\n",
       " Timestamp('2020-12-02 00:00:00', freq='D'),\n",
       " Timestamp('2020-12-03 00:00:00', freq='D'),\n",
       " Timestamp('2020-12-04 00:00:00', freq='D'),\n",
       " Timestamp('2020-12-05 00:00:00', freq='D'),\n",
       " Timestamp('2020-12-06 00:00:00', freq='D'),\n",
       " Timestamp('2020-12-07 00:00:00', freq='D'),\n",
       " Timestamp('2020-12-08 00:00:00', freq='D'),\n",
       " Timestamp('2020-12-09 00:00:00', freq='D'),\n",
       " Timestamp('2020-12-10 00:00:00', freq='D'),\n",
       " Timestamp('2020-12-11 00:00:00', freq='D'),\n",
       " Timestamp('2020-12-12 00:00:00', freq='D'),\n",
       " Timestamp('2020-12-13 00:00:00', freq='D'),\n",
       " Timestamp('2020-12-14 00:00:00', freq='D'),\n",
       " Timestamp('2020-12-15 00:00:00', freq='D'),\n",
       " Timestamp('2020-12-16 00:00:00', freq='D'),\n",
       " Timestamp('2020-12-17 00:00:00', freq='D'),\n",
       " Timestamp('2020-12-18 00:00:00', freq='D'),\n",
       " Timestamp('2020-12-19 00:00:00', freq='D'),\n",
       " Timestamp('2020-12-20 00:00:00', freq='D'),\n",
       " Timestamp('2020-12-21 00:00:00', freq='D'),\n",
       " Timestamp('2020-12-22 00:00:00', freq='D'),\n",
       " Timestamp('2020-12-23 00:00:00', freq='D'),\n",
       " Timestamp('2020-12-24 00:00:00', freq='D'),\n",
       " Timestamp('2020-12-25 00:00:00', freq='D'),\n",
       " Timestamp('2020-12-26 00:00:00', freq='D'),\n",
       " Timestamp('2020-12-27 00:00:00', freq='D'),\n",
       " Timestamp('2020-12-28 00:00:00', freq='D'),\n",
       " Timestamp('2020-12-29 00:00:00', freq='D'),\n",
       " Timestamp('2020-12-30 00:00:00', freq='D'),\n",
       " Timestamp('2020-12-31 00:00:00', freq='D'),\n",
       " Timestamp('2021-01-01 00:00:00', freq='D'),\n",
       " Timestamp('2021-01-02 00:00:00', freq='D'),\n",
       " Timestamp('2021-01-03 00:00:00', freq='D'),\n",
       " Timestamp('2021-01-04 00:00:00', freq='D'),\n",
       " Timestamp('2021-01-05 00:00:00', freq='D'),\n",
       " Timestamp('2021-01-06 00:00:00', freq='D'),\n",
       " Timestamp('2021-01-07 00:00:00', freq='D'),\n",
       " Timestamp('2021-01-08 00:00:00', freq='D'),\n",
       " Timestamp('2021-01-09 00:00:00', freq='D'),\n",
       " Timestamp('2021-01-10 00:00:00', freq='D'),\n",
       " Timestamp('2021-01-11 00:00:00', freq='D'),\n",
       " Timestamp('2021-01-12 00:00:00', freq='D'),\n",
       " Timestamp('2021-01-13 00:00:00', freq='D'),\n",
       " Timestamp('2021-01-14 00:00:00', freq='D'),\n",
       " Timestamp('2021-01-15 00:00:00', freq='D'),\n",
       " Timestamp('2021-01-16 00:00:00', freq='D'),\n",
       " Timestamp('2021-01-17 00:00:00', freq='D'),\n",
       " Timestamp('2021-01-18 00:00:00', freq='D'),\n",
       " Timestamp('2021-01-19 00:00:00', freq='D'),\n",
       " Timestamp('2021-01-20 00:00:00', freq='D'),\n",
       " Timestamp('2021-01-21 00:00:00', freq='D'),\n",
       " Timestamp('2021-01-22 00:00:00', freq='D'),\n",
       " Timestamp('2021-01-23 00:00:00', freq='D'),\n",
       " Timestamp('2021-01-24 00:00:00', freq='D'),\n",
       " Timestamp('2021-01-25 00:00:00', freq='D'),\n",
       " Timestamp('2021-01-26 00:00:00', freq='D')]"
      ]
     },
     "execution_count": 96,
     "metadata": {},
     "output_type": "execute_result"
    }
   ],
   "source": [
    "forecast_period_dates"
   ]
  },
  {
   "cell_type": "markdown",
   "id": "d7e8a618-70d0-42c4-ab06-b4d4ae6fa3e4",
   "metadata": {},
   "source": [
    "#### forecast"
   ]
  },
  {
   "cell_type": "code",
   "execution_count": 75,
   "id": "5da76f81-6899-446d-8311-093055b4478a",
   "metadata": {},
   "outputs": [
    {
     "name": "stdout",
     "output_type": "stream",
     "text": [
      "X_train[-k_future]\n",
      " [[-0.4891141  -0.46227728 -0.49361367 -0.45702376 -0.15512897]\n",
      " [-0.40454882 -0.40284342 -0.44408737 -0.44663936 -0.13996181]\n",
      " [-0.42161024 -0.40210967 -0.42307622 -0.40361827 -0.077126  ]\n",
      " [-0.42383564 -0.42852472 -0.43883458 -0.43625496 -0.12479454]\n",
      " [-0.44015525 -0.445401   -0.46734972 -0.46666642 -0.16921276]\n",
      " [-0.50765912 -0.49162734 -0.51837682 -0.51562145 -0.24071552]\n",
      " [-0.4868887  -0.48575733 -0.50036725 -0.49336916 -0.20821424]\n",
      " [-0.51581893 -0.49162734 -0.51762642 -0.4941109  -0.20929772]\n",
      " [-0.45795847 -0.46301104 -0.48460889 -0.47705082 -0.18438013]\n",
      " [-0.47501989 -0.47841982 -0.49136247 -0.4941109  -0.20929772]\n",
      " [-0.50246652 -0.49382859 -0.50486964 -0.49114393 -0.20496414]\n",
      " [-0.4809543  -0.48428983 -0.49961686 -0.50078659 -0.21904804]\n",
      " [-0.49949932 -0.50410111 -0.50937203 -0.50894576 -0.23096509]\n",
      " [-0.50543372 -0.50776987 -0.50862164 -0.51191273 -0.23529867]]\n",
      "X_train[k_future]\n",
      " [[-0.98001129 -0.98013276 -0.98054044 -0.98024193 -0.97800998]\n",
      " [-0.98056853 -0.98068395 -0.98166784 -0.98172778 -0.97846697]\n",
      " [-0.98196164 -0.98206194 -0.98298314 -0.98237785 -0.97866683]\n",
      " [-0.98261175 -0.98178634 -0.98307709 -0.98163492 -0.97843834]\n",
      " [-0.98159014 -0.98077582 -0.98129204 -0.98107772 -0.97826699]\n",
      " [-0.98131152 -0.98132701 -0.98129204 -0.98135632 -0.97835267]\n",
      " [-0.98159014 -0.98160261 -0.98354684 -0.98339938 -0.978981  ]\n",
      " [-0.98363336 -0.98353179 -0.98467424 -0.98395657 -0.97915235]\n",
      " [-0.9841906  -0.98307246 -0.98467424 -0.98377084 -0.9790952 ]\n",
      " [-0.98456209 -0.98463418 -0.98533189 -0.9852567  -0.97955219]\n",
      " [-0.98549083 -0.9853691  -0.98617744 -0.98618536 -0.97983772]\n",
      " [-0.98641956 -0.98435858 -0.98636534 -0.9844209  -0.97929517]\n",
      " [-0.98446922 -0.98325619 -0.98420449 -0.98367798 -0.97906667]\n",
      " [-0.98391198 -0.98187821 -0.98429844 -0.98182065 -0.97849549]]\n",
      "DIFFERENCE VALUE IS: [[-0.49089719 -0.51785548 -0.48692678 -0.52321817 -0.82288101]\n",
      " [-0.57601972 -0.57784053 -0.53758047 -0.53508843 -0.83850516]\n",
      " [-0.5603514  -0.57995227 -0.55990692 -0.57875958 -0.90154084]\n",
      " [-0.55877611 -0.55326162 -0.54424251 -0.54537996 -0.8536438 ]\n",
      " [-0.54143489 -0.53537482 -0.51394232 -0.51441131 -0.80905424]\n",
      " [-0.4736524  -0.48969967 -0.46291523 -0.46573487 -0.73763715]\n",
      " [-0.49470144 -0.49584528 -0.48317959 -0.49003022 -0.77076676]\n",
      " [-0.46781443 -0.49190445 -0.46704782 -0.48984567 -0.76985463]\n",
      " [-0.52623213 -0.52006143 -0.50006535 -0.50672003 -0.79471506]\n",
      " [-0.5095422  -0.50621436 -0.49396942 -0.4911458  -0.77025447]\n",
      " [-0.48302431 -0.49154051 -0.48130779 -0.49504143 -0.77487359]\n",
      " [-0.50546527 -0.50006876 -0.48674848 -0.48363432 -0.76024713]\n",
      " [-0.4849699  -0.47915508 -0.47483246 -0.47473221 -0.74810158]\n",
      " [-0.47847826 -0.47410834 -0.4756768  -0.46990792 -0.74319681]]\n"
     ]
    }
   ],
   "source": [
    "print(\"X_train[-k_future]\\n\",X_train[-k_future])\n",
    "print(\"X_train[k_future]\\n\",X_train[k_future])\n",
    "\n",
    "print(\"DIFFERENCE VALUE IS:\",X_train[k_future]-X_train[-k_future])"
   ]
  },
  {
   "cell_type": "markdown",
   "id": "f3196929-7ac5-4a56-9f5a-3d0d1a9bbafd",
   "metadata": {},
   "source": [
    "#### Perform inverse transformation to rescale back to original range\n",
    "#### Since we used 5 variables for transform, the inverse expects same dimensions\n",
    "#### Therefore, let us copy our values 5 times and discard them after inverse transform"
   ]
  },
  {
   "cell_type": "code",
   "execution_count": 87,
   "id": "5ae3e38f-b9a8-44cc-ae3d-682e35b31e30",
   "metadata": {},
   "outputs": [],
   "source": [
    "forecast_copies = np.repeat(forecast,df_for_training.shape[1],axis=-1)\n",
    "y_pred_future = scaler.inverse_transform(forecast_copies)[:,0]"
   ]
  },
  {
   "cell_type": "code",
   "execution_count": 91,
   "id": "6fdc327f-3a76-49f7-a988-d22233acccd0",
   "metadata": {},
   "outputs": [
    {
     "name": "stdout",
     "output_type": "stream",
     "text": [
      "(90,)\n"
     ]
    },
    {
     "data": {
      "text/plain": [
       "array([7.5168533, 7.4202237, 7.309417 , 7.1969004, 7.1186604, 7.0698204,\n",
       "       7.044625 , 7.0342474, 7.0465765, 7.0372334, 7.030039 , 7.006453 ,\n",
       "       6.976702 , 6.960648 , 6.957299 , 7.0029907, 7.0508914, 7.095167 ,\n",
       "       7.1142397, 7.1345067, 7.151471 , 7.1695485, 7.171898 , 7.1517057,\n",
       "       7.135117 , 7.106697 , 7.0402017, 6.9384656, 6.831289 , 6.7299933,\n",
       "       6.6606245, 6.6119485, 6.580915 , 6.5854983, 6.6285906, 6.6740465,\n",
       "       6.704541 , 6.7251797, 6.7304544, 6.7259235, 6.7180223, 6.69426  ,\n",
       "       6.66638  , 6.6641717, 6.676944 , 6.683237 , 6.6861463, 6.693114 ,\n",
       "       6.6822805, 6.650342 , 6.6259527, 6.6105905, 6.6042314, 6.578696 ,\n",
       "       6.5423403, 6.4982514, 6.445244 , 6.402287 , 6.3701744, 6.396962 ,\n",
       "       6.4948125, 6.600309 , 6.6356173, 6.637796 , 6.6110587, 6.5635157,\n",
       "       6.5166435, 6.489829 , 6.4648423, 6.448262 , 6.4388366, 6.4347873,\n",
       "       6.448229 , 6.447175 , 6.446154 , 6.475952 , 6.560242 , 6.6466594,\n",
       "       6.7124324, 6.7726727, 6.820754 , 6.9076157, 7.015643 , 7.122377 ,\n",
       "       7.213753 , 7.320691 , 7.4378214, 7.5064383, 7.5290008, 7.570867 ],\n",
       "      dtype=float32)"
      ]
     },
     "execution_count": 91,
     "metadata": {},
     "output_type": "execute_result"
    }
   ],
   "source": [
    "print(y_pred_future.shape)\n",
    "y_pred_future"
   ]
  },
  {
   "cell_type": "code",
   "execution_count": 93,
   "id": "3b847bf1-98c1-45eb-b8be-da5ed3791ed1",
   "metadata": {},
   "outputs": [
    {
     "data": {
      "text/plain": [
       "array([[-0.47376972, -0.47376972, -0.47376972, -0.47376972, -0.47376972],\n",
       "       [-0.48093772, -0.48093772, -0.48093772, -0.48093772, -0.48093772],\n",
       "       [-0.48915738, -0.48915738, -0.48915738, -0.48915738, -0.48915738],\n",
       "       [-0.49750388, -0.49750388, -0.49750388, -0.49750388, -0.49750388],\n",
       "       [-0.5033077 , -0.5033077 , -0.5033077 , -0.5033077 , -0.5033077 ],\n",
       "       [-0.50693065, -0.50693065, -0.50693065, -0.50693065, -0.50693065],\n",
       "       [-0.5087997 , -0.5087997 , -0.5087997 , -0.5087997 , -0.5087997 ],\n",
       "       [-0.50956947, -0.50956947, -0.50956947, -0.50956947, -0.50956947],\n",
       "       [-0.5086549 , -0.5086549 , -0.5086549 , -0.5086549 , -0.5086549 ],\n",
       "       [-0.509348  , -0.509348  , -0.509348  , -0.509348  , -0.509348  ],\n",
       "       [-0.5098817 , -0.5098817 , -0.5098817 , -0.5098817 , -0.5098817 ],\n",
       "       [-0.51163125, -0.51163125, -0.51163125, -0.51163125, -0.51163125],\n",
       "       [-0.5138382 , -0.5138382 , -0.5138382 , -0.5138382 , -0.5138382 ],\n",
       "       [-0.5150291 , -0.5150291 , -0.5150291 , -0.5150291 , -0.5150291 ],\n",
       "       [-0.5152775 , -0.5152775 , -0.5152775 , -0.5152775 , -0.5152775 ],\n",
       "       [-0.5118881 , -0.5118881 , -0.5118881 , -0.5118881 , -0.5118881 ],\n",
       "       [-0.5083348 , -0.5083348 , -0.5083348 , -0.5083348 , -0.5083348 ],\n",
       "       [-0.5050504 , -0.5050504 , -0.5050504 , -0.5050504 , -0.5050504 ],\n",
       "       [-0.50363564, -0.50363564, -0.50363564, -0.50363564, -0.50363564],\n",
       "       [-0.50213224, -0.50213224, -0.50213224, -0.50213224, -0.50213224],\n",
       "       [-0.5008738 , -0.5008738 , -0.5008738 , -0.5008738 , -0.5008738 ],\n",
       "       [-0.49953282, -0.49953282, -0.49953282, -0.49953282, -0.49953282],\n",
       "       [-0.49935853, -0.49935853, -0.49935853, -0.49935853, -0.49935853],\n",
       "       [-0.5008564 , -0.5008564 , -0.5008564 , -0.5008564 , -0.5008564 ],\n",
       "       [-0.50208694, -0.50208694, -0.50208694, -0.50208694, -0.50208694],\n",
       "       [-0.50419515, -0.50419515, -0.50419515, -0.50419515, -0.50419515],\n",
       "       [-0.5091278 , -0.5091278 , -0.5091278 , -0.5091278 , -0.5091278 ],\n",
       "       [-0.5166746 , -0.5166746 , -0.5166746 , -0.5166746 , -0.5166746 ],\n",
       "       [-0.52462494, -0.52462494, -0.52462494, -0.52462494, -0.52462494],\n",
       "       [-0.53213906, -0.53213906, -0.53213906, -0.53213906, -0.53213906],\n",
       "       [-0.53728485, -0.53728485, -0.53728485, -0.53728485, -0.53728485],\n",
       "       [-0.54089564, -0.54089564, -0.54089564, -0.54089564, -0.54089564],\n",
       "       [-0.5431977 , -0.5431977 , -0.5431977 , -0.5431977 , -0.5431977 ],\n",
       "       [-0.5428577 , -0.5428577 , -0.5428577 , -0.5428577 , -0.5428577 ],\n",
       "       [-0.5396611 , -0.5396611 , -0.5396611 , -0.5396611 , -0.5396611 ],\n",
       "       [-0.5362892 , -0.5362892 , -0.5362892 , -0.5362892 , -0.5362892 ],\n",
       "       [-0.5340271 , -0.5340271 , -0.5340271 , -0.5340271 , -0.5340271 ],\n",
       "       [-0.53249615, -0.53249615, -0.53249615, -0.53249615, -0.53249615],\n",
       "       [-0.53210485, -0.53210485, -0.53210485, -0.53210485, -0.53210485],\n",
       "       [-0.53244096, -0.53244096, -0.53244096, -0.53244096, -0.53244096],\n",
       "       [-0.53302705, -0.53302705, -0.53302705, -0.53302705, -0.53302705],\n",
       "       [-0.53478974, -0.53478974, -0.53478974, -0.53478974, -0.53478974],\n",
       "       [-0.5368579 , -0.5368579 , -0.5368579 , -0.5368579 , -0.5368579 ],\n",
       "       [-0.5370217 , -0.5370217 , -0.5370217 , -0.5370217 , -0.5370217 ],\n",
       "       [-0.5360743 , -0.5360743 , -0.5360743 , -0.5360743 , -0.5360743 ],\n",
       "       [-0.53560746, -0.53560746, -0.53560746, -0.53560746, -0.53560746],\n",
       "       [-0.5353916 , -0.5353916 , -0.5353916 , -0.5353916 , -0.5353916 ],\n",
       "       [-0.5348748 , -0.5348748 , -0.5348748 , -0.5348748 , -0.5348748 ],\n",
       "       [-0.5356784 , -0.5356784 , -0.5356784 , -0.5356784 , -0.5356784 ],\n",
       "       [-0.5380476 , -0.5380476 , -0.5380476 , -0.5380476 , -0.5380476 ],\n",
       "       [-0.5398568 , -0.5398568 , -0.5398568 , -0.5398568 , -0.5398568 ],\n",
       "       [-0.5409964 , -0.5409964 , -0.5409964 , -0.5409964 , -0.5409964 ],\n",
       "       [-0.5414681 , -0.5414681 , -0.5414681 , -0.5414681 , -0.5414681 ],\n",
       "       [-0.5433623 , -0.5433623 , -0.5433623 , -0.5433623 , -0.5433623 ],\n",
       "       [-0.5460592 , -0.5460592 , -0.5460592 , -0.5460592 , -0.5460592 ],\n",
       "       [-0.5493297 , -0.5493297 , -0.5493297 , -0.5493297 , -0.5493297 ],\n",
       "       [-0.5532618 , -0.5532618 , -0.5532618 , -0.5532618 , -0.5532618 ],\n",
       "       [-0.55644834, -0.55644834, -0.55644834, -0.55644834, -0.55644834],\n",
       "       [-0.55883044, -0.55883044, -0.55883044, -0.55883044, -0.55883044],\n",
       "       [-0.55684334, -0.55684334, -0.55684334, -0.55684334, -0.55684334],\n",
       "       [-0.5495848 , -0.5495848 , -0.5495848 , -0.5495848 , -0.5495848 ],\n",
       "       [-0.5417591 , -0.5417591 , -0.5417591 , -0.5417591 , -0.5417591 ],\n",
       "       [-0.53913987, -0.53913987, -0.53913987, -0.53913987, -0.53913987],\n",
       "       [-0.5389783 , -0.5389783 , -0.5389783 , -0.5389783 , -0.5389783 ],\n",
       "       [-0.5409616 , -0.5409616 , -0.5409616 , -0.5409616 , -0.5409616 ],\n",
       "       [-0.5444884 , -0.5444884 , -0.5444884 , -0.5444884 , -0.5444884 ],\n",
       "       [-0.54796535, -0.54796535, -0.54796535, -0.54796535, -0.54796535],\n",
       "       [-0.5499545 , -0.5499545 , -0.5499545 , -0.5499545 , -0.5499545 ],\n",
       "       [-0.551808  , -0.551808  , -0.551808  , -0.551808  , -0.551808  ],\n",
       "       [-0.5530379 , -0.5530379 , -0.5530379 , -0.5530379 , -0.5530379 ],\n",
       "       [-0.5537371 , -0.5537371 , -0.5537371 , -0.5537371 , -0.5537371 ],\n",
       "       [-0.55403745, -0.55403745, -0.55403745, -0.55403745, -0.55403745],\n",
       "       [-0.5530404 , -0.5530404 , -0.5530404 , -0.5530404 , -0.5530404 ],\n",
       "       [-0.5531185 , -0.5531185 , -0.5531185 , -0.5531185 , -0.5531185 ],\n",
       "       [-0.5531943 , -0.5531943 , -0.5531943 , -0.5531943 , -0.5531943 ],\n",
       "       [-0.55098385, -0.55098385, -0.55098385, -0.55098385, -0.55098385],\n",
       "       [-0.5447312 , -0.5447312 , -0.5447312 , -0.5447312 , -0.5447312 ],\n",
       "       [-0.5383208 , -0.5383208 , -0.5383208 , -0.5383208 , -0.5383208 ],\n",
       "       [-0.5334417 , -0.5334417 , -0.5334417 , -0.5334417 , -0.5334417 ],\n",
       "       [-0.5289731 , -0.5289731 , -0.5289731 , -0.5289731 , -0.5289731 ],\n",
       "       [-0.5254064 , -0.5254064 , -0.5254064 , -0.5254064 , -0.5254064 ],\n",
       "       [-0.51896304, -0.51896304, -0.51896304, -0.51896304, -0.51896304],\n",
       "       [-0.51094955, -0.51094955, -0.51094955, -0.51094955, -0.51094955],\n",
       "       [-0.503032  , -0.503032  , -0.503032  , -0.503032  , -0.503032  ],\n",
       "       [-0.49625373, -0.49625373, -0.49625373, -0.49625373, -0.49625373],\n",
       "       [-0.48832107, -0.48832107, -0.48832107, -0.48832107, -0.48832107],\n",
       "       [-0.47963232, -0.47963232, -0.47963232, -0.47963232, -0.47963232],\n",
       "       [-0.47454232, -0.47454232, -0.47454232, -0.47454232, -0.47454232],\n",
       "       [-0.47286862, -0.47286862, -0.47286862, -0.47286862, -0.47286862],\n",
       "       [-0.46976298, -0.46976298, -0.46976298, -0.46976298, -0.46976298]],\n",
       "      dtype=float32)"
      ]
     },
     "execution_count": 93,
     "metadata": {},
     "output_type": "execute_result"
    }
   ],
   "source": [
    "f\"{forecast_copies.shape}\"\n",
    "forecast_copies"
   ]
  },
  {
   "cell_type": "markdown",
   "id": "884c0b6b-e7e4-4fb0-bea2-4422a78d7e85",
   "metadata": {},
   "source": [
    "## CONVERTING TIMESTEPS TO DATE\n",
    "## Plotting on the basis of time and date, Training completed on 5 parameters"
   ]
  },
  {
   "cell_type": "code",
   "execution_count": 104,
   "id": "68a8a067-78e8-4118-b495-21527b1c6602",
   "metadata": {},
   "outputs": [
    {
     "data": {
      "text/html": [
       "<div>\n",
       "<style scoped>\n",
       "    .dataframe tbody tr th:only-of-type {\n",
       "        vertical-align: middle;\n",
       "    }\n",
       "\n",
       "    .dataframe tbody tr th {\n",
       "        vertical-align: top;\n",
       "    }\n",
       "\n",
       "    .dataframe thead th {\n",
       "        text-align: right;\n",
       "    }\n",
       "</style>\n",
       "<table border=\"1\" class=\"dataframe\">\n",
       "  <thead>\n",
       "    <tr style=\"text-align: right;\">\n",
       "      <th></th>\n",
       "      <th>Date</th>\n",
       "      <th>Open</th>\n",
       "    </tr>\n",
       "  </thead>\n",
       "  <tbody>\n",
       "    <tr>\n",
       "      <th>0</th>\n",
       "      <td>2020-10-29</td>\n",
       "      <td>7.516853</td>\n",
       "    </tr>\n",
       "    <tr>\n",
       "      <th>1</th>\n",
       "      <td>2020-10-30</td>\n",
       "      <td>7.420224</td>\n",
       "    </tr>\n",
       "    <tr>\n",
       "      <th>2</th>\n",
       "      <td>2020-10-31</td>\n",
       "      <td>7.309417</td>\n",
       "    </tr>\n",
       "    <tr>\n",
       "      <th>3</th>\n",
       "      <td>2020-11-01</td>\n",
       "      <td>7.196900</td>\n",
       "    </tr>\n",
       "    <tr>\n",
       "      <th>4</th>\n",
       "      <td>2020-11-02</td>\n",
       "      <td>7.118660</td>\n",
       "    </tr>\n",
       "    <tr>\n",
       "      <th>...</th>\n",
       "      <td>...</td>\n",
       "      <td>...</td>\n",
       "    </tr>\n",
       "    <tr>\n",
       "      <th>85</th>\n",
       "      <td>2021-01-22</td>\n",
       "      <td>7.320691</td>\n",
       "    </tr>\n",
       "    <tr>\n",
       "      <th>86</th>\n",
       "      <td>2021-01-23</td>\n",
       "      <td>7.437821</td>\n",
       "    </tr>\n",
       "    <tr>\n",
       "      <th>87</th>\n",
       "      <td>2021-01-24</td>\n",
       "      <td>7.506438</td>\n",
       "    </tr>\n",
       "    <tr>\n",
       "      <th>88</th>\n",
       "      <td>2021-01-25</td>\n",
       "      <td>7.529001</td>\n",
       "    </tr>\n",
       "    <tr>\n",
       "      <th>89</th>\n",
       "      <td>2021-01-26</td>\n",
       "      <td>7.570867</td>\n",
       "    </tr>\n",
       "  </tbody>\n",
       "</table>\n",
       "<p>90 rows × 2 columns</p>\n",
       "</div>"
      ],
      "text/plain": [
       "         Date      Open\n",
       "0  2020-10-29  7.516853\n",
       "1  2020-10-30  7.420224\n",
       "2  2020-10-31  7.309417\n",
       "3  2020-11-01  7.196900\n",
       "4  2020-11-02  7.118660\n",
       "..        ...       ...\n",
       "85 2021-01-22  7.320691\n",
       "86 2021-01-23  7.437821\n",
       "87 2021-01-24  7.506438\n",
       "88 2021-01-25  7.529001\n",
       "89 2021-01-26  7.570867\n",
       "\n",
       "[90 rows x 2 columns]"
      ]
     },
     "execution_count": 104,
     "metadata": {},
     "output_type": "execute_result"
    }
   ],
   "source": [
    "forecast_dates = []\n",
    "for time_i in forecast_period_dates:\n",
    "    forecast_dates.append(time_i.date())\n",
    "    \n",
    "# Prediction dataset\n",
    "df_forecast = pd.DataFrame({'Date':np.array(forecast_dates),'Open':y_pred_future})\n",
    "df_forecast['Date'] = pd.to_datetime(df_forecast['Date'])\n",
    "\n",
    "df_forecast"
   ]
  },
  {
   "cell_type": "code",
   "execution_count": 105,
   "id": "72cbf036-5949-40f4-b67f-87173d393941",
   "metadata": {},
   "outputs": [
    {
     "name": "stderr",
     "output_type": "stream",
     "text": [
      "<ipython-input-105-82323513820f>:3: SettingWithCopyWarning: \n",
      "A value is trying to be set on a copy of a slice from a DataFrame.\n",
      "Try using .loc[row_indexer,col_indexer] = value instead\n",
      "\n",
      "See the caveats in the documentation: https://pandas.pydata.org/pandas-docs/stable/user_guide/indexing.html#returning-a-view-versus-a-copy\n",
      "  original['Date'] = pd.to_datetime(original['Date'])\n"
     ]
    },
    {
     "data": {
      "text/html": [
       "<div>\n",
       "<style scoped>\n",
       "    .dataframe tbody tr th:only-of-type {\n",
       "        vertical-align: middle;\n",
       "    }\n",
       "\n",
       "    .dataframe tbody tr th {\n",
       "        vertical-align: top;\n",
       "    }\n",
       "\n",
       "    .dataframe thead th {\n",
       "        text-align: right;\n",
       "    }\n",
       "</style>\n",
       "<table border=\"1\" class=\"dataframe\">\n",
       "  <thead>\n",
       "    <tr style=\"text-align: right;\">\n",
       "      <th></th>\n",
       "      <th>Date</th>\n",
       "      <th>Open</th>\n",
       "    </tr>\n",
       "  </thead>\n",
       "  <tbody>\n",
       "    <tr>\n",
       "      <th>0</th>\n",
       "      <td>1970-01-02</td>\n",
       "      <td>0.776242</td>\n",
       "    </tr>\n",
       "    <tr>\n",
       "      <th>1</th>\n",
       "      <td>1970-01-05</td>\n",
       "      <td>0.767478</td>\n",
       "    </tr>\n",
       "    <tr>\n",
       "      <th>2</th>\n",
       "      <td>1970-01-06</td>\n",
       "      <td>0.762470</td>\n",
       "    </tr>\n",
       "    <tr>\n",
       "      <th>3</th>\n",
       "      <td>1970-01-07</td>\n",
       "      <td>0.743690</td>\n",
       "    </tr>\n",
       "    <tr>\n",
       "      <th>4</th>\n",
       "      <td>1970-01-08</td>\n",
       "      <td>0.747446</td>\n",
       "    </tr>\n",
       "    <tr>\n",
       "      <th>...</th>\n",
       "      <td>...</td>\n",
       "      <td>...</td>\n",
       "    </tr>\n",
       "    <tr>\n",
       "      <th>12818</th>\n",
       "      <td>2020-10-23</td>\n",
       "      <td>7.930000</td>\n",
       "    </tr>\n",
       "    <tr>\n",
       "      <th>12819</th>\n",
       "      <td>2020-10-26</td>\n",
       "      <td>7.460000</td>\n",
       "    </tr>\n",
       "    <tr>\n",
       "      <th>12820</th>\n",
       "      <td>2020-10-27</td>\n",
       "      <td>7.400000</td>\n",
       "    </tr>\n",
       "    <tr>\n",
       "      <th>12821</th>\n",
       "      <td>2020-10-28</td>\n",
       "      <td>7.510000</td>\n",
       "    </tr>\n",
       "    <tr>\n",
       "      <th>12822</th>\n",
       "      <td>2020-10-29</td>\n",
       "      <td>7.660000</td>\n",
       "    </tr>\n",
       "  </tbody>\n",
       "</table>\n",
       "<p>12823 rows × 2 columns</p>\n",
       "</div>"
      ],
      "text/plain": [
       "            Date      Open\n",
       "0     1970-01-02  0.776242\n",
       "1     1970-01-05  0.767478\n",
       "2     1970-01-06  0.762470\n",
       "3     1970-01-07  0.743690\n",
       "4     1970-01-08  0.747446\n",
       "...          ...       ...\n",
       "12818 2020-10-23  7.930000\n",
       "12819 2020-10-26  7.460000\n",
       "12820 2020-10-27  7.400000\n",
       "12821 2020-10-28  7.510000\n",
       "12822 2020-10-29  7.660000\n",
       "\n",
       "[12823 rows x 2 columns]"
      ]
     },
     "execution_count": 105,
     "metadata": {},
     "output_type": "execute_result"
    }
   ],
   "source": [
    "# ALL the previous dataset\n",
    "original = df[['Date','Open']]\n",
    "original['Date'] = pd.to_datetime(original['Date'])\n",
    "original"
   ]
  },
  {
   "cell_type": "code",
   "execution_count": 108,
   "id": "f78befa6-5a80-4828-a36c-c40f082b13ee",
   "metadata": {},
   "outputs": [
    {
     "data": {
      "text/html": [
       "<div>\n",
       "<style scoped>\n",
       "    .dataframe tbody tr th:only-of-type {\n",
       "        vertical-align: middle;\n",
       "    }\n",
       "\n",
       "    .dataframe tbody tr th {\n",
       "        vertical-align: top;\n",
       "    }\n",
       "\n",
       "    .dataframe thead th {\n",
       "        text-align: right;\n",
       "    }\n",
       "</style>\n",
       "<table border=\"1\" class=\"dataframe\">\n",
       "  <thead>\n",
       "    <tr style=\"text-align: right;\">\n",
       "      <th></th>\n",
       "      <th>Date</th>\n",
       "      <th>Open</th>\n",
       "    </tr>\n",
       "  </thead>\n",
       "  <tbody>\n",
       "    <tr>\n",
       "      <th>12696</th>\n",
       "      <td>2020-05-01</td>\n",
       "      <td>6.67</td>\n",
       "    </tr>\n",
       "    <tr>\n",
       "      <th>12697</th>\n",
       "      <td>2020-05-04</td>\n",
       "      <td>6.30</td>\n",
       "    </tr>\n",
       "    <tr>\n",
       "      <th>12698</th>\n",
       "      <td>2020-05-05</td>\n",
       "      <td>6.28</td>\n",
       "    </tr>\n",
       "    <tr>\n",
       "      <th>12699</th>\n",
       "      <td>2020-05-06</td>\n",
       "      <td>6.20</td>\n",
       "    </tr>\n",
       "    <tr>\n",
       "      <th>12700</th>\n",
       "      <td>2020-05-07</td>\n",
       "      <td>6.06</td>\n",
       "    </tr>\n",
       "    <tr>\n",
       "      <th>...</th>\n",
       "      <td>...</td>\n",
       "      <td>...</td>\n",
       "    </tr>\n",
       "    <tr>\n",
       "      <th>12818</th>\n",
       "      <td>2020-10-23</td>\n",
       "      <td>7.93</td>\n",
       "    </tr>\n",
       "    <tr>\n",
       "      <th>12819</th>\n",
       "      <td>2020-10-26</td>\n",
       "      <td>7.46</td>\n",
       "    </tr>\n",
       "    <tr>\n",
       "      <th>12820</th>\n",
       "      <td>2020-10-27</td>\n",
       "      <td>7.40</td>\n",
       "    </tr>\n",
       "    <tr>\n",
       "      <th>12821</th>\n",
       "      <td>2020-10-28</td>\n",
       "      <td>7.51</td>\n",
       "    </tr>\n",
       "    <tr>\n",
       "      <th>12822</th>\n",
       "      <td>2020-10-29</td>\n",
       "      <td>7.66</td>\n",
       "    </tr>\n",
       "  </tbody>\n",
       "</table>\n",
       "<p>127 rows × 2 columns</p>\n",
       "</div>"
      ],
      "text/plain": [
       "            Date  Open\n",
       "12696 2020-05-01  6.67\n",
       "12697 2020-05-04  6.30\n",
       "12698 2020-05-05  6.28\n",
       "12699 2020-05-06  6.20\n",
       "12700 2020-05-07  6.06\n",
       "...          ...   ...\n",
       "12818 2020-10-23  7.93\n",
       "12819 2020-10-26  7.46\n",
       "12820 2020-10-27  7.40\n",
       "12821 2020-10-28  7.51\n",
       "12822 2020-10-29  7.66\n",
       "\n",
       "[127 rows x 2 columns]"
      ]
     },
     "execution_count": 108,
     "metadata": {},
     "output_type": "execute_result"
    }
   ],
   "source": [
    "# Considering date after 20202-5-1. SInce using large date value makes our prediction set look tiny in our graph\n",
    "original = original.loc[original['Date']>='2020-5-1']\n",
    "original"
   ]
  },
  {
   "cell_type": "code",
   "execution_count": 115,
   "id": "45585fa9-c7f6-4ce8-a830-4de903cf399e",
   "metadata": {},
   "outputs": [
    {
     "data": {
      "text/plain": [
       "[<matplotlib.lines.Line2D at 0x1f8d8eb5e20>]"
      ]
     },
     "execution_count": 115,
     "metadata": {},
     "output_type": "execute_result"
    },
    {
     "data": {
      "image/png": "[encoded data removed]",
      "text/plain": [
       "<Figure size 640x480 with 1 Axes>"
      ]
     },
     "metadata": {
      "needs_background": "light"
     },
     "output_type": "display_data"
    }
   ],
   "source": [
    "from matplotlib.pyplot import figure\n",
    "figure(figsize=(8, 6), dpi=80)\n",
    "plt.plot(original['Date'],original['Open'])"
   ]
  },
  {
   "cell_type": "code",
   "execution_count": 114,
   "id": "5a67d3c9-1607-4146-a8be-8e564c4bf4b5",
   "metadata": {},
   "outputs": [
    {
     "data": {
      "text/plain": [
       "[<matplotlib.lines.Line2D at 0x1f8d8dffa30>]"
      ]
     },
     "execution_count": 114,
     "metadata": {},
     "output_type": "execute_result"
    },
    {
     "data": {
      "image/png": "[encoded data removed]",
      "text/plain": [
       "<Figure size 640x480 with 1 Axes>"
      ]
     },
     "metadata": {
      "needs_background": "light"
     },
     "output_type": "display_data"
    }
   ],
   "source": [
    "from matplotlib.pyplot import figure\n",
    "figure(figsize=(8, 6), dpi=80)\n",
    "plt.plot(df_forecast['Date'], df_forecast['Open'])\n"
   ]
  },
  {
   "cell_type": "code",
   "execution_count": null,
   "id": "61e42a67-619d-49ee-a423-27375510ea45",
   "metadata": {},
   "outputs": [],
   "source": [
    "! git add MULTIVARIATE(GE_STOCK).ipynb Multivariate.h5 GE_STOCKS.h5\n",
    "! git commit -m \"12:33/13-05-2021 \"\n",
    "! git push origin main"
   ]
  },
  {
   "cell_type": "code",
   "execution_count": null,
   "id": "81f360f0-3ae8-4369-909c-f1c5fd66cf4f",
   "metadata": {},
   "outputs": [],
   "source": []
  }
 ],
 "metadata": {
  "kernelspec": {
   "display_name": "Python [conda env:cv]",
   "language": "python",
   "name": "conda-env-cv-py"
  },
  "language_info": {
   "codemirror_mode": {
    "name": "ipython",
    "version": 3
   },
   "file_extension": ".py",
   "mimetype": "text/x-python",
   "name": "python",
   "nbconvert_exporter": "python",
   "pygments_lexer": "ipython3",
   "version": "3.8.5"
  }
 },
 "nbformat": 4,
 "nbformat_minor": 5
}
