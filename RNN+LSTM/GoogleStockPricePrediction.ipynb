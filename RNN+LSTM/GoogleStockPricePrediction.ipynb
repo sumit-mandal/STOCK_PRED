{
  "nbformat": 4,
  "nbformat_minor": 0,
  "metadata": {
    "colab": {
      "name": "GoogleStockPricePrediction.ipynb",
      "provenance": [],
      "collapsed_sections": []
    },
    "kernelspec": {
      "name": "python3",
      "display_name": "Python 3"
    },
    "language_info": {
      "name": "python"
    },
    "accelerator": "GPU"
  },
  "cells": [
    {
      "cell_type": "code",
      "metadata": {
        "id": "gWA3jxDacmWh"
      },
      "source": [
        ""
      ],
      "execution_count": null,
      "outputs": []
    },
    {
      "cell_type": "code",
      "metadata": {
        "id": "y2ocafetcyks"
      },
      "source": [
        "import tensorflow as tf\n",
        "import numpy as np\n",
        "import pandas as pd\n",
        "import matplotlib.pyplot as plt\n"
      ],
      "execution_count": 1,
      "outputs": []
    },
    {
      "cell_type": "markdown",
      "metadata": {
        "id": "-GHtobRidQFS"
      },
      "source": [
        "# data preprocessing"
      ]
    },
    {
      "cell_type": "code",
      "metadata": {
        "colab": {
          "resources": {
            "http://localhost:8080/nbextensions/google.colab/files.js": {
              "data": "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",
              "ok": true,
              "headers": [
                [
                  "content-type",
                  "application/javascript"
                ]
              ],
              "status": 200,
              "status_text": ""
            }
          },
          "base_uri": "https://localhost:8080/",
          "height": 106
        },
        "id": "jSN0e4BcdWmK",
        "outputId": "d660f4d7-2ef5-432d-dea1-627d955289d1"
      },
      "source": [
        "# importing the data\n",
        "from google.colab import files\n",
        "uploaded = files.upload()"
      ],
      "execution_count": 7,
      "outputs": [
        {
          "output_type": "display_data",
          "data": {
            "text/html": [
              "\n",
              "     <input type=\"file\" id=\"files-7832b7fd-3d67-41a9-8421-5c664d89b68d\" name=\"files[]\" multiple disabled\n",
              "        style=\"border:none\" />\n",
              "     <output id=\"result-7832b7fd-3d67-41a9-8421-5c664d89b68d\">\n",
              "      Upload widget is only available when the cell has been executed in the\n",
              "      current browser session. Please rerun this cell to enable.\n",
              "      </output>\n",
              "      <script src=\"/nbextensions/google.colab/files.js\"></script> "
            ],
            "text/plain": [
              "<IPython.core.display.HTML object>"
            ]
          },
          "metadata": {
            "tags": []
          }
        },
        {
          "output_type": "stream",
          "text": [
            "Saving test_set.csv to test_set.csv\n",
            "Saving training_set.csv to training_set.csv\n"
          ],
          "name": "stdout"
        }
      ]
    },
    {
      "cell_type": "code",
      "metadata": {
        "id": "0N3i9nypm5oX"
      },
      "source": [
        "training_data = pd.read_csv('/content/training_set.csv')"
      ],
      "execution_count": 8,
      "outputs": []
    },
    {
      "cell_type": "code",
      "metadata": {
        "colab": {
          "base_uri": "https://localhost:8080/",
          "height": 195
        },
        "id": "pnzQp8uYnILQ",
        "outputId": "d934530c-5e43-4f69-d0fd-0ef6602e7c38"
      },
      "source": [
        "training_data.head()"
      ],
      "execution_count": 9,
      "outputs": [
        {
          "output_type": "execute_result",
          "data": {
            "text/html": [
              "<div>\n",
              "<style scoped>\n",
              "    .dataframe tbody tr th:only-of-type {\n",
              "        vertical-align: middle;\n",
              "    }\n",
              "\n",
              "    .dataframe tbody tr th {\n",
              "        vertical-align: top;\n",
              "    }\n",
              "\n",
              "    .dataframe thead th {\n",
              "        text-align: right;\n",
              "    }\n",
              "</style>\n",
              "<table border=\"1\" class=\"dataframe\">\n",
              "  <thead>\n",
              "    <tr style=\"text-align: right;\">\n",
              "      <th></th>\n",
              "      <th>Date</th>\n",
              "      <th>Open</th>\n",
              "      <th>High</th>\n",
              "      <th>Low</th>\n",
              "      <th>Close</th>\n",
              "      <th>Adj Close</th>\n",
              "      <th>Volume</th>\n",
              "    </tr>\n",
              "  </thead>\n",
              "  <tbody>\n",
              "    <tr>\n",
              "      <th>0</th>\n",
              "      <td>03-11-2014</td>\n",
              "      <td>553.979065</td>\n",
              "      <td>556.372498</td>\n",
              "      <td>551.715271</td>\n",
              "      <td>553.699829</td>\n",
              "      <td>553.699829</td>\n",
              "      <td>1382285</td>\n",
              "    </tr>\n",
              "    <tr>\n",
              "      <th>1</th>\n",
              "      <td>04-11-2014</td>\n",
              "      <td>551.485901</td>\n",
              "      <td>553.979065</td>\n",
              "      <td>547.796021</td>\n",
              "      <td>552.592834</td>\n",
              "      <td>552.592834</td>\n",
              "      <td>1244207</td>\n",
              "    </tr>\n",
              "    <tr>\n",
              "      <th>2</th>\n",
              "      <td>05-11-2014</td>\n",
              "      <td>555.275513</td>\n",
              "      <td>555.275513</td>\n",
              "      <td>542.560425</td>\n",
              "      <td>544.425293</td>\n",
              "      <td>544.425293</td>\n",
              "      <td>2032264</td>\n",
              "    </tr>\n",
              "    <tr>\n",
              "      <th>3</th>\n",
              "      <td>06-11-2014</td>\n",
              "      <td>544.006409</td>\n",
              "      <td>545.387634</td>\n",
              "      <td>539.488831</td>\n",
              "      <td>540.555908</td>\n",
              "      <td>540.555908</td>\n",
              "      <td>1333250</td>\n",
              "    </tr>\n",
              "    <tr>\n",
              "      <th>4</th>\n",
              "      <td>07-11-2014</td>\n",
              "      <td>544.714478</td>\n",
              "      <td>544.714478</td>\n",
              "      <td>537.195129</td>\n",
              "      <td>539.528748</td>\n",
              "      <td>539.528748</td>\n",
              "      <td>1633773</td>\n",
              "    </tr>\n",
              "  </tbody>\n",
              "</table>\n",
              "</div>"
            ],
            "text/plain": [
              "         Date        Open        High  ...       Close   Adj Close   Volume\n",
              "0  03-11-2014  553.979065  556.372498  ...  553.699829  553.699829  1382285\n",
              "1  04-11-2014  551.485901  553.979065  ...  552.592834  552.592834  1244207\n",
              "2  05-11-2014  555.275513  555.275513  ...  544.425293  544.425293  2032264\n",
              "3  06-11-2014  544.006409  545.387634  ...  540.555908  540.555908  1333250\n",
              "4  07-11-2014  544.714478  544.714478  ...  539.528748  539.528748  1633773\n",
              "\n",
              "[5 rows x 7 columns]"
            ]
          },
          "metadata": {
            "tags": []
          },
          "execution_count": 9
        }
      ]
    },
    {
      "cell_type": "code",
      "metadata": {
        "colab": {
          "base_uri": "https://localhost:8080/",
          "height": 363
        },
        "id": "wZ5UJ7vvnVzL",
        "outputId": "f42515bd-a1e3-46de-e6a7-b48dd714c62f"
      },
      "source": [
        "training_data.tail()"
      ],
      "execution_count": 10,
      "outputs": [
        {
          "output_type": "execute_result",
          "data": {
            "text/html": [
              "<div>\n",
              "<style scoped>\n",
              "    .dataframe tbody tr th:only-of-type {\n",
              "        vertical-align: middle;\n",
              "    }\n",
              "\n",
              "    .dataframe tbody tr th {\n",
              "        vertical-align: top;\n",
              "    }\n",
              "\n",
              "    .dataframe thead th {\n",
              "        text-align: right;\n",
              "    }\n",
              "</style>\n",
              "<table border=\"1\" class=\"dataframe\">\n",
              "  <thead>\n",
              "    <tr style=\"text-align: right;\">\n",
              "      <th></th>\n",
              "      <th>Date</th>\n",
              "      <th>Open</th>\n",
              "      <th>High</th>\n",
              "      <th>Low</th>\n",
              "      <th>Close</th>\n",
              "      <th>Adj Close</th>\n",
              "      <th>Volume</th>\n",
              "    </tr>\n",
              "  </thead>\n",
              "  <tbody>\n",
              "    <tr>\n",
              "      <th>1252</th>\n",
              "      <td>24-10-2019</td>\n",
              "      <td>1260.900024</td>\n",
              "      <td>1264.000000</td>\n",
              "      <td>1253.714966</td>\n",
              "      <td>1260.989990</td>\n",
              "      <td>1260.989990</td>\n",
              "      <td>1028100</td>\n",
              "    </tr>\n",
              "    <tr>\n",
              "      <th>1253</th>\n",
              "      <td>25-10-2019</td>\n",
              "      <td>1251.030029</td>\n",
              "      <td>1269.599976</td>\n",
              "      <td>1250.010010</td>\n",
              "      <td>1265.130005</td>\n",
              "      <td>1265.130005</td>\n",
              "      <td>1213100</td>\n",
              "    </tr>\n",
              "    <tr>\n",
              "      <th>1254</th>\n",
              "      <td>28-10-2019</td>\n",
              "      <td>1275.449951</td>\n",
              "      <td>1299.310059</td>\n",
              "      <td>1272.540039</td>\n",
              "      <td>1290.000000</td>\n",
              "      <td>1290.000000</td>\n",
              "      <td>2613200</td>\n",
              "    </tr>\n",
              "    <tr>\n",
              "      <th>1255</th>\n",
              "      <td>29-10-2019</td>\n",
              "      <td>1276.229980</td>\n",
              "      <td>1281.589966</td>\n",
              "      <td>1257.212036</td>\n",
              "      <td>1262.619995</td>\n",
              "      <td>1262.619995</td>\n",
              "      <td>1886400</td>\n",
              "    </tr>\n",
              "    <tr>\n",
              "      <th>1256</th>\n",
              "      <td>30-10-2019</td>\n",
              "      <td>1252.969971</td>\n",
              "      <td>1269.359985</td>\n",
              "      <td>1252.000000</td>\n",
              "      <td>1261.290039</td>\n",
              "      <td>1261.290039</td>\n",
              "      <td>1408900</td>\n",
              "    </tr>\n",
              "  </tbody>\n",
              "</table>\n",
              "</div>"
            ],
            "text/plain": [
              "            Date         Open         High  ...        Close    Adj Close   Volume\n",
              "1252  24-10-2019  1260.900024  1264.000000  ...  1260.989990  1260.989990  1028100\n",
              "1253  25-10-2019  1251.030029  1269.599976  ...  1265.130005  1265.130005  1213100\n",
              "1254  28-10-2019  1275.449951  1299.310059  ...  1290.000000  1290.000000  2613200\n",
              "1255  29-10-2019  1276.229980  1281.589966  ...  1262.619995  1262.619995  1886400\n",
              "1256  30-10-2019  1252.969971  1269.359985  ...  1261.290039  1261.290039  1408900\n",
              "\n",
              "[5 rows x 7 columns]"
            ]
          },
          "metadata": {
            "tags": []
          },
          "execution_count": 10
        }
      ]
    },
    {
      "cell_type": "code",
      "metadata": {
        "colab": {
          "base_uri": "https://localhost:8080/"
        },
        "id": "Qayn7P3-nZx4",
        "outputId": "f16651fb-7e72-4250-d3cd-ed89de83881f"
      },
      "source": [
        "training_data.info()"
      ],
      "execution_count": 11,
      "outputs": [
        {
          "output_type": "stream",
          "text": [
            "<class 'pandas.core.frame.DataFrame'>\n",
            "RangeIndex: 1257 entries, 0 to 1256\n",
            "Data columns (total 7 columns):\n",
            " #   Column     Non-Null Count  Dtype  \n",
            "---  ------     --------------  -----  \n",
            " 0   Date       1257 non-null   object \n",
            " 1   Open       1257 non-null   float64\n",
            " 2   High       1257 non-null   float64\n",
            " 3   Low        1257 non-null   float64\n",
            " 4   Close      1257 non-null   float64\n",
            " 5   Adj Close  1257 non-null   float64\n",
            " 6   Volume     1257 non-null   int64  \n",
            "dtypes: float64(5), int64(1), object(1)\n",
            "memory usage: 68.9+ KB\n"
          ],
          "name": "stdout"
        }
      ]
    },
    {
      "cell_type": "code",
      "metadata": {
        "id": "j2eh-WC0oAhh"
      },
      "source": [
        "training_set = training_data.iloc[:,1:2].values # selecting only open column"
      ],
      "execution_count": 12,
      "outputs": []
    },
    {
      "cell_type": "code",
      "metadata": {
        "colab": {
          "base_uri": "https://localhost:8080/"
        },
        "id": "RUbCAmtMota5",
        "outputId": "5de632c2-0d6d-4c36-f850-65ffaf66a704"
      },
      "source": [
        "print(\"Total observation in training set:\",training_set.shape)\n",
        "# print(\"Total observation in test data:\",test_data.shape)"
      ],
      "execution_count": 34,
      "outputs": [
        {
          "output_type": "stream",
          "text": [
            "Total observation in training set: (1257, 1)\n"
          ],
          "name": "stdout"
        }
      ]
    },
    {
      "cell_type": "code",
      "metadata": {
        "id": "YEyNFFbEoyD5"
      },
      "source": [
        "#Feature scaling\n",
        "from sklearn.preprocessing import MinMaxScaler\n",
        "sc = MinMaxScaler(feature_range=(0,1)) #normalize value b/w 0 to 1\n",
        "training_set_scaled = sc.fit_transform(training_set)#training set after feature scaling\n"
      ],
      "execution_count": 14,
      "outputs": []
    },
    {
      "cell_type": "code",
      "metadata": {
        "colab": {
          "base_uri": "https://localhost:8080/"
        },
        "id": "Iq9yH4yiyrvE",
        "outputId": "cfd77628-3bfc-40f6-b558-21ebd986e6d5"
      },
      "source": [
        "training_set_scaled"
      ],
      "execution_count": 15,
      "outputs": [
        {
          "output_type": "execute_result",
          "data": {
            "text/plain": [
              "array([[0.07750766],\n",
              "       [0.07432328],\n",
              "       [0.07916355],\n",
              "       ...,\n",
              "       [0.99900371],\n",
              "       [1.        ],\n",
              "       [0.97029124]])"
            ]
          },
          "metadata": {
            "tags": []
          },
          "execution_count": 15
        }
      ]
    },
    {
      "cell_type": "markdown",
      "metadata": {
        "id": "rA-RrKGR20nX"
      },
      "source": [
        "# Creating a data structure with 60 timsteps and 1 output\n",
        "\n",
        "- 60 timesteps is the training data for our RNN network and on the basis this 60 timesteps one o/p will be predicted\n",
        "\n",
        "### `these 60 time steps are the past output and are used by RNN to train and learn correlation`\n"
      ]
    },
    {
      "cell_type": "code",
      "metadata": {
        "id": "22okhRg4yufZ"
      },
      "source": [
        "\n",
        "x_train =[]\n",
        "y_train=[]\n",
        "\n",
        "for i in range(60,1257): #60 is lower bound 1257 is ub\n",
        "  x_train.append(training_set_scaled[i-60:i,0]) #in x_train we are appending 60 timesteps for each o/p\n",
        "  #i-60 is lowerbound and upperbound is i--> In training set we have to select 60 timesteps for 1 output,therefor we use i-60\n",
        "  # suppose i= 60. which means i-60--> 60-60=0 upper bound is i=60.\n",
        "  # 0 is column index as we have only one column\n",
        "  y_train.append(training_set_scaled[i,0]) # this is that one output of 60 timesteps mentioned above\n",
        "\n",
        "# Since x-train and y_train are list we need to convert them into np array\n",
        "\n",
        "x_train,y_train = np.array(x_train),np.array(y_train)"
      ],
      "execution_count": 16,
      "outputs": []
    },
    {
      "cell_type": "code",
      "metadata": {
        "colab": {
          "base_uri": "https://localhost:8080/"
        },
        "id": "D0zptcf13JmF",
        "outputId": "0c8550dd-e8fe-496c-9509-fb38ae6424d2"
      },
      "source": [
        "print(\"X train\\n\",x_train)\n",
        "print('Y train\\n',y_train)"
      ],
      "execution_count": 17,
      "outputs": [
        {
          "output_type": "stream",
          "text": [
            "X train\n",
            " [[0.07750766 0.07432328 0.07916355 ... 0.04498879 0.03583056 0.0208258 ]\n",
            " [0.07432328 0.07916355 0.06477013 ... 0.03583056 0.0208258  0.02701621]\n",
            " [0.07916355 0.06477013 0.0656745  ... 0.0208258  0.02701621 0.0472306 ]\n",
            " ...\n",
            " [0.90358069 0.86436929 0.85577344 ... 0.95673967 0.98041987 0.96781345]\n",
            " [0.86436929 0.85577344 0.8464367  ... 0.98041987 0.96781345 0.99900371]\n",
            " [0.85577344 0.8464367  0.88070516 ... 0.96781345 0.99900371 1.        ]]\n",
            "Y train\n",
            " [0.02701621 0.0472306  0.04247951 ... 0.99900371 1.         0.97029124]\n"
          ],
          "name": "stdout"
        }
      ]
    },
    {
      "cell_type": "code",
      "metadata": {
        "colab": {
          "base_uri": "https://localhost:8080/"
        },
        "id": "IJFm70mm3jtI",
        "outputId": "c1b101c4-bdd4-461e-a4d4-197f211c8a92"
      },
      "source": [
        "print(\"shape of x_train,:\",x_train.shape)\n",
        "print(\"shape of y_train,:\",y_train.shape)"
      ],
      "execution_count": 18,
      "outputs": [
        {
          "output_type": "stream",
          "text": [
            "shape of x_train,: (1197, 60)\n",
            "shape of y_train,: (1197,)\n"
          ],
          "name": "stdout"
        }
      ]
    },
    {
      "cell_type": "code",
      "metadata": {
        "id": "Qy2tIqiF30pz"
      },
      "source": [
        "#reshaping the dataset as RNN takes data in 3-D\n",
        "rows=1197\n",
        "cols=60\n",
        "\n",
        "x_train = x_train.reshape(rows,cols,1)\n",
        "\n",
        "#1197 is the batch_size that is total number of observations 60 is number of timesteps that is number of cols and 1 is predictor(one google stock price)"
      ],
      "execution_count": 19,
      "outputs": []
    },
    {
      "cell_type": "code",
      "metadata": {
        "colab": {
          "base_uri": "https://localhost:8080/"
        },
        "id": "hvebMtVN4aob",
        "outputId": "c22b060f-db8b-4519-a034-ae3bd8c07e19"
      },
      "source": [
        "print(\"shape of x_train,:\",x_train.shape)"
      ],
      "execution_count": 20,
      "outputs": [
        {
          "output_type": "stream",
          "text": [
            "shape of x_train,: (1197, 60, 1)\n"
          ],
          "name": "stdout"
        }
      ]
    },
    {
      "cell_type": "markdown",
      "metadata": {
        "id": "DBfiCqdT5zsj"
      },
      "source": [
        "# Building LSTM"
      ]
    },
    {
      "cell_type": "code",
      "metadata": {
        "id": "Z9gD3I8L523b",
        "colab": {
          "base_uri": "https://localhost:8080/"
        },
        "outputId": "ba3f9e69-75a9-4cf0-954b-f09b475d7da8"
      },
      "source": [
        "#defining an object (initialising RNN)\n",
        "\n",
        "from keras.models import Sequential\n",
        "from keras.layers import Dense\n",
        "from keras.layers import LSTM\n",
        "from keras.layers import Dropout\n",
        "from keras.optimizers import Adam\n",
        "\n",
        "#creating model\n",
        "model = Sequential()\n",
        "\n",
        "#First LSTM layers\n",
        "model.add(LSTM(units=60,activation='relu',return_sequences=True,input_shape=(60,1)))\n",
        "model.add(Dropout(0.2))\n",
        "\n",
        "#units are number of cell or memory unit that we want to have in our lstm layer\n",
        "#since we are going to add more LSTM layers we put \"return_sequences=True\", if we were to put dense layer after this we wouldn't have made \"return_sequences=True\"\n",
        "\n",
        "#Second layer LSTM\n",
        "model.add(LSTM(units = 60, activation='relu',return_sequences=True))\n",
        "model.add(Dropout(0.2))\n",
        "\n",
        "#Thrd lstm layer\n",
        "model.add(LSTM(units = 60,activation='relu',return_sequences=True))\n",
        "model.add(Dropout(0.2))\n",
        "\n",
        "#Fourth LSTM layer\n",
        "model.add(LSTM(units = 60,activation='relu'))\n",
        "model.add(Dropout(0.2))\n",
        "\n",
        "#we don't use return sequence because our  next layer is dense layer"
      ],
      "execution_count": 21,
      "outputs": [
        {
          "output_type": "stream",
          "text": [
            "WARNING:tensorflow:Layer lstm will not use cuDNN kernel since it doesn't meet the cuDNN kernel criteria. It will use generic GPU kernel as fallback when running on GPU\n",
            "WARNING:tensorflow:Layer lstm_1 will not use cuDNN kernel since it doesn't meet the cuDNN kernel criteria. It will use generic GPU kernel as fallback when running on GPU\n",
            "WARNING:tensorflow:Layer lstm_2 will not use cuDNN kernel since it doesn't meet the cuDNN kernel criteria. It will use generic GPU kernel as fallback when running on GPU\n",
            "WARNING:tensorflow:Layer lstm_3 will not use cuDNN kernel since it doesn't meet the cuDNN kernel criteria. It will use generic GPU kernel as fallback when running on GPU\n"
          ],
          "name": "stdout"
        }
      ]
    },
    {
      "cell_type": "code",
      "metadata": {
        "id": "e7wt-Q5I6Fn8",
        "colab": {
          "base_uri": "https://localhost:8080/"
        },
        "outputId": "29bc6982-93fc-498a-cb8c-db10a4b50fca"
      },
      "source": [
        "# output  layer\n",
        "\n",
        "model.add(Dense(units = 1))\n",
        "\n",
        "model.summary()"
      ],
      "execution_count": 22,
      "outputs": [
        {
          "output_type": "stream",
          "text": [
            "Model: \"sequential\"\n",
            "_________________________________________________________________\n",
            "Layer (type)                 Output Shape              Param #   \n",
            "=================================================================\n",
            "lstm (LSTM)                  (None, 60, 60)            14880     \n",
            "_________________________________________________________________\n",
            "dropout (Dropout)            (None, 60, 60)            0         \n",
            "_________________________________________________________________\n",
            "lstm_1 (LSTM)                (None, 60, 60)            29040     \n",
            "_________________________________________________________________\n",
            "dropout_1 (Dropout)          (None, 60, 60)            0         \n",
            "_________________________________________________________________\n",
            "lstm_2 (LSTM)                (None, 60, 60)            29040     \n",
            "_________________________________________________________________\n",
            "dropout_2 (Dropout)          (None, 60, 60)            0         \n",
            "_________________________________________________________________\n",
            "lstm_3 (LSTM)                (None, 60)                29040     \n",
            "_________________________________________________________________\n",
            "dropout_3 (Dropout)          (None, 60)                0         \n",
            "_________________________________________________________________\n",
            "dense (Dense)                (None, 1)                 61        \n",
            "=================================================================\n",
            "Total params: 102,061\n",
            "Trainable params: 102,061\n",
            "Non-trainable params: 0\n",
            "_________________________________________________________________\n"
          ],
          "name": "stdout"
        }
      ]
    },
    {
      "cell_type": "code",
      "metadata": {
        "id": "NbHXICfLIJHK"
      },
      "source": [
        "#compiling the model\n",
        "model.compile(optimizer = 'adam',loss='mean_squared_error') \n",
        "#since we are dealing with regression we use mse. If we'd havve dealt with classification we'd have used binary_crossentropy"
      ],
      "execution_count": 23,
      "outputs": []
    },
    {
      "cell_type": "markdown",
      "metadata": {
        "id": "-pY95wrKJQ7t"
      },
      "source": [
        "# Training the Model"
      ]
    },
    {
      "cell_type": "code",
      "metadata": {
        "colab": {
          "base_uri": "https://localhost:8080/"
        },
        "id": "mVyKcFH8JTiA",
        "outputId": "488e4e28-b49f-4738-87bf-18b392d07d9f"
      },
      "source": [
        "model.fit(x_train,y_train,batch_size = 32, epochs=100)"
      ],
      "execution_count": 24,
      "outputs": [
        {
          "output_type": "stream",
          "text": [
            "Epoch 1/100\n",
            "38/38 [==============================] - 18s 315ms/step - loss: 0.1963\n",
            "Epoch 2/100\n",
            "38/38 [==============================] - 12s 320ms/step - loss: 0.0136\n",
            "Epoch 3/100\n",
            "38/38 [==============================] - 12s 322ms/step - loss: 0.0094\n",
            "Epoch 4/100\n",
            "38/38 [==============================] - 12s 317ms/step - loss: 0.0090\n",
            "Epoch 5/100\n",
            "38/38 [==============================] - 12s 318ms/step - loss: 0.0077\n",
            "Epoch 6/100\n",
            "38/38 [==============================] - 12s 321ms/step - loss: 0.0077\n",
            "Epoch 7/100\n",
            "38/38 [==============================] - 12s 320ms/step - loss: 0.0080\n",
            "Epoch 8/100\n",
            "38/38 [==============================] - 12s 322ms/step - loss: 0.0071\n",
            "Epoch 9/100\n",
            "38/38 [==============================] - 12s 320ms/step - loss: 0.0069\n",
            "Epoch 10/100\n",
            "38/38 [==============================] - 12s 322ms/step - loss: 0.0068\n",
            "Epoch 11/100\n",
            "38/38 [==============================] - 12s 320ms/step - loss: 0.0058\n",
            "Epoch 12/100\n",
            "38/38 [==============================] - 12s 316ms/step - loss: 0.0065\n",
            "Epoch 13/100\n",
            "38/38 [==============================] - 12s 315ms/step - loss: 0.0070\n",
            "Epoch 14/100\n",
            "38/38 [==============================] - 12s 318ms/step - loss: 0.0057\n",
            "Epoch 15/100\n",
            "38/38 [==============================] - 12s 318ms/step - loss: 0.0062\n",
            "Epoch 16/100\n",
            "38/38 [==============================] - 12s 320ms/step - loss: 0.0049\n",
            "Epoch 17/100\n",
            "38/38 [==============================] - 12s 312ms/step - loss: 0.0062\n",
            "Epoch 18/100\n",
            "38/38 [==============================] - 12s 315ms/step - loss: 0.0060\n",
            "Epoch 19/100\n",
            "38/38 [==============================] - 12s 320ms/step - loss: 0.0057\n",
            "Epoch 20/100\n",
            "38/38 [==============================] - 12s 315ms/step - loss: 0.0047\n",
            "Epoch 21/100\n",
            "38/38 [==============================] - 12s 314ms/step - loss: 0.0052\n",
            "Epoch 22/100\n",
            "38/38 [==============================] - 12s 307ms/step - loss: 0.0051\n",
            "Epoch 23/100\n",
            "38/38 [==============================] - 12s 313ms/step - loss: 0.0048\n",
            "Epoch 24/100\n",
            "38/38 [==============================] - 12s 314ms/step - loss: 0.0055\n",
            "Epoch 25/100\n",
            "38/38 [==============================] - 12s 313ms/step - loss: 0.0052\n",
            "Epoch 26/100\n",
            "38/38 [==============================] - 12s 318ms/step - loss: 0.0049\n",
            "Epoch 27/100\n",
            "38/38 [==============================] - 12s 314ms/step - loss: 0.0058\n",
            "Epoch 28/100\n",
            "38/38 [==============================] - 12s 315ms/step - loss: 0.0056\n",
            "Epoch 29/100\n",
            "38/38 [==============================] - 12s 315ms/step - loss: 0.0054\n",
            "Epoch 30/100\n",
            "38/38 [==============================] - 12s 316ms/step - loss: 0.0047\n",
            "Epoch 31/100\n",
            "38/38 [==============================] - 12s 313ms/step - loss: 0.0039\n",
            "Epoch 32/100\n",
            "38/38 [==============================] - 12s 313ms/step - loss: 0.0047\n",
            "Epoch 33/100\n",
            "38/38 [==============================] - 12s 315ms/step - loss: 0.0044\n",
            "Epoch 34/100\n",
            "38/38 [==============================] - 12s 314ms/step - loss: 0.0043\n",
            "Epoch 35/100\n",
            "38/38 [==============================] - 12s 314ms/step - loss: 0.0047\n",
            "Epoch 36/100\n",
            "38/38 [==============================] - 12s 314ms/step - loss: 0.0039\n",
            "Epoch 37/100\n",
            "38/38 [==============================] - 12s 318ms/step - loss: 0.0048\n",
            "Epoch 38/100\n",
            "38/38 [==============================] - 12s 314ms/step - loss: 0.0040\n",
            "Epoch 39/100\n",
            "38/38 [==============================] - 12s 309ms/step - loss: 0.0045\n",
            "Epoch 40/100\n",
            "38/38 [==============================] - 12s 313ms/step - loss: 0.0037\n",
            "Epoch 41/100\n",
            "38/38 [==============================] - 12s 321ms/step - loss: 0.0039\n",
            "Epoch 42/100\n",
            "38/38 [==============================] - 12s 318ms/step - loss: 0.0038\n",
            "Epoch 43/100\n",
            "38/38 [==============================] - 12s 311ms/step - loss: 0.0041\n",
            "Epoch 44/100\n",
            "38/38 [==============================] - 12s 311ms/step - loss: 0.0040\n",
            "Epoch 45/100\n",
            "38/38 [==============================] - 12s 311ms/step - loss: 0.0045\n",
            "Epoch 46/100\n",
            "38/38 [==============================] - 12s 322ms/step - loss: 0.0038\n",
            "Epoch 47/100\n",
            "38/38 [==============================] - 12s 312ms/step - loss: 0.0038\n",
            "Epoch 48/100\n",
            "38/38 [==============================] - 12s 312ms/step - loss: 0.0035\n",
            "Epoch 49/100\n",
            "38/38 [==============================] - 12s 316ms/step - loss: 0.0042\n",
            "Epoch 50/100\n",
            "38/38 [==============================] - 12s 314ms/step - loss: 0.0039\n",
            "Epoch 51/100\n",
            "38/38 [==============================] - 12s 318ms/step - loss: 0.0038\n",
            "Epoch 52/100\n",
            "38/38 [==============================] - 12s 313ms/step - loss: 0.0039\n",
            "Epoch 53/100\n",
            "38/38 [==============================] - 12s 313ms/step - loss: 0.0036\n",
            "Epoch 54/100\n",
            "38/38 [==============================] - 12s 315ms/step - loss: 0.0039\n",
            "Epoch 55/100\n",
            "38/38 [==============================] - 12s 311ms/step - loss: 0.0038\n",
            "Epoch 56/100\n",
            "38/38 [==============================] - 12s 313ms/step - loss: 0.0036\n",
            "Epoch 57/100\n",
            "38/38 [==============================] - 12s 313ms/step - loss: 0.0043\n",
            "Epoch 58/100\n",
            "38/38 [==============================] - 12s 313ms/step - loss: 0.0033\n",
            "Epoch 59/100\n",
            "38/38 [==============================] - 12s 316ms/step - loss: 0.0028\n",
            "Epoch 60/100\n",
            "38/38 [==============================] - 12s 310ms/step - loss: 0.0036\n",
            "Epoch 61/100\n",
            "38/38 [==============================] - 12s 309ms/step - loss: 0.0036\n",
            "Epoch 62/100\n",
            "38/38 [==============================] - 12s 311ms/step - loss: 0.0035\n",
            "Epoch 63/100\n",
            "38/38 [==============================] - 12s 313ms/step - loss: 0.0042\n",
            "Epoch 64/100\n",
            "38/38 [==============================] - 12s 315ms/step - loss: 0.0037\n",
            "Epoch 65/100\n",
            "38/38 [==============================] - 12s 310ms/step - loss: 0.0031\n",
            "Epoch 66/100\n",
            "38/38 [==============================] - 12s 310ms/step - loss: 0.0035\n",
            "Epoch 67/100\n",
            "38/38 [==============================] - 12s 320ms/step - loss: 0.0044\n",
            "Epoch 68/100\n",
            "38/38 [==============================] - 12s 318ms/step - loss: 0.0031\n",
            "Epoch 69/100\n",
            "38/38 [==============================] - 12s 314ms/step - loss: 0.0030\n",
            "Epoch 70/100\n",
            "38/38 [==============================] - 12s 320ms/step - loss: 0.0029\n",
            "Epoch 71/100\n",
            "38/38 [==============================] - 12s 311ms/step - loss: 0.0031\n",
            "Epoch 72/100\n",
            "38/38 [==============================] - 12s 316ms/step - loss: 0.0029\n",
            "Epoch 73/100\n",
            "38/38 [==============================] - 12s 311ms/step - loss: 0.0033\n",
            "Epoch 74/100\n",
            "38/38 [==============================] - 12s 312ms/step - loss: 0.0029\n",
            "Epoch 75/100\n",
            "38/38 [==============================] - 12s 310ms/step - loss: 0.0027\n",
            "Epoch 76/100\n",
            "38/38 [==============================] - 12s 313ms/step - loss: 0.0029\n",
            "Epoch 77/100\n",
            "38/38 [==============================] - 12s 315ms/step - loss: 0.0028\n",
            "Epoch 78/100\n",
            "38/38 [==============================] - 12s 309ms/step - loss: 0.0031\n",
            "Epoch 79/100\n",
            "38/38 [==============================] - 12s 315ms/step - loss: 0.0028\n",
            "Epoch 80/100\n",
            "38/38 [==============================] - 12s 313ms/step - loss: 0.0030\n",
            "Epoch 81/100\n",
            "38/38 [==============================] - 12s 310ms/step - loss: 0.0029\n",
            "Epoch 82/100\n",
            "38/38 [==============================] - 12s 306ms/step - loss: 0.0026\n",
            "Epoch 83/100\n",
            "38/38 [==============================] - 12s 307ms/step - loss: 0.0026\n",
            "Epoch 84/100\n",
            "38/38 [==============================] - 12s 309ms/step - loss: 0.0028\n",
            "Epoch 85/100\n",
            "38/38 [==============================] - 12s 312ms/step - loss: 0.0025\n",
            "Epoch 86/100\n",
            "38/38 [==============================] - 12s 309ms/step - loss: 0.0028\n",
            "Epoch 87/100\n",
            "38/38 [==============================] - 12s 312ms/step - loss: 0.0026\n",
            "Epoch 88/100\n",
            "38/38 [==============================] - 12s 310ms/step - loss: 0.0026\n",
            "Epoch 89/100\n",
            "38/38 [==============================] - 12s 305ms/step - loss: 0.0024\n",
            "Epoch 90/100\n",
            "38/38 [==============================] - 12s 312ms/step - loss: 0.0023\n",
            "Epoch 91/100\n",
            "38/38 [==============================] - 12s 316ms/step - loss: 0.0024\n",
            "Epoch 92/100\n",
            "38/38 [==============================] - 12s 309ms/step - loss: 0.0023\n",
            "Epoch 93/100\n",
            "38/38 [==============================] - 12s 315ms/step - loss: 0.0025\n",
            "Epoch 94/100\n",
            "38/38 [==============================] - 12s 318ms/step - loss: 0.0024\n",
            "Epoch 95/100\n",
            "38/38 [==============================] - 12s 310ms/step - loss: 0.0024\n",
            "Epoch 96/100\n",
            "38/38 [==============================] - 12s 317ms/step - loss: 0.0022\n",
            "Epoch 97/100\n",
            "38/38 [==============================] - 12s 312ms/step - loss: 0.0024\n",
            "Epoch 98/100\n",
            "38/38 [==============================] - 12s 312ms/step - loss: 0.0026\n",
            "Epoch 99/100\n",
            "38/38 [==============================] - 12s 315ms/step - loss: 0.0024\n",
            "Epoch 100/100\n",
            "38/38 [==============================] - 12s 310ms/step - loss: 0.0027\n"
          ],
          "name": "stdout"
        },
        {
          "output_type": "execute_result",
          "data": {
            "text/plain": [
              "<tensorflow.python.keras.callbacks.History at 0x7fc6e004dcd0>"
            ]
          },
          "metadata": {
            "tags": []
          },
          "execution_count": 24
        }
      ]
    },
    {
      "cell_type": "code",
      "metadata": {
        "id": "V3LCbEHdJqWD"
      },
      "source": [
        "model.save(\"GOOGLE_EPOCHS.h5\")"
      ],
      "execution_count": 25,
      "outputs": []
    },
    {
      "cell_type": "code",
      "metadata": {
        "id": "bf0eaCcHKCQG"
      },
      "source": [
        "#getting the real stock prices of month NOV 2019\n",
        "test_data = pd.read_csv('/content/test_set.csv')"
      ],
      "execution_count": 26,
      "outputs": []
    },
    {
      "cell_type": "code",
      "metadata": {
        "colab": {
          "base_uri": "https://localhost:8080/"
        },
        "id": "NtCsaJPlWgaM",
        "outputId": "c0fe52dd-52bb-4efb-adf0-f3112ce8bd14"
      },
      "source": [
        "print(test_data)"
      ],
      "execution_count": 62,
      "outputs": [
        {
          "output_type": "stream",
          "text": [
            "          Date         Open         High  ...        Close    Adj Close   Volume\n",
            "0   01-11-2019  1265.000000  1274.619995  ...  1273.739990  1273.739990  1670100\n",
            "1   04-11-2019  1276.449951  1294.130005  ...  1291.369995  1291.369995  1501000\n",
            "2   05-11-2019  1292.890015  1298.930054  ...  1292.030029  1292.030029  1282700\n",
            "3   06-11-2019  1289.459961  1293.729980  ...  1291.800049  1291.800049  1153000\n",
            "4   07-11-2019  1294.280029  1323.739990  ...  1308.859985  1308.859985  2030000\n",
            "5   08-11-2019  1305.280029  1318.000000  ...  1311.369995  1311.369995  1251400\n",
            "6   11-11-2019  1303.180054  1306.425049  ...  1299.189941  1299.189941  1011900\n",
            "7   12-11-2019  1300.000000  1310.000000  ...  1298.800049  1298.800049  1085900\n",
            "8   13-11-2019  1294.069946  1304.300049  ...  1298.000000  1298.000000   826700\n",
            "9   14-11-2019  1297.500000  1317.000000  ...  1311.459961  1311.459961  1193500\n",
            "10  15-11-2019  1318.939941  1334.880005  ...  1334.869995  1334.869995  1782600\n",
            "11  18-11-2019  1332.219971  1335.529053  ...  1320.699951  1320.699951  1487400\n",
            "12  19-11-2019  1327.699951  1327.699951  ...  1315.459961  1315.459961  1269200\n",
            "13  20-11-2019  1311.739990  1315.000000  ...  1303.050049  1303.050049  1308600\n",
            "14  21-11-2019  1301.479980  1312.589966  ...  1301.349976  1301.349976   995500\n",
            "15  22-11-2019  1305.619995  1308.729980  ...  1295.339966  1295.339966  1385700\n",
            "16  25-11-2019  1299.180054  1311.310059  ...  1306.689941  1306.689941  1036200\n",
            "17  26-11-2019  1309.859985  1314.800049  ...  1313.550049  1313.550049  1069700\n",
            "18  27-11-2019  1315.000000  1318.359985  ...  1312.989990  1312.989990   995600\n",
            "19  29-11-2019  1307.119995  1310.204956  ...  1304.959961  1304.959961   587000\n",
            "\n",
            "[20 rows x 7 columns]\n"
          ],
          "name": "stdout"
        }
      ]
    },
    {
      "cell_type": "code",
      "metadata": {
        "colab": {
          "base_uri": "https://localhost:8080/"
        },
        "id": "VjZ0iJvrLvk-",
        "outputId": "bc3cd716-92c6-4965-a6bb-e38cf72da754"
      },
      "source": [
        "test_data.shape"
      ],
      "execution_count": 28,
      "outputs": [
        {
          "output_type": "execute_result",
          "data": {
            "text/plain": [
              "(20, 7)"
            ]
          },
          "metadata": {
            "tags": []
          },
          "execution_count": 28
        }
      ]
    },
    {
      "cell_type": "code",
      "metadata": {
        "colab": {
          "base_uri": "https://localhost:8080/"
        },
        "id": "y05YR5jWL39M",
        "outputId": "a93ea5e6-140c-43d3-b80a-3f02a5050683"
      },
      "source": [
        "test_data.info()"
      ],
      "execution_count": 29,
      "outputs": [
        {
          "output_type": "stream",
          "text": [
            "<class 'pandas.core.frame.DataFrame'>\n",
            "RangeIndex: 20 entries, 0 to 19\n",
            "Data columns (total 7 columns):\n",
            " #   Column     Non-Null Count  Dtype  \n",
            "---  ------     --------------  -----  \n",
            " 0   Date       20 non-null     object \n",
            " 1   Open       20 non-null     float64\n",
            " 2   High       20 non-null     float64\n",
            " 3   Low        20 non-null     float64\n",
            " 4   Close      20 non-null     float64\n",
            " 5   Adj Close  20 non-null     float64\n",
            " 6   Volume     20 non-null     int64  \n",
            "dtypes: float64(5), int64(1), object(1)\n",
            "memory usage: 1.2+ KB\n"
          ],
          "name": "stdout"
        }
      ]
    },
    {
      "cell_type": "code",
      "metadata": {
        "id": "VDeb0RK7L8dy"
      },
      "source": [
        "real_stock_price = test_data.iloc[:,1:2].values #only selecting Open column"
      ],
      "execution_count": 30,
      "outputs": []
    },
    {
      "cell_type": "code",
      "metadata": {
        "colab": {
          "base_uri": "https://localhost:8080/"
        },
        "id": "3hARGL90MQB5",
        "outputId": "c156004c-1a07-4e51-9625-ad0fd11b2b9c"
      },
      "source": [
        "real_stock_price"
      ],
      "execution_count": 31,
      "outputs": [
        {
          "output_type": "execute_result",
          "data": {
            "text/plain": [
              "array([[1265.      ],\n",
              "       [1276.449951],\n",
              "       [1292.890015],\n",
              "       [1289.459961],\n",
              "       [1294.280029],\n",
              "       [1305.280029],\n",
              "       [1303.180054],\n",
              "       [1300.      ],\n",
              "       [1294.069946],\n",
              "       [1297.5     ],\n",
              "       [1318.939941],\n",
              "       [1332.219971],\n",
              "       [1327.699951],\n",
              "       [1311.73999 ],\n",
              "       [1301.47998 ],\n",
              "       [1305.619995],\n",
              "       [1299.180054],\n",
              "       [1309.859985],\n",
              "       [1315.      ],\n",
              "       [1307.119995]])"
            ]
          },
          "metadata": {
            "tags": []
          },
          "execution_count": 31
        }
      ]
    },
    {
      "cell_type": "code",
      "metadata": {
        "colab": {
          "base_uri": "https://localhost:8080/"
        },
        "id": "vG3TDsQOMQFU",
        "outputId": "7a97377a-54a6-4237-b03d-a9267b7ef747"
      },
      "source": [
        "real_stock_price.shape"
      ],
      "execution_count": 38,
      "outputs": [
        {
          "output_type": "execute_result",
          "data": {
            "text/plain": [
              "(20, 1)"
            ]
          },
          "metadata": {
            "tags": []
          },
          "execution_count": 38
        }
      ]
    },
    {
      "cell_type": "code",
      "metadata": {
        "colab": {
          "base_uri": "https://localhost:8080/"
        },
        "id": "IOmi7ZEJMQHz",
        "outputId": "7621eee8-29c7-452f-8d65-a7d4d3ad4efd"
      },
      "source": [
        "#predicting the stock prices for month nov 2019\n",
        "\n",
        "\n",
        "#Concatination\n",
        "dataset_total = pd.concat([training_data['Open'],test_data['Open']],axis=0) \n",
        "#we concatinate on the basis of rows and not columns hence we've used axis =0 \n",
        "\n",
        "#Selecting 60 stock prices for each day for predicting data for Nov 2019\n",
        "\n",
        "#Note - In dataset_total we have observations from both trainig set(2014-2019) and test set(nov 2019)\n",
        "\n",
        "inputs  = dataset_total[len(dataset_total)-len(test_data)-60:].values\n",
        "\n",
        "\n",
        "#doing this len(dataset_total)-len(test_data)-60 gives previous 60 stock prices for the first day of november 2019 \n",
        "# after that we have added \":\" so that we get data for whole month\n",
        "\n",
        "#converting inputs dataframe to np array\n",
        "\n",
        "inputs = inputs.reshape(-1,1)\n",
        "\n",
        "#feature scaling\n",
        "\n",
        "inputs = sc.transform(inputs)\n",
        "\n",
        "print(inputs)\n",
        "\n",
        "\n"
      ],
      "execution_count": 49,
      "outputs": [
        {
          "output_type": "stream",
          "text": [
            "[[0.8464367 ]\n",
            " [0.88070516]\n",
            " [0.90006826]\n",
            " [0.87608154]\n",
            " [0.86618288]\n",
            " [0.87237765]\n",
            " [0.85601605]\n",
            " [0.87651591]\n",
            " [0.88997798]\n",
            " [0.89656862]\n",
            " [0.89388643]\n",
            " [0.8950614 ]\n",
            " [0.87963232]\n",
            " [0.84804604]\n",
            " [0.87776759]\n",
            " [0.85372973]\n",
            " [0.87852112]\n",
            " [0.90071967]\n",
            " [0.87329723]\n",
            " [0.87288842]\n",
            " [0.8918173 ]\n",
            " [0.91301956]\n",
            " [0.90774452]\n",
            " [0.89644092]\n",
            " [0.90699099]\n",
            " [0.93367269]\n",
            " [0.94267718]\n",
            " [0.94033987]\n",
            " [0.94146386]\n",
            " [0.9377726 ]\n",
            " [0.94358413]\n",
            " [0.94493793]\n",
            " [0.93584394]\n",
            " [0.95372539]\n",
            " [0.92284151]\n",
            " [0.95622874]\n",
            " [0.95756992]\n",
            " [0.92941936]\n",
            " [0.92690322]\n",
            " [0.89877823]\n",
            " [0.87709061]\n",
            " [0.89227709]\n",
            " [0.90825545]\n",
            " [0.89955733]\n",
            " [0.9018053 ]\n",
            " [0.90082179]\n",
            " [0.93100313]\n",
            " [0.91839671]\n",
            " [0.92869139]\n",
            " [0.95521983]\n",
            " [0.96768576]\n",
            " [0.97091708]\n",
            " [0.96938444]\n",
            " [0.96375174]\n",
            " [0.95673967]\n",
            " [0.98041987]\n",
            " [0.96781345]\n",
            " [0.99900371]\n",
            " [1.        ]\n",
            " [0.97029124]\n",
            " [0.98565655]\n",
            " [1.00028096]\n",
            " [1.02127897]\n",
            " [1.01689794]\n",
            " [1.02305436]\n",
            " [1.03710407]\n",
            " [1.03442188]\n",
            " [1.03036017]\n",
            " [1.02278603]\n",
            " [1.02716706]\n",
            " [1.05455114]\n",
            " [1.07151301]\n",
            " [1.06573983]\n",
            " [1.04535503]\n",
            " [1.03225047]\n",
            " [1.03753829]\n",
            " [1.0293129 ]\n",
            " [1.0429538 ]\n",
            " [1.04951887]\n",
            " [1.03945416]]\n"
          ],
          "name": "stdout"
        }
      ]
    },
    {
      "cell_type": "code",
      "metadata": {
        "colab": {
          "base_uri": "https://localhost:8080/"
        },
        "id": "uwv0Q76PMQKc",
        "outputId": "08357596-c201-48ef-835b-371f4c34917d"
      },
      "source": [
        "#creating a test set\n",
        "x_test = []\n",
        "\n",
        "for i in range(60,80): #LB=60 and UB = 80. previous 60 stock prices and total of 20 set in test_set therefore 60+20,UB=80 \n",
        "  x_test.append(inputs[i-60:i,0]) #consider i=60 therefore  LB=0 and UB=60, 0 is column index\n",
        "\n",
        "#Converting into np array\n",
        "x_test = np.array(x_test)\n",
        "\n",
        "#converting into 3D\n",
        "x_test = np.reshape(x_test,(x_test.shape[0],x_test.shape[1],1))\n",
        "\n",
        "print(\"x_test\\n\",x_test)\n",
        "print(\"Shape of x_test:\",x_test.shape)\n"
      ],
      "execution_count": 56,
      "outputs": [
        {
          "output_type": "stream",
          "text": [
            "x_test\n",
            " [[[0.8464367 ]\n",
            "  [0.88070516]\n",
            "  [0.90006826]\n",
            "  ...\n",
            "  [0.99900371]\n",
            "  [1.        ]\n",
            "  [0.97029124]]\n",
            "\n",
            " [[0.88070516]\n",
            "  [0.90006826]\n",
            "  [0.87608154]\n",
            "  ...\n",
            "  [1.        ]\n",
            "  [0.97029124]\n",
            "  [0.98565655]]\n",
            "\n",
            " [[0.90006826]\n",
            "  [0.87608154]\n",
            "  [0.86618288]\n",
            "  ...\n",
            "  [0.97029124]\n",
            "  [0.98565655]\n",
            "  [1.00028096]]\n",
            "\n",
            " ...\n",
            "\n",
            " [[0.90071967]\n",
            "  [0.87329723]\n",
            "  [0.87288842]\n",
            "  ...\n",
            "  [1.03225047]\n",
            "  [1.03753829]\n",
            "  [1.0293129 ]]\n",
            "\n",
            " [[0.87329723]\n",
            "  [0.87288842]\n",
            "  [0.8918173 ]\n",
            "  ...\n",
            "  [1.03753829]\n",
            "  [1.0293129 ]\n",
            "  [1.0429538 ]]\n",
            "\n",
            " [[0.87288842]\n",
            "  [0.8918173 ]\n",
            "  [0.91301956]\n",
            "  ...\n",
            "  [1.0293129 ]\n",
            "  [1.0429538 ]\n",
            "  [1.04951887]]]\n",
            "Shape of x_test: (20, 60, 1)\n"
          ],
          "name": "stdout"
        }
      ]
    },
    {
      "cell_type": "markdown",
      "metadata": {
        "id": "TeNeY0F2Uq4u"
      },
      "source": [
        "## Getting Predicted Stock Prices"
      ]
    },
    {
      "cell_type": "code",
      "metadata": {
        "id": "oDusEUxbUp6z"
      },
      "source": [
        "predicted_stock_price = model.predict(x_test)\n",
        "predicted_stock_price = sc.inverse_transform(predicted_stock_price)"
      ],
      "execution_count": 48,
      "outputs": []
    },
    {
      "cell_type": "code",
      "metadata": {
        "colab": {
          "base_uri": "https://localhost:8080/"
        },
        "id": "jX6fSnP0MQNw",
        "outputId": "d9ccc584-4793-40ad-9caf-a3c0a5c169c6"
      },
      "source": [
        "print(\"predicted price for 1 nov :\",predicted_stock_price[0])\n",
        "print(\"Real price for 1 Nov:\",real_stock_price[0])"
      ],
      "execution_count": 64,
      "outputs": [
        {
          "output_type": "stream",
          "text": [
            "predicted price for 1 nov : [1247.9404]\n",
            "Real price for 1 Nov: [1265.]\n"
          ],
          "name": "stdout"
        }
      ]
    },
    {
      "cell_type": "code",
      "metadata": {
        "colab": {
          "base_uri": "https://localhost:8080/",
          "height": 295
        },
        "id": "mMXpTS9GMQPW",
        "outputId": "646aed52-670f-4178-e8b8-4f07deac87b4"
      },
      "source": [
        "# Visualisation\n",
        "\n",
        "plt.plot(real_stock_price,'r',label='Real Stock Price')\n",
        "plt.plot(predicted_stock_price,'b',label='Predicted stock price')\n",
        "plt.legend()\n",
        "\n",
        "plt.title('Stock Price prediction')\n",
        "plt.xlabel('time')\n",
        "plt.ylabel('stock Price')\n",
        "plt.show()"
      ],
      "execution_count": 66,
      "outputs": [
        {
          "output_type": "display_data",
          "data": {
            "image/png": "[encoded data removed]",
            "text/plain": [
              "<Figure size 432x288 with 1 Axes>"
            ]
          },
          "metadata": {
            "tags": [],
            "needs_background": "light"
          }
        }
      ]
    },
    {
      "cell_type": "code",
      "metadata": {
        "id": "wz4UHND3Zmq7"
      },
      "source": [
        ""
      ],
      "execution_count": null,
      "outputs": []
    }
  ]
}