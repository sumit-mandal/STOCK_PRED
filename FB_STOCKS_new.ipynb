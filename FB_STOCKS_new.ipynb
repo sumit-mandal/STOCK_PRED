{
  "nbformat": 4,
  "nbformat_minor": 0,
  "metadata": {
    "colab": {
      "name": "FB_STOCKS.ipynb",
      "provenance": [],
      "collapsed_sections": []
    },
    "kernelspec": {
      "name": "python3",
      "display_name": "Python 3"
    },
    "language_info": {
      "name": "python"
    }
  },
  "cells": [
    {
      "cell_type": "code",
      "metadata": {
        "id": "mMz_hAAwuXxj"
      },
      "source": [
        "from sklearn.svm import SVR\n",
        "import numpy as np\n",
        "import pandas as pd\n",
        "import matplotlib.pyplot as plt\n",
        "from sklearn.gaussian_process.kernels import RBF\n",
        "plt.style.use('fivethirtyeight')"
      ],
      "execution_count": 118,
      "outputs": []
    },
    {
      "cell_type": "code",
      "metadata": {
        "id": "5ANOcEcyupSs"
      },
      "source": [
        "# # loading the data\n",
        "# from google.colab import files\n",
        "# uploaded = files.upload()"
      ],
      "execution_count": 104,
      "outputs": []
    },
    {
      "cell_type": "code",
      "metadata": {
        "colab": {
          "base_uri": "https://localhost:8080/",
          "height": 698
        },
        "id": "P8wLXcdvu1GA",
        "outputId": "6f0942e1-129e-4b3a-e61a-264c46f2aed8"
      },
      "source": [
        "#storing and showing the data\n",
        "df = pd.read_csv('FB_stock.csv')\n",
        "df"
      ],
      "execution_count": 105,
      "outputs": [
        {
          "output_type": "execute_result",
          "data": {
            "text/html": [
              "<div>\n",
              "<style scoped>\n",
              "    .dataframe tbody tr th:only-of-type {\n",
              "        vertical-align: middle;\n",
              "    }\n",
              "\n",
              "    .dataframe tbody tr th {\n",
              "        vertical-align: top;\n",
              "    }\n",
              "\n",
              "    .dataframe thead th {\n",
              "        text-align: right;\n",
              "    }\n",
              "</style>\n",
              "<table border=\"1\" class=\"dataframe\">\n",
              "  <thead>\n",
              "    <tr style=\"text-align: right;\">\n",
              "      <th></th>\n",
              "      <th>Date</th>\n",
              "      <th>Open</th>\n",
              "      <th>High</th>\n",
              "      <th>Low</th>\n",
              "      <th>Close</th>\n",
              "      <th>Adj Close</th>\n",
              "      <th>Volume</th>\n",
              "    </tr>\n",
              "  </thead>\n",
              "  <tbody>\n",
              "    <tr>\n",
              "      <th>0</th>\n",
              "      <td>2019-05-01</td>\n",
              "      <td>194.779999</td>\n",
              "      <td>196.179993</td>\n",
              "      <td>193.009995</td>\n",
              "      <td>193.029999</td>\n",
              "      <td>193.029999</td>\n",
              "      <td>15996600</td>\n",
              "    </tr>\n",
              "    <tr>\n",
              "      <th>1</th>\n",
              "      <td>2019-05-02</td>\n",
              "      <td>193.000000</td>\n",
              "      <td>194.000000</td>\n",
              "      <td>189.750000</td>\n",
              "      <td>192.529999</td>\n",
              "      <td>192.529999</td>\n",
              "      <td>13209500</td>\n",
              "    </tr>\n",
              "    <tr>\n",
              "      <th>2</th>\n",
              "      <td>2019-05-03</td>\n",
              "      <td>194.380005</td>\n",
              "      <td>196.160004</td>\n",
              "      <td>193.710007</td>\n",
              "      <td>195.470001</td>\n",
              "      <td>195.470001</td>\n",
              "      <td>14575400</td>\n",
              "    </tr>\n",
              "    <tr>\n",
              "      <th>3</th>\n",
              "      <td>2019-05-06</td>\n",
              "      <td>191.240005</td>\n",
              "      <td>194.279999</td>\n",
              "      <td>190.550003</td>\n",
              "      <td>193.880005</td>\n",
              "      <td>193.880005</td>\n",
              "      <td>13994900</td>\n",
              "    </tr>\n",
              "    <tr>\n",
              "      <th>4</th>\n",
              "      <td>2019-05-07</td>\n",
              "      <td>192.539993</td>\n",
              "      <td>192.899994</td>\n",
              "      <td>187.850006</td>\n",
              "      <td>189.770004</td>\n",
              "      <td>189.770004</td>\n",
              "      <td>16253000</td>\n",
              "    </tr>\n",
              "    <tr>\n",
              "      <th>5</th>\n",
              "      <td>2019-05-08</td>\n",
              "      <td>189.389999</td>\n",
              "      <td>190.720001</td>\n",
              "      <td>188.550003</td>\n",
              "      <td>189.539993</td>\n",
              "      <td>189.539993</td>\n",
              "      <td>12505700</td>\n",
              "    </tr>\n",
              "    <tr>\n",
              "      <th>6</th>\n",
              "      <td>2019-05-09</td>\n",
              "      <td>187.199997</td>\n",
              "      <td>189.770004</td>\n",
              "      <td>186.259995</td>\n",
              "      <td>188.649994</td>\n",
              "      <td>188.649994</td>\n",
              "      <td>12967000</td>\n",
              "    </tr>\n",
              "    <tr>\n",
              "      <th>7</th>\n",
              "      <td>2019-05-10</td>\n",
              "      <td>188.250000</td>\n",
              "      <td>190.000000</td>\n",
              "      <td>184.589996</td>\n",
              "      <td>188.339996</td>\n",
              "      <td>188.339996</td>\n",
              "      <td>12578500</td>\n",
              "    </tr>\n",
              "    <tr>\n",
              "      <th>8</th>\n",
              "      <td>2019-05-13</td>\n",
              "      <td>183.500000</td>\n",
              "      <td>185.429993</td>\n",
              "      <td>180.839996</td>\n",
              "      <td>181.539993</td>\n",
              "      <td>181.539993</td>\n",
              "      <td>16833300</td>\n",
              "    </tr>\n",
              "    <tr>\n",
              "      <th>9</th>\n",
              "      <td>2019-05-14</td>\n",
              "      <td>182.520004</td>\n",
              "      <td>183.490005</td>\n",
              "      <td>178.100006</td>\n",
              "      <td>180.729996</td>\n",
              "      <td>180.729996</td>\n",
              "      <td>17628100</td>\n",
              "    </tr>\n",
              "    <tr>\n",
              "      <th>10</th>\n",
              "      <td>2019-05-15</td>\n",
              "      <td>180.419998</td>\n",
              "      <td>187.279999</td>\n",
              "      <td>180.020004</td>\n",
              "      <td>186.270004</td>\n",
              "      <td>186.270004</td>\n",
              "      <td>16746900</td>\n",
              "    </tr>\n",
              "    <tr>\n",
              "      <th>11</th>\n",
              "      <td>2019-05-16</td>\n",
              "      <td>185.050003</td>\n",
              "      <td>188.580002</td>\n",
              "      <td>185.050003</td>\n",
              "      <td>186.990005</td>\n",
              "      <td>186.990005</td>\n",
              "      <td>12953100</td>\n",
              "    </tr>\n",
              "    <tr>\n",
              "      <th>12</th>\n",
              "      <td>2019-05-17</td>\n",
              "      <td>184.839996</td>\n",
              "      <td>187.580002</td>\n",
              "      <td>184.279999</td>\n",
              "      <td>185.300003</td>\n",
              "      <td>185.300003</td>\n",
              "      <td>10485400</td>\n",
              "    </tr>\n",
              "    <tr>\n",
              "      <th>13</th>\n",
              "      <td>2019-05-20</td>\n",
              "      <td>181.880005</td>\n",
              "      <td>184.229996</td>\n",
              "      <td>181.369995</td>\n",
              "      <td>182.720001</td>\n",
              "      <td>182.720001</td>\n",
              "      <td>10352000</td>\n",
              "    </tr>\n",
              "    <tr>\n",
              "      <th>14</th>\n",
              "      <td>2019-05-21</td>\n",
              "      <td>184.570007</td>\n",
              "      <td>185.699997</td>\n",
              "      <td>183.889999</td>\n",
              "      <td>184.820007</td>\n",
              "      <td>184.820007</td>\n",
              "      <td>7502800</td>\n",
              "    </tr>\n",
              "    <tr>\n",
              "      <th>15</th>\n",
              "      <td>2019-05-22</td>\n",
              "      <td>184.729996</td>\n",
              "      <td>186.740005</td>\n",
              "      <td>183.610001</td>\n",
              "      <td>185.320007</td>\n",
              "      <td>185.320007</td>\n",
              "      <td>9213800</td>\n",
              "    </tr>\n",
              "    <tr>\n",
              "      <th>16</th>\n",
              "      <td>2019-05-23</td>\n",
              "      <td>182.419998</td>\n",
              "      <td>183.899994</td>\n",
              "      <td>179.669998</td>\n",
              "      <td>180.869995</td>\n",
              "      <td>180.869995</td>\n",
              "      <td>12768800</td>\n",
              "    </tr>\n",
              "    <tr>\n",
              "      <th>17</th>\n",
              "      <td>2019-05-24</td>\n",
              "      <td>182.330002</td>\n",
              "      <td>183.630005</td>\n",
              "      <td>180.830002</td>\n",
              "      <td>181.059998</td>\n",
              "      <td>181.059998</td>\n",
              "      <td>8807700</td>\n",
              "    </tr>\n",
              "    <tr>\n",
              "      <th>18</th>\n",
              "      <td>2019-05-28</td>\n",
              "      <td>181.539993</td>\n",
              "      <td>184.710007</td>\n",
              "      <td>181.449997</td>\n",
              "      <td>184.309998</td>\n",
              "      <td>184.309998</td>\n",
              "      <td>14843300</td>\n",
              "    </tr>\n",
              "    <tr>\n",
              "      <th>19</th>\n",
              "      <td>2019-05-29</td>\n",
              "      <td>183.500000</td>\n",
              "      <td>184.559998</td>\n",
              "      <td>181.350006</td>\n",
              "      <td>182.190002</td>\n",
              "      <td>182.190002</td>\n",
              "      <td>12797700</td>\n",
              "    </tr>\n",
              "    <tr>\n",
              "      <th>20</th>\n",
              "      <td>2019-05-30</td>\n",
              "      <td>183.080002</td>\n",
              "      <td>183.479996</td>\n",
              "      <td>180.889999</td>\n",
              "      <td>183.009995</td>\n",
              "      <td>183.009995</td>\n",
              "      <td>8581500</td>\n",
              "    </tr>\n",
              "    <tr>\n",
              "      <th>21</th>\n",
              "      <td>2019-05-31</td>\n",
              "      <td>180.279999</td>\n",
              "      <td>180.539993</td>\n",
              "      <td>177.160004</td>\n",
              "      <td>177.470001</td>\n",
              "      <td>177.470001</td>\n",
              "      <td>15226500</td>\n",
              "    </tr>\n",
              "  </tbody>\n",
              "</table>\n",
              "</div>"
            ],
            "text/plain": [
              "          Date        Open        High  ...       Close   Adj Close    Volume\n",
              "0   2019-05-01  194.779999  196.179993  ...  193.029999  193.029999  15996600\n",
              "1   2019-05-02  193.000000  194.000000  ...  192.529999  192.529999  13209500\n",
              "2   2019-05-03  194.380005  196.160004  ...  195.470001  195.470001  14575400\n",
              "3   2019-05-06  191.240005  194.279999  ...  193.880005  193.880005  13994900\n",
              "4   2019-05-07  192.539993  192.899994  ...  189.770004  189.770004  16253000\n",
              "5   2019-05-08  189.389999  190.720001  ...  189.539993  189.539993  12505700\n",
              "6   2019-05-09  187.199997  189.770004  ...  188.649994  188.649994  12967000\n",
              "7   2019-05-10  188.250000  190.000000  ...  188.339996  188.339996  12578500\n",
              "8   2019-05-13  183.500000  185.429993  ...  181.539993  181.539993  16833300\n",
              "9   2019-05-14  182.520004  183.490005  ...  180.729996  180.729996  17628100\n",
              "10  2019-05-15  180.419998  187.279999  ...  186.270004  186.270004  16746900\n",
              "11  2019-05-16  185.050003  188.580002  ...  186.990005  186.990005  12953100\n",
              "12  2019-05-17  184.839996  187.580002  ...  185.300003  185.300003  10485400\n",
              "13  2019-05-20  181.880005  184.229996  ...  182.720001  182.720001  10352000\n",
              "14  2019-05-21  184.570007  185.699997  ...  184.820007  184.820007   7502800\n",
              "15  2019-05-22  184.729996  186.740005  ...  185.320007  185.320007   9213800\n",
              "16  2019-05-23  182.419998  183.899994  ...  180.869995  180.869995  12768800\n",
              "17  2019-05-24  182.330002  183.630005  ...  181.059998  181.059998   8807700\n",
              "18  2019-05-28  181.539993  184.710007  ...  184.309998  184.309998  14843300\n",
              "19  2019-05-29  183.500000  184.559998  ...  182.190002  182.190002  12797700\n",
              "20  2019-05-30  183.080002  183.479996  ...  183.009995  183.009995   8581500\n",
              "21  2019-05-31  180.279999  180.539993  ...  177.470001  177.470001  15226500\n",
              "\n",
              "[22 rows x 7 columns]"
            ]
          },
          "metadata": {
            "tags": []
          },
          "execution_count": 105
        }
      ]
    },
    {
      "cell_type": "code",
      "metadata": {
        "colab": {
          "base_uri": "https://localhost:8080/"
        },
        "id": "EqJXAFcNvBBx",
        "outputId": "ebe5fea1-fbc4-4ad2-d396-b7e14af98946"
      },
      "source": [
        "# get the number of rows and columns \n",
        "df.shape"
      ],
      "execution_count": 106,
      "outputs": [
        {
          "output_type": "execute_result",
          "data": {
            "text/plain": [
              "(22, 7)"
            ]
          },
          "metadata": {
            "tags": []
          },
          "execution_count": 106
        }
      ]
    },
    {
      "cell_type": "code",
      "metadata": {
        "id": "oBzfjrHwvKQf"
      },
      "source": [
        "## our model will predict the stock value for  last day and testing parameter is adjusted close price"
      ],
      "execution_count": 107,
      "outputs": []
    },
    {
      "cell_type": "code",
      "metadata": {
        "colab": {
          "base_uri": "https://localhost:8080/",
          "height": 77
        },
        "id": "C8_nlVK-vcIN",
        "outputId": "9ed411d0-7654-41d5-93b7-0d27eac50a81"
      },
      "source": [
        "#Get and print the last row of data\n",
        "\n",
        "actual_price = df.tail(1)\n",
        "actual_price"
      ],
      "execution_count": 108,
      "outputs": [
        {
          "output_type": "execute_result",
          "data": {
            "text/html": [
              "<div>\n",
              "<style scoped>\n",
              "    .dataframe tbody tr th:only-of-type {\n",
              "        vertical-align: middle;\n",
              "    }\n",
              "\n",
              "    .dataframe tbody tr th {\n",
              "        vertical-align: top;\n",
              "    }\n",
              "\n",
              "    .dataframe thead th {\n",
              "        text-align: right;\n",
              "    }\n",
              "</style>\n",
              "<table border=\"1\" class=\"dataframe\">\n",
              "  <thead>\n",
              "    <tr style=\"text-align: right;\">\n",
              "      <th></th>\n",
              "      <th>Date</th>\n",
              "      <th>Open</th>\n",
              "      <th>High</th>\n",
              "      <th>Low</th>\n",
              "      <th>Close</th>\n",
              "      <th>Adj Close</th>\n",
              "      <th>Volume</th>\n",
              "    </tr>\n",
              "  </thead>\n",
              "  <tbody>\n",
              "    <tr>\n",
              "      <th>21</th>\n",
              "      <td>2019-05-31</td>\n",
              "      <td>180.279999</td>\n",
              "      <td>180.539993</td>\n",
              "      <td>177.160004</td>\n",
              "      <td>177.470001</td>\n",
              "      <td>177.470001</td>\n",
              "      <td>15226500</td>\n",
              "    </tr>\n",
              "  </tbody>\n",
              "</table>\n",
              "</div>"
            ],
            "text/plain": [
              "          Date        Open        High  ...       Close   Adj Close    Volume\n",
              "21  2019-05-31  180.279999  180.539993  ...  177.470001  177.470001  15226500\n",
              "\n",
              "[1 rows x 7 columns]"
            ]
          },
          "metadata": {
            "tags": []
          },
          "execution_count": 108
        }
      ]
    },
    {
      "cell_type": "code",
      "metadata": {
        "colab": {
          "base_uri": "https://localhost:8080/"
        },
        "id": "L-_0pUsCvl-N",
        "outputId": "833e58c6-d59c-41d0-be8d-e40ba4f8ee05"
      },
      "source": [
        "#prepare the data for training thr svr models\n",
        "# get all of the data except last row\n",
        "df = df.head(len(df)-1)\n",
        "\n",
        "#new dataset\n",
        "print(df)"
      ],
      "execution_count": 109,
      "outputs": [
        {
          "output_type": "stream",
          "text": [
            "          Date        Open        High  ...       Close   Adj Close    Volume\n",
            "0   2019-05-01  194.779999  196.179993  ...  193.029999  193.029999  15996600\n",
            "1   2019-05-02  193.000000  194.000000  ...  192.529999  192.529999  13209500\n",
            "2   2019-05-03  194.380005  196.160004  ...  195.470001  195.470001  14575400\n",
            "3   2019-05-06  191.240005  194.279999  ...  193.880005  193.880005  13994900\n",
            "4   2019-05-07  192.539993  192.899994  ...  189.770004  189.770004  16253000\n",
            "5   2019-05-08  189.389999  190.720001  ...  189.539993  189.539993  12505700\n",
            "6   2019-05-09  187.199997  189.770004  ...  188.649994  188.649994  12967000\n",
            "7   2019-05-10  188.250000  190.000000  ...  188.339996  188.339996  12578500\n",
            "8   2019-05-13  183.500000  185.429993  ...  181.539993  181.539993  16833300\n",
            "9   2019-05-14  182.520004  183.490005  ...  180.729996  180.729996  17628100\n",
            "10  2019-05-15  180.419998  187.279999  ...  186.270004  186.270004  16746900\n",
            "11  2019-05-16  185.050003  188.580002  ...  186.990005  186.990005  12953100\n",
            "12  2019-05-17  184.839996  187.580002  ...  185.300003  185.300003  10485400\n",
            "13  2019-05-20  181.880005  184.229996  ...  182.720001  182.720001  10352000\n",
            "14  2019-05-21  184.570007  185.699997  ...  184.820007  184.820007   7502800\n",
            "15  2019-05-22  184.729996  186.740005  ...  185.320007  185.320007   9213800\n",
            "16  2019-05-23  182.419998  183.899994  ...  180.869995  180.869995  12768800\n",
            "17  2019-05-24  182.330002  183.630005  ...  181.059998  181.059998   8807700\n",
            "18  2019-05-28  181.539993  184.710007  ...  184.309998  184.309998  14843300\n",
            "19  2019-05-29  183.500000  184.559998  ...  182.190002  182.190002  12797700\n",
            "20  2019-05-30  183.080002  183.479996  ...  183.009995  183.009995   8581500\n",
            "\n",
            "[21 rows x 7 columns]\n"
          ],
          "name": "stdout"
        }
      ]
    },
    {
      "cell_type": "code",
      "metadata": {
        "id": "ortggoVsv0-g"
      },
      "source": [
        "# create empty list to store the independent and dependent data\n",
        "days = []\n",
        "adj_close_prices=[]"
      ],
      "execution_count": 110,
      "outputs": []
    },
    {
      "cell_type": "code",
      "metadata": {
        "colab": {
          "base_uri": "https://localhost:8080/"
        },
        "id": "7EXiOhgMwFcJ",
        "outputId": "0eca6d53-4aa1-4785-96a6-3a82e604f63e"
      },
      "source": [
        "# get the data and adjusted close prices\n",
        "\n",
        "#loc = label based, we need to have to specify rows and columns based on their row and column labels\n",
        "#iloc = integer based, iloc is integer position-based, so you have to specify rows and columns by their integer position values\n",
        "df_days = df.loc[:,'Date']\n",
        "df_adj_close = df.loc[:,'Adj Close']\n",
        "\n",
        "print('days:',df_days)\n",
        "print(\"Adjusted close price:\",df_adj_close)\n",
        "\n",
        "\n",
        "# #Alternatively\n",
        "# df_days = df.iloc[:,0]\n",
        "# df_adj_close = df.iloc[:,-2]\n",
        "\n",
        "# print('days:',df_days)\n",
        "# print(\"Adjusted close price:\",df_adj_close)"
      ],
      "execution_count": 111,
      "outputs": [
        {
          "output_type": "stream",
          "text": [
            "days: 0     2019-05-01\n",
            "1     2019-05-02\n",
            "2     2019-05-03\n",
            "3     2019-05-06\n",
            "4     2019-05-07\n",
            "5     2019-05-08\n",
            "6     2019-05-09\n",
            "7     2019-05-10\n",
            "8     2019-05-13\n",
            "9     2019-05-14\n",
            "10    2019-05-15\n",
            "11    2019-05-16\n",
            "12    2019-05-17\n",
            "13    2019-05-20\n",
            "14    2019-05-21\n",
            "15    2019-05-22\n",
            "16    2019-05-23\n",
            "17    2019-05-24\n",
            "18    2019-05-28\n",
            "19    2019-05-29\n",
            "20    2019-05-30\n",
            "Name: Date, dtype: object\n",
            "Adjusted close price: 0     193.029999\n",
            "1     192.529999\n",
            "2     195.470001\n",
            "3     193.880005\n",
            "4     189.770004\n",
            "5     189.539993\n",
            "6     188.649994\n",
            "7     188.339996\n",
            "8     181.539993\n",
            "9     180.729996\n",
            "10    186.270004\n",
            "11    186.990005\n",
            "12    185.300003\n",
            "13    182.720001\n",
            "14    184.820007\n",
            "15    185.320007\n",
            "16    180.869995\n",
            "17    181.059998\n",
            "18    184.309998\n",
            "19    182.190002\n",
            "20    183.009995\n",
            "Name: Adj Close, dtype: float64\n"
          ],
          "name": "stdout"
        }
      ]
    },
    {
      "cell_type": "code",
      "metadata": {
        "id": "8kdBOKmNwYGp"
      },
      "source": [
        "# create the independent data set\n",
        "\n",
        "for day in df_days:\n",
        "  days.append( [int(day.split('-')[2])]) \n",
        "  \n",
        "  #we add only day and not whole date\n",
        "\n",
        "\n",
        "# create the dependent data set\n",
        "for adj_close_price in df_adj_close:\n",
        "  adj_close_prices.append(float(adj_close_price))\n",
        "\n",
        "\n"
      ],
      "execution_count": 112,
      "outputs": []
    },
    {
      "cell_type": "code",
      "metadata": {
        "colab": {
          "base_uri": "https://localhost:8080/"
        },
        "id": "PIJ0rSbJCoRD",
        "outputId": "04b45ab0-fe67-486a-b09c-5084358717e3"
      },
      "source": [
        "#print the days and adj close prices\n",
        "print(days)\n",
        "print(adj_close_prices)\n",
        "\n",
        "\n"
      ],
      "execution_count": 113,
      "outputs": [
        {
          "output_type": "stream",
          "text": [
            "[[1], [2], [3], [6], [7], [8], [9], [10], [13], [14], [15], [16], [17], [20], [21], [22], [23], [24], [28], [29], [30]]\n",
            "[193.029999, 192.529999, 195.470001, 193.880005, 189.770004, 189.53999299999998, 188.649994, 188.33999599999999, 181.53999299999998, 180.729996, 186.270004, 186.990005, 185.300003, 182.720001, 184.820007, 185.320007, 180.869995, 181.059998, 184.309998, 182.190002, 183.009995]\n"
          ],
          "name": "stdout"
        }
      ]
    },
    {
      "cell_type": "code",
      "metadata": {
        "colab": {
          "base_uri": "https://localhost:8080/"
        },
        "id": "LnpgPmGXLURK",
        "outputId": "c3aab456-0202-4d21-a7c1-49ab476a7971"
      },
      "source": [
        "#Create a 3 Support vector regrresiion model\n",
        "import warnings\n",
        "from scipy import sparse\n",
        "from sklearn.neighbors import kneighbors_graph\n",
        "\n",
        "#crerate and train a SVR model using a linear kernel\n",
        "\n",
        "lin_svr = SVR(kernel = 'linear',C=1000.0)\n",
        "lin_svr.fit(days,adj_close_prices)\n",
        "\n",
        "#create and train svr model using a polynomial kernel\n",
        "\n",
        "poly_svr = SVR(kernel='poly',C=1000.0,degree=2)\n",
        "poly_svr.fit(days, adj_close_prices)\n",
        "\n",
        "#create and train svr model using rbf kernel\n",
        "rbf_svr = SVR(kernel='rbf',C=1000.0,gamma=0.15)\n",
        "rbf_svr.fit(days, adj_close_prices)\n"
      ],
      "execution_count": 127,
      "outputs": [
        {
          "output_type": "execute_result",
          "data": {
            "text/plain": [
              "SVR(C=1000.0, cache_size=200, coef0=0.0, degree=3, epsilon=0.1, gamma=0.15,\n",
              "    kernel='rbf', max_iter=-1, shrinking=True, tol=0.001, verbose=False)"
            ]
          },
          "metadata": {
            "tags": []
          },
          "execution_count": 127
        }
      ]
    },
    {
      "cell_type": "code",
      "metadata": {
        "colab": {
          "base_uri": "https://localhost:8080/",
          "height": 332
        },
        "id": "hyVpLLpaO-3c",
        "outputId": "be820ea7-d187-4523-b7dd-888fa48b3b22"
      },
      "source": [
        "#Plot the models on a graph to see which has the best fit for original data\n",
        "\n",
        "plt.figure(figsize=(16,8))\n",
        "plt.scatter(days,adj_close_prices,color='red',label='Data')\n",
        "plt.plot(days,lin_svr.predict(days),color='green',label='RBF Models')\n",
        "plt.plot(days,poly_svr.predict(days),color = 'blue',label='SVR Models')\n",
        "plt.plot(days,rbf_svr.predict(days),color = 'yellow',label='RBF Model')\n",
        "\n",
        "plt.xlabel('days')\n",
        "plt.ylabel('prices in $')\n",
        "plt.legend()\n",
        "plt.show()\n"
      ],
      "execution_count": 133,
      "outputs": [
        {
          "output_type": "display_data",
          "data": {
            "image/png": "[encoded data removed]",
            "text/plain": [
              "<Figure size 1152x576 with 1 Axes>"
            ]
          },
          "metadata": {
            "tags": []
          }
        }
      ]
    },
    {
      "cell_type": "code",
      "metadata": {
        "colab": {
          "base_uri": "https://localhost:8080/"
        },
        "id": "q8q9I96QRWUp",
        "outputId": "3e7eaed9-6d87-4007-d1be-0193c738dd1b"
      },
      "source": [
        "# show the predicted price of the given day\n",
        "\n",
        "day =[[31]]\n",
        "print(\"The RBF SVR predicted:\",rbf_svr.predict(day))\n",
        "print(\"The Linear svr model predicted \",lin_svr.predict(day))\n",
        "print('The Polynomial SVR Predicted :', poly_svr.predict(day))\n",
        "\n",
        "\n",
        "#Printing  the actual price \n",
        "print(\"The actual price was\",actual_price['Adj Close'][21])\n"
      ],
      "execution_count": 138,
      "outputs": [
        {
          "output_type": "stream",
          "text": [
            "The RBF SVR predicted: [185.04587695]\n",
            "The Linear svr model predicted  [181.04143771]\n",
            "The Polynomial SVR Predicted : [180.39533267]\n",
            "The actual price was 177.470001\n"
          ],
          "name": "stdout"
        }
      ]
    },
    {
      "cell_type": "code",
      "metadata": {
        "id": "qFeb_YTATeQk"
      },
      "source": [
        ""
      ],
      "execution_count": null,
      "outputs": []
    }
  ]
}