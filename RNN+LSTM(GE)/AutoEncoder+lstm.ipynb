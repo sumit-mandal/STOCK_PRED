{
 "cells": [
  {
   "cell_type": "code",
   "execution_count": 1,
   "id": "f4d9ed2d-0834-4663-af02-685d96c2121a",
   "metadata": {},
   "outputs": [],
   "source": [
    "import numpy as np\n",
    "import matplotlib.pyplot as plt\n",
    "from keras.models import Sequential\n",
    "from keras.layers import Dense,RepeatVector,TimeDistributed,LSTM,Input,Dropout\n",
    "import pandas as pd\n",
    "from sklearn.preprocessing import StandardScaler\n",
    "from keras.models import Model\n",
    "import seaborn as sns"
   ]
  },
  {
   "cell_type": "code",
   "execution_count": 2,
   "id": "8c5db5aa-92c8-4252-944a-b8f3397485fe",
   "metadata": {},
   "outputs": [
    {
     "name": "stdout",
     "output_type": "stream",
     "text": [
      "<class 'pandas.core.frame.DataFrame'>\n"
     ]
    },
    {
     "data": {
      "text/html": [
       "<div>\n",
       "<style scoped>\n",
       "    .dataframe tbody tr th:only-of-type {\n",
       "        vertical-align: middle;\n",
       "    }\n",
       "\n",
       "    .dataframe tbody tr th {\n",
       "        vertical-align: top;\n",
       "    }\n",
       "\n",
       "    .dataframe thead th {\n",
       "        text-align: right;\n",
       "    }\n",
       "</style>\n",
       "<table border=\"1\" class=\"dataframe\">\n",
       "  <thead>\n",
       "    <tr style=\"text-align: right;\">\n",
       "      <th></th>\n",
       "      <th>Date</th>\n",
       "      <th>Open</th>\n",
       "      <th>High</th>\n",
       "      <th>Low</th>\n",
       "      <th>Close</th>\n",
       "      <th>Adj Close</th>\n",
       "      <th>Volume</th>\n",
       "    </tr>\n",
       "  </thead>\n",
       "  <tbody>\n",
       "    <tr>\n",
       "      <th>0</th>\n",
       "      <td>1970-01-02</td>\n",
       "      <td>0.776242</td>\n",
       "      <td>0.777494</td>\n",
       "      <td>0.766226</td>\n",
       "      <td>0.767478</td>\n",
       "      <td>0.159365</td>\n",
       "      <td>2316288</td>\n",
       "    </tr>\n",
       "    <tr>\n",
       "      <th>1</th>\n",
       "      <td>1970-01-05</td>\n",
       "      <td>0.767478</td>\n",
       "      <td>0.771234</td>\n",
       "      <td>0.757462</td>\n",
       "      <td>0.763722</td>\n",
       "      <td>0.158585</td>\n",
       "      <td>4233216</td>\n",
       "    </tr>\n",
       "    <tr>\n",
       "      <th>2</th>\n",
       "      <td>1970-01-06</td>\n",
       "      <td>0.762470</td>\n",
       "      <td>0.762470</td>\n",
       "      <td>0.737430</td>\n",
       "      <td>0.741186</td>\n",
       "      <td>0.153906</td>\n",
       "      <td>3544320</td>\n",
       "    </tr>\n",
       "    <tr>\n",
       "      <th>3</th>\n",
       "      <td>1970-01-07</td>\n",
       "      <td>0.743690</td>\n",
       "      <td>0.754958</td>\n",
       "      <td>0.743690</td>\n",
       "      <td>0.744942</td>\n",
       "      <td>0.154685</td>\n",
       "      <td>4602624</td>\n",
       "    </tr>\n",
       "    <tr>\n",
       "      <th>4</th>\n",
       "      <td>1970-01-08</td>\n",
       "      <td>0.747446</td>\n",
       "      <td>0.758714</td>\n",
       "      <td>0.747446</td>\n",
       "      <td>0.751202</td>\n",
       "      <td>0.155985</td>\n",
       "      <td>13897728</td>\n",
       "    </tr>\n",
       "    <tr>\n",
       "      <th>...</th>\n",
       "      <td>...</td>\n",
       "      <td>...</td>\n",
       "      <td>...</td>\n",
       "      <td>...</td>\n",
       "      <td>...</td>\n",
       "      <td>...</td>\n",
       "      <td>...</td>\n",
       "    </tr>\n",
       "    <tr>\n",
       "      <th>12818</th>\n",
       "      <td>2020-10-23</td>\n",
       "      <td>7.930000</td>\n",
       "      <td>8.030000</td>\n",
       "      <td>7.560000</td>\n",
       "      <td>7.630000</td>\n",
       "      <td>7.617370</td>\n",
       "      <td>132563200</td>\n",
       "    </tr>\n",
       "    <tr>\n",
       "      <th>12819</th>\n",
       "      <td>2020-10-26</td>\n",
       "      <td>7.460000</td>\n",
       "      <td>7.560000</td>\n",
       "      <td>7.280000</td>\n",
       "      <td>7.380000</td>\n",
       "      <td>7.367784</td>\n",
       "      <td>104254400</td>\n",
       "    </tr>\n",
       "    <tr>\n",
       "      <th>12820</th>\n",
       "      <td>2020-10-27</td>\n",
       "      <td>7.400000</td>\n",
       "      <td>7.400000</td>\n",
       "      <td>7.090000</td>\n",
       "      <td>7.100000</td>\n",
       "      <td>7.088247</td>\n",
       "      <td>98170000</td>\n",
       "    </tr>\n",
       "    <tr>\n",
       "      <th>12821</th>\n",
       "      <td>2020-10-28</td>\n",
       "      <td>7.510000</td>\n",
       "      <td>7.860000</td>\n",
       "      <td>7.410000</td>\n",
       "      <td>7.420000</td>\n",
       "      <td>7.407717</td>\n",
       "      <td>253494100</td>\n",
       "    </tr>\n",
       "    <tr>\n",
       "      <th>12822</th>\n",
       "      <td>2020-10-29</td>\n",
       "      <td>7.660000</td>\n",
       "      <td>7.740000</td>\n",
       "      <td>7.310000</td>\n",
       "      <td>7.370000</td>\n",
       "      <td>7.357800</td>\n",
       "      <td>123298000</td>\n",
       "    </tr>\n",
       "  </tbody>\n",
       "</table>\n",
       "<p>12823 rows × 7 columns</p>\n",
       "</div>"
      ],
      "text/plain": [
       "             Date      Open      High       Low     Close  Adj Close  \\\n",
       "0      1970-01-02  0.776242  0.777494  0.766226  0.767478   0.159365   \n",
       "1      1970-01-05  0.767478  0.771234  0.757462  0.763722   0.158585   \n",
       "2      1970-01-06  0.762470  0.762470  0.737430  0.741186   0.153906   \n",
       "3      1970-01-07  0.743690  0.754958  0.743690  0.744942   0.154685   \n",
       "4      1970-01-08  0.747446  0.758714  0.747446  0.751202   0.155985   \n",
       "...           ...       ...       ...       ...       ...        ...   \n",
       "12818  2020-10-23  7.930000  8.030000  7.560000  7.630000   7.617370   \n",
       "12819  2020-10-26  7.460000  7.560000  7.280000  7.380000   7.367784   \n",
       "12820  2020-10-27  7.400000  7.400000  7.090000  7.100000   7.088247   \n",
       "12821  2020-10-28  7.510000  7.860000  7.410000  7.420000   7.407717   \n",
       "12822  2020-10-29  7.660000  7.740000  7.310000  7.370000   7.357800   \n",
       "\n",
       "          Volume  \n",
       "0        2316288  \n",
       "1        4233216  \n",
       "2        3544320  \n",
       "3        4602624  \n",
       "4       13897728  \n",
       "...          ...  \n",
       "12818  132563200  \n",
       "12819  104254400  \n",
       "12820   98170000  \n",
       "12821  253494100  \n",
       "12822  123298000  \n",
       "\n",
       "[12823 rows x 7 columns]"
      ]
     },
     "execution_count": 2,
     "metadata": {},
     "output_type": "execute_result"
    }
   ],
   "source": [
    "dataframe = pd.read_csv(\"GE.CSV\")\n",
    "print(type(dataframe))\n",
    "dataframe"
   ]
  },
  {
   "cell_type": "code",
   "execution_count": 3,
   "id": "0f6ddb4f-8143-44b9-a880-fae6a60d0222",
   "metadata": {},
   "outputs": [
    {
     "name": "stdout",
     "output_type": "stream",
     "text": [
      "<class 'pandas.core.frame.DataFrame'>\n"
     ]
    },
    {
     "data": {
      "text/html": [
       "<div>\n",
       "<style scoped>\n",
       "    .dataframe tbody tr th:only-of-type {\n",
       "        vertical-align: middle;\n",
       "    }\n",
       "\n",
       "    .dataframe tbody tr th {\n",
       "        vertical-align: top;\n",
       "    }\n",
       "\n",
       "    .dataframe thead th {\n",
       "        text-align: right;\n",
       "    }\n",
       "</style>\n",
       "<table border=\"1\" class=\"dataframe\">\n",
       "  <thead>\n",
       "    <tr style=\"text-align: right;\">\n",
       "      <th></th>\n",
       "      <th>Date</th>\n",
       "      <th>Close</th>\n",
       "    </tr>\n",
       "  </thead>\n",
       "  <tbody>\n",
       "    <tr>\n",
       "      <th>0</th>\n",
       "      <td>1970-01-02</td>\n",
       "      <td>0.767478</td>\n",
       "    </tr>\n",
       "    <tr>\n",
       "      <th>1</th>\n",
       "      <td>1970-01-05</td>\n",
       "      <td>0.763722</td>\n",
       "    </tr>\n",
       "    <tr>\n",
       "      <th>2</th>\n",
       "      <td>1970-01-06</td>\n",
       "      <td>0.741186</td>\n",
       "    </tr>\n",
       "    <tr>\n",
       "      <th>3</th>\n",
       "      <td>1970-01-07</td>\n",
       "      <td>0.744942</td>\n",
       "    </tr>\n",
       "    <tr>\n",
       "      <th>4</th>\n",
       "      <td>1970-01-08</td>\n",
       "      <td>0.751202</td>\n",
       "    </tr>\n",
       "    <tr>\n",
       "      <th>...</th>\n",
       "      <td>...</td>\n",
       "      <td>...</td>\n",
       "    </tr>\n",
       "    <tr>\n",
       "      <th>12818</th>\n",
       "      <td>2020-10-23</td>\n",
       "      <td>7.630000</td>\n",
       "    </tr>\n",
       "    <tr>\n",
       "      <th>12819</th>\n",
       "      <td>2020-10-26</td>\n",
       "      <td>7.380000</td>\n",
       "    </tr>\n",
       "    <tr>\n",
       "      <th>12820</th>\n",
       "      <td>2020-10-27</td>\n",
       "      <td>7.100000</td>\n",
       "    </tr>\n",
       "    <tr>\n",
       "      <th>12821</th>\n",
       "      <td>2020-10-28</td>\n",
       "      <td>7.420000</td>\n",
       "    </tr>\n",
       "    <tr>\n",
       "      <th>12822</th>\n",
       "      <td>2020-10-29</td>\n",
       "      <td>7.370000</td>\n",
       "    </tr>\n",
       "  </tbody>\n",
       "</table>\n",
       "<p>12823 rows × 2 columns</p>\n",
       "</div>"
      ],
      "text/plain": [
       "             Date     Close\n",
       "0      1970-01-02  0.767478\n",
       "1      1970-01-05  0.763722\n",
       "2      1970-01-06  0.741186\n",
       "3      1970-01-07  0.744942\n",
       "4      1970-01-08  0.751202\n",
       "...           ...       ...\n",
       "12818  2020-10-23  7.630000\n",
       "12819  2020-10-26  7.380000\n",
       "12820  2020-10-27  7.100000\n",
       "12821  2020-10-28  7.420000\n",
       "12822  2020-10-29  7.370000\n",
       "\n",
       "[12823 rows x 2 columns]"
      ]
     },
     "execution_count": 3,
     "metadata": {},
     "output_type": "execute_result"
    }
   ],
   "source": [
    "df = dataframe[['Date','Close']]\n",
    "print(type(df))\n",
    "df"
   ]
  },
  {
   "cell_type": "code",
   "execution_count": 4,
   "id": "a59c92ba-4c01-4dd7-91e7-0794a08cb7dd",
   "metadata": {},
   "outputs": [
    {
     "name": "stderr",
     "output_type": "stream",
     "text": [
      "<ipython-input-4-b9c6864122be>:1: SettingWithCopyWarning: \n",
      "A value is trying to be set on a copy of a slice from a DataFrame.\n",
      "Try using .loc[row_indexer,col_indexer] = value instead\n",
      "\n",
      "See the caveats in the documentation: https://pandas.pydata.org/pandas-docs/stable/user_guide/indexing.html#returning-a-view-versus-a-copy\n",
      "  df['Date'] = pd.to_datetime(df['Date'])\n"
     ]
    }
   ],
   "source": [
    "df['Date'] = pd.to_datetime(df['Date'])"
   ]
  },
  {
   "cell_type": "code",
   "execution_count": 5,
   "id": "e992471c-06ad-4f8c-8ff1-29203329fcd7",
   "metadata": {},
   "outputs": [
    {
     "data": {
      "text/plain": [
       "<AxesSubplot:xlabel='Date', ylabel='Close'>"
      ]
     },
     "execution_count": 5,
     "metadata": {},
     "output_type": "execute_result"
    },
    {
     "data": {
      "image/png": "[encoded data removed]",
      "text/plain": [
       "<Figure size 432x288 with 1 Axes>"
      ]
     },
     "metadata": {
      "needs_background": "light"
     },
     "output_type": "display_data"
    }
   ],
   "source": [
    "sns.lineplot(x=df['Date'],y=df['Close'])\n"
   ]
  },
  {
   "cell_type": "code",
   "execution_count": 6,
   "id": "e4b6f1d0-68b2-4f34-93bc-e21060d5cbbb",
   "metadata": {},
   "outputs": [
    {
     "name": "stdout",
     "output_type": "stream",
     "text": [
      "Start date is : 1970-01-02 00:00:00\n",
      "End date is: 2020-10-29 00:00:00\n"
     ]
    }
   ],
   "source": [
    "print(\"Start date is :\",df['Date'].min())\n",
    "print(\"End date is:\",df['Date'].max())"
   ]
  },
  {
   "cell_type": "markdown",
   "id": "64d774ac-d921-4b95-b389-2723daf645c6",
   "metadata": {},
   "source": [
    "### ALLocating traning and test set"
   ]
  },
  {
   "cell_type": "code",
   "execution_count": 7,
   "id": "9002970a-c84c-4237-840d-1d82c180e1c3",
   "metadata": {},
   "outputs": [],
   "source": [
    "train,test = df.loc[df['Date']<= '2003-12-31'],df.loc[df['Date']>'2003-12-31']"
   ]
  },
  {
   "cell_type": "code",
   "execution_count": 8,
   "id": "e6a51551-fa81-457c-8896-548c1c04d56d",
   "metadata": {},
   "outputs": [
    {
     "data": {
      "text/plain": [
       "[<matplotlib.lines.Line2D at 0x1ceabde07c0>]"
      ]
     },
     "execution_count": 8,
     "metadata": {},
     "output_type": "execute_result"
    },
    {
     "data": {
      "image/png": "[encoded data removed]",
      "text/plain": [
       "<Figure size 432x288 with 1 Axes>"
      ]
     },
     "metadata": {
      "needs_background": "light"
     },
     "output_type": "display_data"
    }
   ],
   "source": [
    "plt.plot(train['Date'],train['Close'])"
   ]
  },
  {
   "cell_type": "code",
   "execution_count": 9,
   "id": "59fe8fde-07db-4c0b-8936-63fc79a9f9cb",
   "metadata": {},
   "outputs": [
    {
     "data": {
      "text/plain": [
       "[<matplotlib.lines.Line2D at 0x1ceabe86280>]"
      ]
     },
     "execution_count": 9,
     "metadata": {},
     "output_type": "execute_result"
    },
    {
     "data": {
      "image/png": "[encoded data removed]",
      "text/plain": [
       "<Figure size 432x288 with 1 Axes>"
      ]
     },
     "metadata": {
      "needs_background": "light"
     },
     "output_type": "display_data"
    }
   ],
   "source": [
    "plt.plot(test['Date'],test['Close'])"
   ]
  },
  {
   "cell_type": "code",
   "execution_count": 10,
   "id": "481f5e8d-5a80-441a-b44f-febe63d5a676",
   "metadata": {},
   "outputs": [],
   "source": [
    "#Convert pandas dataframe to numpy array\n",
    "#dataset = dataframe.values\n",
    "#dataset = dataset.astype('float32') #COnvert values to float"
   ]
  },
  {
   "cell_type": "code",
   "execution_count": 11,
   "id": "22d7672d-b7f2-4ac7-8fed-25122c117fe6",
   "metadata": {},
   "outputs": [
    {
     "name": "stderr",
     "output_type": "stream",
     "text": [
      "<ipython-input-11-7c83936d6475>:5: SettingWithCopyWarning: \n",
      "A value is trying to be set on a copy of a slice from a DataFrame.\n",
      "Try using .loc[row_indexer,col_indexer] = value instead\n",
      "\n",
      "See the caveats in the documentation: https://pandas.pydata.org/pandas-docs/stable/user_guide/indexing.html#returning-a-view-versus-a-copy\n",
      "  train['Close'] = scaler.transform(train[['Close']])\n",
      "<ipython-input-11-7c83936d6475>:6: SettingWithCopyWarning: \n",
      "A value is trying to be set on a copy of a slice from a DataFrame.\n",
      "Try using .loc[row_indexer,col_indexer] = value instead\n",
      "\n",
      "See the caveats in the documentation: https://pandas.pydata.org/pandas-docs/stable/user_guide/indexing.html#returning-a-view-versus-a-copy\n",
      "  test['Close'] = scaler.transform(test[['Close']])\n"
     ]
    }
   ],
   "source": [
    "#Now normalising\n",
    "scaler = StandardScaler()\n",
    "scaler = scaler.fit(train[['Close']])\n",
    "\n",
    "train['Close'] = scaler.transform(train[['Close']])\n",
    "test['Close'] = scaler.transform(test[['Close']])"
   ]
  },
  {
   "cell_type": "code",
   "execution_count": 12,
   "id": "abac2108-0527-49a9-a2a4-62f998d47092",
   "metadata": {},
   "outputs": [
    {
     "name": "stdout",
     "output_type": "stream",
     "text": [
      "           Date     Close\n",
      "0    1970-01-02 -0.661313\n",
      "1    1970-01-05 -0.661597\n",
      "2    1970-01-06 -0.663304\n",
      "3    1970-01-07 -0.663019\n",
      "4    1970-01-08 -0.662545\n",
      "...         ...       ...\n",
      "8581 2003-12-24  1.530324\n",
      "8582 2003-12-26  1.517218\n",
      "8583 2003-12-29  1.525227\n",
      "8584 2003-12-30  1.517218\n",
      "8585 2003-12-31  1.536148\n",
      "\n",
      "[8586 rows x 2 columns]\n"
     ]
    }
   ],
   "source": [
    "print(train)"
   ]
  },
  {
   "cell_type": "code",
   "execution_count": 13,
   "id": "4d932e49-350b-4953-b9d3-866e05e537c5",
   "metadata": {},
   "outputs": [
    {
     "name": "stdout",
     "output_type": "stream",
     "text": [
      "            Date     Close\n",
      "8586  2004-01-02  1.546341\n",
      "8587  2004-01-05  1.579833\n",
      "8588  2004-01-06  1.564543\n",
      "8589  2004-01-07  1.587113\n",
      "8590  2004-01-08  1.628614\n",
      "...          ...       ...\n",
      "12818 2020-10-23 -0.141684\n",
      "12819 2020-10-26 -0.160614\n",
      "12820 2020-10-27 -0.181816\n",
      "12821 2020-10-28 -0.157586\n",
      "12822 2020-10-29 -0.161372\n",
      "\n",
      "[4237 rows x 2 columns]\n"
     ]
    }
   ],
   "source": [
    "print(test)"
   ]
  },
  {
   "cell_type": "code",
   "execution_count": 14,
   "id": "9ce7d138-5822-4e32-8da6-264557427b44",
   "metadata": {},
   "outputs": [],
   "source": [
    "seq_size = 30 # Numbr of time steps to look back"
   ]
  },
  {
   "cell_type": "code",
   "execution_count": 15,
   "id": "1b8f8ca9-410a-4a9e-8cbc-d9a70bd245be",
   "metadata": {},
   "outputs": [],
   "source": [
    "# defining a model \n",
    "\n",
    "def to_sequences(x,y,seq_size=1):\n",
    "    x_values=[]\n",
    "    y_values=[]\n",
    "    \n",
    "    for i in range(len(x)-seq_size):\n",
    "        x_values.append(x.iloc[i:(i+seq_size)].values)\n",
    "        y_values.append(y.iloc[i+seq_size])\n",
    "        \n",
    "    return np.array(x_values),np.array(y_values)\n",
    "        \n",
    "    "
   ]
  },
  {
   "cell_type": "code",
   "execution_count": 16,
   "id": "118e6609-f45d-4e33-be02-6422229daccc",
   "metadata": {},
   "outputs": [],
   "source": [
    "X_train,y_train = to_sequences(train[['Close']], train['Close'], seq_size)\n",
    "X_test,y_test = to_sequences(test[['Close']],test['Close'],seq_size)"
   ]
  },
  {
   "cell_type": "code",
   "execution_count": 17,
   "id": "4b2ea740-09df-4425-9929-62564fb9ec4c",
   "metadata": {},
   "outputs": [
    {
     "name": "stdout",
     "output_type": "stream",
     "text": [
      "X_train is \n",
      " [[[-0.66131277]\n",
      "  [-0.66159718]\n",
      "  [-0.6633036 ]\n",
      "  ...\n",
      "  [-0.66709564]\n",
      "  [-0.66605283]\n",
      "  [-0.66633723]]\n",
      "\n",
      " [[-0.66159718]\n",
      "  [-0.6633036 ]\n",
      "  [-0.66301919]\n",
      "  ...\n",
      "  [-0.66605283]\n",
      "  [-0.66633723]\n",
      "  [-0.66719044]]\n",
      "\n",
      " [[-0.6633036 ]\n",
      "  [-0.66301919]\n",
      "  [-0.66254519]\n",
      "  ...\n",
      "  [-0.66633723]\n",
      "  [-0.66719044]\n",
      "  [-0.66681124]]\n",
      "\n",
      " ...\n",
      "\n",
      " [[ 1.34393652]\n",
      "  [ 1.31044508]\n",
      "  [ 1.30534861]\n",
      "  ...\n",
      "  [ 1.54488508]\n",
      "  [ 1.5303235 ]\n",
      "  [ 1.51721823]]\n",
      "\n",
      " [[ 1.31044508]\n",
      "  [ 1.30534861]\n",
      "  [ 1.3512172 ]\n",
      "  ...\n",
      "  [ 1.5303235 ]\n",
      "  [ 1.51721823]\n",
      "  [ 1.52522711]]\n",
      "\n",
      " [[ 1.30534861]\n",
      "  [ 1.3512172 ]\n",
      "  [ 1.42620888]\n",
      "  ...\n",
      "  [ 1.51721823]\n",
      "  [ 1.52522711]\n",
      "  [ 1.51721823]]]\n",
      "y_train is \n",
      " [-0.66719044 -0.66681124 -0.66738004 ...  1.52522711  1.51721823\n",
      "  1.53614816]\n",
      "X_test is \n",
      " [[[ 1.54634118]\n",
      "  [ 1.57983262]\n",
      "  [ 1.56454306]\n",
      "  ...\n",
      "  [ 1.68904371]\n",
      "  [ 1.67302603]\n",
      "  [ 1.66283302]]\n",
      "\n",
      " [[ 1.57983262]\n",
      "  [ 1.56454306]\n",
      "  [ 1.58711329]\n",
      "  ...\n",
      "  [ 1.67302603]\n",
      "  [ 1.66283302]\n",
      "  [ 1.68685957]]\n",
      "\n",
      " [[ 1.56454306]\n",
      "  [ 1.58711329]\n",
      "  [ 1.62861353]\n",
      "  ...\n",
      "  [ 1.66283302]\n",
      "  [ 1.68685957]\n",
      "  [ 1.66501731]]\n",
      "\n",
      " ...\n",
      "\n",
      " [[-0.25753567]\n",
      "  [-0.20831785]\n",
      "  [-0.18560193]\n",
      "  ...\n",
      "  [-0.13486972]\n",
      "  [-0.14168449]\n",
      "  [-0.16061442]]\n",
      "\n",
      " [[-0.20831785]\n",
      "  [-0.18560193]\n",
      "  [-0.19847429]\n",
      "  ...\n",
      "  [-0.14168449]\n",
      "  [-0.16061442]\n",
      "  [-0.18181595]]\n",
      "\n",
      " [[-0.18560193]\n",
      "  [-0.19847429]\n",
      "  [-0.23860574]\n",
      "  ...\n",
      "  [-0.16061442]\n",
      "  [-0.18181595]\n",
      "  [-0.15758563]]]\n",
      "y_test is\n",
      " [ 1.68685957  1.66501731  1.6540961  ... -0.18181595 -0.15758563\n",
      " -0.16137162]\n",
      "Size of X_train is \n",
      " (8556, 30, 1)\n",
      "Size of y_train is \n",
      " (8556,)\n",
      "Size of X_test is \n",
      " (4207, 30, 1)\n",
      "Size of y_test is\n",
      " (4207,)\n"
     ]
    }
   ],
   "source": [
    "print(\"X_train is \\n\",X_train )\n",
    "print(\"y_train is \\n\",y_train )\n",
    "print(\"X_test is \\n\",X_test )\n",
    "print(\"y_test is\\n\",y_test)\n",
    "\n",
    "print(\"Size of X_train is \\n\",X_train.shape )\n",
    "print(\"Size of y_train is \\n\",y_train.shape)\n",
    "print(\"Size of X_test is \\n\",X_test.shape )\n",
    "print(\"Size of y_test is\\n\",y_test.shape)\n"
   ]
  },
  {
   "cell_type": "markdown",
   "id": "e07b27c6-e62f-4f0a-824a-08951584f551",
   "metadata": {},
   "source": [
    "## Creating AutoEncoder Model"
   ]
  },
  {
   "cell_type": "code",
   "execution_count": 18,
   "id": "96b37e08-b336-4a1f-a7b8-acc342703ea9",
   "metadata": {},
   "outputs": [
    {
     "name": "stdout",
     "output_type": "stream",
     "text": [
      "WARNING:tensorflow:Layer lstm will not use cuDNN kernel since it doesn't meet the cuDNN kernel criteria. It will use generic GPU kernel as fallback when running on GPU\n",
      "WARNING:tensorflow:Layer lstm_1 will not use cuDNN kernel since it doesn't meet the cuDNN kernel criteria. It will use generic GPU kernel as fallback when running on GPU\n",
      "Model: \"sequential\"\n",
      "_________________________________________________________________\n",
      "Layer (type)                 Output Shape              Param #   \n",
      "=================================================================\n",
      "lstm (LSTM)                  (None, 128)               66560     \n",
      "_________________________________________________________________\n",
      "dropout (Dropout)            (None, 128)               0         \n",
      "_________________________________________________________________\n",
      "repeat_vector (RepeatVector) (None, 30, 128)           0         \n",
      "_________________________________________________________________\n",
      "lstm_1 (LSTM)                (None, 30, 64)            49408     \n",
      "_________________________________________________________________\n",
      "dropout_1 (Dropout)          (None, 30, 64)            0         \n",
      "_________________________________________________________________\n",
      "time_distributed (TimeDistri (None, 30, 1)             65        \n",
      "=================================================================\n",
      "Total params: 116,033\n",
      "Trainable params: 116,033\n",
      "Non-trainable params: 0\n",
      "_________________________________________________________________\n"
     ]
    }
   ],
   "source": [
    "\n",
    "model = Sequential()\n",
    "model.add(LSTM(128,activation='relu',input_shape=(X_train.shape[1],X_train.shape[2])))\n",
    "# model.add(LSTM(64,activation='relu',return_sequences=False))\n",
    "model.add(Dropout(rate=0.02))\n",
    "\n",
    "model.add(RepeatVector(X_train.shape[1])) #RepeatVector is bridge between encoders and decoders\n",
    "\n",
    "model.add(LSTM(64,activation='relu',return_sequences=True)) #Note- 3rd and 4th LSTM layers are mirror to 1st and 2nd LSTM layer\n",
    "# model.add(LSTM(128,activation='relu',return_sequences=True))\n",
    "model.add(Dropout(0.2))\n",
    "model.add(TimeDistributed(Dense(X_train.shape[2])))\n",
    "\n",
    "model.compile(optimizer='adam',loss='mse')\n",
    "model.summary()\n",
    "\n",
    "\n",
    "\n",
    "\n",
    "\n"
   ]
  },
  {
   "cell_type": "markdown",
   "id": "b13fb538-63a1-464e-b479-b2d27ba55ce6",
   "metadata": {},
   "source": [
    "## FITTING the model"
   ]
  },
  {
   "cell_type": "code",
   "execution_count": 19,
   "id": "e9eb015b-4d6e-401b-be15-356b428cffe6",
   "metadata": {},
   "outputs": [],
   "source": [
    "# history = model.fit(X_train,y_train,epochs=50,batch_size=32,validation_split=0.1,verbose=1)"
   ]
  },
  {
   "cell_type": "markdown",
   "id": "8b1ed0bb-6807-4966-925d-46c1675c7920",
   "metadata": {},
   "source": [
    "## Loading the model"
   ]
  },
  {
   "cell_type": "code",
   "execution_count": 20,
   "id": "9dc2d5d4-1a03-419e-b99f-13ba044d2e6e",
   "metadata": {},
   "outputs": [
    {
     "name": "stdout",
     "output_type": "stream",
     "text": [
      "WARNING:tensorflow:Layer lstm_2 will not use cuDNN kernel since it doesn't meet the cuDNN kernel criteria. It will use generic GPU kernel as fallback when running on GPU\n",
      "WARNING:tensorflow:Layer lstm_3 will not use cuDNN kernel since it doesn't meet the cuDNN kernel criteria. It will use generic GPU kernel as fallback when running on GPU\n"
     ]
    }
   ],
   "source": [
    "from keras.models import load_model\n",
    "model = load_model(\"AutoEncoced+lstm2.h5\")"
   ]
  },
  {
   "cell_type": "code",
   "execution_count": null,
   "id": "0c69b7c0-d3db-4297-a7a8-7dadc826fa67",
   "metadata": {},
   "outputs": [],
   "source": []
  },
  {
   "cell_type": "code",
   "execution_count": 33,
   "id": "1c396af6-0a81-4bae-8f2b-415b02682891",
   "metadata": {},
   "outputs": [],
   "source": [
    "# plt.plot(model.history['loss'], label='Training loss')\n",
    "# plt.plot(model.history['val_loss'], label='Validation loss')\n",
    "# plt.legend()"
   ]
  },
  {
   "cell_type": "code",
   "execution_count": 22,
   "id": "5be81b5f-0279-463f-b876-38415bb70bd6",
   "metadata": {},
   "outputs": [
    {
     "name": "stdout",
     "output_type": "stream",
     "text": [
      "132/132 [==============================] - 7s 41ms/step - loss: 0.0011\n"
     ]
    },
    {
     "data": {
      "text/plain": [
       "0.0011363493977114558"
      ]
     },
     "execution_count": 22,
     "metadata": {},
     "output_type": "execute_result"
    }
   ],
   "source": [
    "model.evaluate(X_test,y_test)"
   ]
  },
  {
   "cell_type": "code",
   "execution_count": null,
   "id": "3c2c2398-021c-4da1-8463-df05586072c5",
   "metadata": {},
   "outputs": [],
   "source": [
    "#Anomaly is where reconstruction error is large.\n",
    "#We can define this value beyond which we call anomaly.\n",
    "#Let us look at MAE in training prediction"
   ]
  },
  {
   "cell_type": "markdown",
   "id": "6d85b506-6b18-4c33-907f-4b6fc8d5769c",
   "metadata": {},
   "source": [
    "## Predicting the training set"
   ]
  },
  {
   "cell_type": "code",
   "execution_count": 26,
   "id": "80b57505-3fd9-4c83-873a-b89e58732fe2",
   "metadata": {},
   "outputs": [
    {
     "data": {
      "image/png": "[encoded data removed]",
      "text/plain": [
       "<Figure size 432x288 with 1 Axes>"
      ]
     },
     "metadata": {
      "needs_background": "light"
     },
     "output_type": "display_data"
    }
   ],
   "source": [
    "X_pred = model.predict(X_train)\n",
    "trainMAE = np.mean(np.abs(X_pred - X_train),axis=1)\n",
    "plt.hist(trainMAE,bins=30)\n",
    "max_trainMAE = 0.3 #or define the value of max threshold"
   ]
  },
  {
   "cell_type": "code",
   "execution_count": 27,
   "id": "fbda010d-167d-4cb1-815a-08ee297ebe2d",
   "metadata": {},
   "outputs": [
    {
     "name": "stdout",
     "output_type": "stream",
     "text": [
      "trainMAE:\n",
      " [[0.0130101 ]\n",
      " [0.01297562]\n",
      " [0.01303449]\n",
      " ...\n",
      " [0.0827178 ]\n",
      " [0.08128438]\n",
      " [0.07168925]]\n",
      "max_trainMAE:\n",
      " 0.3\n"
     ]
    }
   ],
   "source": [
    "print(\"trainMAE:\\n\",trainMAE)\n",
    "print(\"max_trainMAE:\\n\",max_trainMAE)"
   ]
  },
  {
   "cell_type": "markdown",
   "id": "76ccbb94-b8a5-49c0-badb-1ab480516301",
   "metadata": {},
   "source": [
    "## Predicting the test set"
   ]
  },
  {
   "cell_type": "code",
   "execution_count": 30,
   "id": "05c29c3d-bed7-4af8-a3c1-46a1a50c9016",
   "metadata": {},
   "outputs": [
    {
     "data": {
      "text/plain": [
       "(array([433., 988., 772., 535., 389., 279., 249., 142., 115.,  63.,  53.,\n",
       "         43.,  36.,  21.,  17.,  23.,  12.,   7.,  11.,   5.,   2.,   4.,\n",
       "          0.,   4.,   1.,   1.,   1.,   0.,   0.,   1.]),\n",
       " array([0.00974921, 0.02564665, 0.04154409, 0.05744153, 0.07333897,\n",
       "        0.08923641, 0.10513385, 0.12103129, 0.13692873, 0.15282617,\n",
       "        0.16872361, 0.18462105, 0.20051849, 0.21641593, 0.23231337,\n",
       "        0.24821081, 0.26410825, 0.28000569, 0.29590313, 0.31180057,\n",
       "        0.32769801, 0.34359545, 0.35949289, 0.37539033, 0.39128777,\n",
       "        0.40718521, 0.42308265, 0.43898009, 0.45487753, 0.47077497,\n",
       "        0.48667241]),\n",
       " <BarContainer object of 30 artists>)"
      ]
     },
     "execution_count": 30,
     "metadata": {},
     "output_type": "execute_result"
    },
    {
     "data": {
      "image/png": "[encoded data removed]",
      "text/plain": [
       "<Figure size 432x288 with 1 Axes>"
      ]
     },
     "metadata": {
      "needs_background": "light"
     },
     "output_type": "display_data"
    }
   ],
   "source": [
    "X_pred = model.predict(X_test)\n",
    "testMAE = np.mean(np.abs(X_pred - X_test),axis=1)\n",
    "plt.hist(testMAE,bins=30)"
   ]
  },
  {
   "cell_type": "code",
   "execution_count": 79,
   "id": "51894d6d-bf0e-4a16-9086-b3a24caf3af0",
   "metadata": {},
   "outputs": [
    {
     "name": "stdout",
     "output_type": "stream",
     "text": [
      "test mae [[0.0584716 ]\n",
      " [0.04951351]\n",
      " [0.05347809]\n",
      " ...\n",
      " [0.05190949]\n",
      " [0.03949068]\n",
      " [0.04572102]]\n"
     ]
    }
   ],
   "source": [
    "print(\"test mae\",testMAE)"
   ]
  },
  {
   "cell_type": "code",
   "execution_count": null,
   "id": "5e5cfaab-1b42-4139-9ba1-f83615d68b3b",
   "metadata": {},
   "outputs": [],
   "source": []
  },
  {
   "cell_type": "code",
   "execution_count": 80,
   "id": "106b652a-ed8b-49cc-94eb-c15a72abf6fe",
   "metadata": {},
   "outputs": [
    {
     "name": "stdout",
     "output_type": "stream",
     "text": [
      "class:  ndarray\n",
      "shape:  (4207, 1)\n",
      "strides:  (8, 8)\n",
      "itemsize:  8\n",
      "aligned:  True\n",
      "contiguous:  True\n",
      "fortran:  True\n",
      "data pointer: 0x1cfd8ff1a10\n",
      "byteorder:  little\n",
      "byteswap:  False\n",
      "type: float64\n",
      "trainnmae info\n",
      " None\n",
      "class:  ndarray\n",
      "shape:  (4207, 1)\n",
      "strides:  (8, 8)\n",
      "itemsize:  8\n",
      "aligned:  True\n",
      "contiguous:  True\n",
      "fortran:  True\n",
      "data pointer: 0x1cec056adb0\n",
      "byteorder:  little\n",
      "byteswap:  False\n",
      "type: float64\n",
      "testmae info\n",
      " None\n"
     ]
    }
   ],
   "source": [
    "print(\"trainnmae info\\n\",np.info(trainMAE))\n",
    "print(\"testmae info\\n\",np.info(testMAE))"
   ]
  },
  {
   "cell_type": "markdown",
   "id": "45ad4208-f6a9-4cc6-8923-f1ba9eca3491",
   "metadata": {},
   "source": [
    "### Capture all details in a DataFrame for easy plotting\n",
    "\n"
   ]
  },
  {
   "cell_type": "code",
   "execution_count": 87,
   "id": "48bb758d-26bd-4d4c-97be-d0e0976d43de",
   "metadata": {},
   "outputs": [
    {
     "data": {
      "text/html": [
       "<div>\n",
       "<style scoped>\n",
       "    .dataframe tbody tr th:only-of-type {\n",
       "        vertical-align: middle;\n",
       "    }\n",
       "\n",
       "    .dataframe tbody tr th {\n",
       "        vertical-align: top;\n",
       "    }\n",
       "\n",
       "    .dataframe thead th {\n",
       "        text-align: right;\n",
       "    }\n",
       "</style>\n",
       "<table border=\"1\" class=\"dataframe\">\n",
       "  <thead>\n",
       "    <tr style=\"text-align: right;\">\n",
       "      <th></th>\n",
       "      <th>Date</th>\n",
       "      <th>Close</th>\n",
       "    </tr>\n",
       "  </thead>\n",
       "  <tbody>\n",
       "    <tr>\n",
       "      <th>8616</th>\n",
       "      <td>2004-02-17</td>\n",
       "      <td>1.686860</td>\n",
       "    </tr>\n",
       "    <tr>\n",
       "      <th>8617</th>\n",
       "      <td>2004-02-18</td>\n",
       "      <td>1.665017</td>\n",
       "    </tr>\n",
       "    <tr>\n",
       "      <th>8618</th>\n",
       "      <td>2004-02-19</td>\n",
       "      <td>1.654096</td>\n",
       "    </tr>\n",
       "    <tr>\n",
       "      <th>8619</th>\n",
       "      <td>2004-02-20</td>\n",
       "      <td>1.661377</td>\n",
       "    </tr>\n",
       "    <tr>\n",
       "      <th>8620</th>\n",
       "      <td>2004-02-23</td>\n",
       "      <td>1.713798</td>\n",
       "    </tr>\n",
       "    <tr>\n",
       "      <th>...</th>\n",
       "      <td>...</td>\n",
       "      <td>...</td>\n",
       "    </tr>\n",
       "    <tr>\n",
       "      <th>12818</th>\n",
       "      <td>2020-10-23</td>\n",
       "      <td>-0.141684</td>\n",
       "    </tr>\n",
       "    <tr>\n",
       "      <th>12819</th>\n",
       "      <td>2020-10-26</td>\n",
       "      <td>-0.160614</td>\n",
       "    </tr>\n",
       "    <tr>\n",
       "      <th>12820</th>\n",
       "      <td>2020-10-27</td>\n",
       "      <td>-0.181816</td>\n",
       "    </tr>\n",
       "    <tr>\n",
       "      <th>12821</th>\n",
       "      <td>2020-10-28</td>\n",
       "      <td>-0.157586</td>\n",
       "    </tr>\n",
       "    <tr>\n",
       "      <th>12822</th>\n",
       "      <td>2020-10-29</td>\n",
       "      <td>-0.161372</td>\n",
       "    </tr>\n",
       "  </tbody>\n",
       "</table>\n",
       "<p>4207 rows × 2 columns</p>\n",
       "</div>"
      ],
      "text/plain": [
       "            Date     Close\n",
       "8616  2004-02-17  1.686860\n",
       "8617  2004-02-18  1.665017\n",
       "8618  2004-02-19  1.654096\n",
       "8619  2004-02-20  1.661377\n",
       "8620  2004-02-23  1.713798\n",
       "...          ...       ...\n",
       "12818 2020-10-23 -0.141684\n",
       "12819 2020-10-26 -0.160614\n",
       "12820 2020-10-27 -0.181816\n",
       "12821 2020-10-28 -0.157586\n",
       "12822 2020-10-29 -0.161372\n",
       "\n",
       "[4207 rows x 2 columns]"
      ]
     },
     "execution_count": 87,
     "metadata": {},
     "output_type": "execute_result"
    }
   ],
   "source": [
    "anomaly_df = pd.DataFrame(test[seq_size:])\n",
    "anomaly_df\n"
   ]
  },
  {
   "cell_type": "code",
   "execution_count": 89,
   "id": "31dc12f7-15f8-4ec8-b2c8-4a77cd30e906",
   "metadata": {},
   "outputs": [],
   "source": [
    "anomaly_df['testMAE'] = testMAE"
   ]
  },
  {
   "cell_type": "code",
   "execution_count": 90,
   "id": "7589eaf2-16e8-4b6b-980e-8644f1724980",
   "metadata": {},
   "outputs": [
    {
     "data": {
      "text/html": [
       "<div>\n",
       "<style scoped>\n",
       "    .dataframe tbody tr th:only-of-type {\n",
       "        vertical-align: middle;\n",
       "    }\n",
       "\n",
       "    .dataframe tbody tr th {\n",
       "        vertical-align: top;\n",
       "    }\n",
       "\n",
       "    .dataframe thead th {\n",
       "        text-align: right;\n",
       "    }\n",
       "</style>\n",
       "<table border=\"1\" class=\"dataframe\">\n",
       "  <thead>\n",
       "    <tr style=\"text-align: right;\">\n",
       "      <th></th>\n",
       "      <th>Date</th>\n",
       "      <th>Close</th>\n",
       "      <th>testMAE</th>\n",
       "      <th>max_trainMAE</th>\n",
       "    </tr>\n",
       "  </thead>\n",
       "  <tbody>\n",
       "    <tr>\n",
       "      <th>8616</th>\n",
       "      <td>2004-02-17</td>\n",
       "      <td>1.686860</td>\n",
       "      <td>0.058472</td>\n",
       "      <td>0.3</td>\n",
       "    </tr>\n",
       "    <tr>\n",
       "      <th>8617</th>\n",
       "      <td>2004-02-18</td>\n",
       "      <td>1.665017</td>\n",
       "      <td>0.049514</td>\n",
       "      <td>0.3</td>\n",
       "    </tr>\n",
       "    <tr>\n",
       "      <th>8618</th>\n",
       "      <td>2004-02-19</td>\n",
       "      <td>1.654096</td>\n",
       "      <td>0.053478</td>\n",
       "      <td>0.3</td>\n",
       "    </tr>\n",
       "    <tr>\n",
       "      <th>8619</th>\n",
       "      <td>2004-02-20</td>\n",
       "      <td>1.661377</td>\n",
       "      <td>0.055223</td>\n",
       "      <td>0.3</td>\n",
       "    </tr>\n",
       "    <tr>\n",
       "      <th>8620</th>\n",
       "      <td>2004-02-23</td>\n",
       "      <td>1.713798</td>\n",
       "      <td>0.050084</td>\n",
       "      <td>0.3</td>\n",
       "    </tr>\n",
       "    <tr>\n",
       "      <th>...</th>\n",
       "      <td>...</td>\n",
       "      <td>...</td>\n",
       "      <td>...</td>\n",
       "      <td>...</td>\n",
       "    </tr>\n",
       "    <tr>\n",
       "      <th>12818</th>\n",
       "      <td>2020-10-23</td>\n",
       "      <td>-0.141684</td>\n",
       "      <td>0.069106</td>\n",
       "      <td>0.3</td>\n",
       "    </tr>\n",
       "    <tr>\n",
       "      <th>12819</th>\n",
       "      <td>2020-10-26</td>\n",
       "      <td>-0.160614</td>\n",
       "      <td>0.066375</td>\n",
       "      <td>0.3</td>\n",
       "    </tr>\n",
       "    <tr>\n",
       "      <th>12820</th>\n",
       "      <td>2020-10-27</td>\n",
       "      <td>-0.181816</td>\n",
       "      <td>0.051909</td>\n",
       "      <td>0.3</td>\n",
       "    </tr>\n",
       "    <tr>\n",
       "      <th>12821</th>\n",
       "      <td>2020-10-28</td>\n",
       "      <td>-0.157586</td>\n",
       "      <td>0.039491</td>\n",
       "      <td>0.3</td>\n",
       "    </tr>\n",
       "    <tr>\n",
       "      <th>12822</th>\n",
       "      <td>2020-10-29</td>\n",
       "      <td>-0.161372</td>\n",
       "      <td>0.045721</td>\n",
       "      <td>0.3</td>\n",
       "    </tr>\n",
       "  </tbody>\n",
       "</table>\n",
       "<p>4207 rows × 4 columns</p>\n",
       "</div>"
      ],
      "text/plain": [
       "            Date     Close   testMAE  max_trainMAE\n",
       "8616  2004-02-17  1.686860  0.058472           0.3\n",
       "8617  2004-02-18  1.665017  0.049514           0.3\n",
       "8618  2004-02-19  1.654096  0.053478           0.3\n",
       "8619  2004-02-20  1.661377  0.055223           0.3\n",
       "8620  2004-02-23  1.713798  0.050084           0.3\n",
       "...          ...       ...       ...           ...\n",
       "12818 2020-10-23 -0.141684  0.069106           0.3\n",
       "12819 2020-10-26 -0.160614  0.066375           0.3\n",
       "12820 2020-10-27 -0.181816  0.051909           0.3\n",
       "12821 2020-10-28 -0.157586  0.039491           0.3\n",
       "12822 2020-10-29 -0.161372  0.045721           0.3\n",
       "\n",
       "[4207 rows x 4 columns]"
      ]
     },
     "execution_count": 90,
     "metadata": {},
     "output_type": "execute_result"
    }
   ],
   "source": [
    "anomaly_df['max_trainMAE'] = max_trainMAE\n",
    "anomaly_df"
   ]
  },
  {
   "cell_type": "code",
   "execution_count": 94,
   "id": "c0bbf612-c79a-45d1-bca4-4a94a36067a8",
   "metadata": {},
   "outputs": [
    {
     "data": {
      "text/html": [
       "<div>\n",
       "<style scoped>\n",
       "    .dataframe tbody tr th:only-of-type {\n",
       "        vertical-align: middle;\n",
       "    }\n",
       "\n",
       "    .dataframe tbody tr th {\n",
       "        vertical-align: top;\n",
       "    }\n",
       "\n",
       "    .dataframe thead th {\n",
       "        text-align: right;\n",
       "    }\n",
       "</style>\n",
       "<table border=\"1\" class=\"dataframe\">\n",
       "  <thead>\n",
       "    <tr style=\"text-align: right;\">\n",
       "      <th></th>\n",
       "      <th>Date</th>\n",
       "      <th>Close</th>\n",
       "      <th>testMAE</th>\n",
       "      <th>max_trainMAE</th>\n",
       "      <th>anomaly</th>\n",
       "    </tr>\n",
       "  </thead>\n",
       "  <tbody>\n",
       "    <tr>\n",
       "      <th>8616</th>\n",
       "      <td>2004-02-17</td>\n",
       "      <td>1.686860</td>\n",
       "      <td>0.058472</td>\n",
       "      <td>0.3</td>\n",
       "      <td>False</td>\n",
       "    </tr>\n",
       "    <tr>\n",
       "      <th>8617</th>\n",
       "      <td>2004-02-18</td>\n",
       "      <td>1.665017</td>\n",
       "      <td>0.049514</td>\n",
       "      <td>0.3</td>\n",
       "      <td>False</td>\n",
       "    </tr>\n",
       "    <tr>\n",
       "      <th>8618</th>\n",
       "      <td>2004-02-19</td>\n",
       "      <td>1.654096</td>\n",
       "      <td>0.053478</td>\n",
       "      <td>0.3</td>\n",
       "      <td>False</td>\n",
       "    </tr>\n",
       "    <tr>\n",
       "      <th>8619</th>\n",
       "      <td>2004-02-20</td>\n",
       "      <td>1.661377</td>\n",
       "      <td>0.055223</td>\n",
       "      <td>0.3</td>\n",
       "      <td>False</td>\n",
       "    </tr>\n",
       "    <tr>\n",
       "      <th>8620</th>\n",
       "      <td>2004-02-23</td>\n",
       "      <td>1.713798</td>\n",
       "      <td>0.050084</td>\n",
       "      <td>0.3</td>\n",
       "      <td>False</td>\n",
       "    </tr>\n",
       "    <tr>\n",
       "      <th>...</th>\n",
       "      <td>...</td>\n",
       "      <td>...</td>\n",
       "      <td>...</td>\n",
       "      <td>...</td>\n",
       "      <td>...</td>\n",
       "    </tr>\n",
       "    <tr>\n",
       "      <th>12818</th>\n",
       "      <td>2020-10-23</td>\n",
       "      <td>-0.141684</td>\n",
       "      <td>0.069106</td>\n",
       "      <td>0.3</td>\n",
       "      <td>False</td>\n",
       "    </tr>\n",
       "    <tr>\n",
       "      <th>12819</th>\n",
       "      <td>2020-10-26</td>\n",
       "      <td>-0.160614</td>\n",
       "      <td>0.066375</td>\n",
       "      <td>0.3</td>\n",
       "      <td>False</td>\n",
       "    </tr>\n",
       "    <tr>\n",
       "      <th>12820</th>\n",
       "      <td>2020-10-27</td>\n",
       "      <td>-0.181816</td>\n",
       "      <td>0.051909</td>\n",
       "      <td>0.3</td>\n",
       "      <td>False</td>\n",
       "    </tr>\n",
       "    <tr>\n",
       "      <th>12821</th>\n",
       "      <td>2020-10-28</td>\n",
       "      <td>-0.157586</td>\n",
       "      <td>0.039491</td>\n",
       "      <td>0.3</td>\n",
       "      <td>False</td>\n",
       "    </tr>\n",
       "    <tr>\n",
       "      <th>12822</th>\n",
       "      <td>2020-10-29</td>\n",
       "      <td>-0.161372</td>\n",
       "      <td>0.045721</td>\n",
       "      <td>0.3</td>\n",
       "      <td>False</td>\n",
       "    </tr>\n",
       "  </tbody>\n",
       "</table>\n",
       "<p>4207 rows × 5 columns</p>\n",
       "</div>"
      ],
      "text/plain": [
       "            Date     Close   testMAE  max_trainMAE  anomaly\n",
       "8616  2004-02-17  1.686860  0.058472           0.3    False\n",
       "8617  2004-02-18  1.665017  0.049514           0.3    False\n",
       "8618  2004-02-19  1.654096  0.053478           0.3    False\n",
       "8619  2004-02-20  1.661377  0.055223           0.3    False\n",
       "8620  2004-02-23  1.713798  0.050084           0.3    False\n",
       "...          ...       ...       ...           ...      ...\n",
       "12818 2020-10-23 -0.141684  0.069106           0.3    False\n",
       "12819 2020-10-26 -0.160614  0.066375           0.3    False\n",
       "12820 2020-10-27 -0.181816  0.051909           0.3    False\n",
       "12821 2020-10-28 -0.157586  0.039491           0.3    False\n",
       "12822 2020-10-29 -0.161372  0.045721           0.3    False\n",
       "\n",
       "[4207 rows x 5 columns]"
      ]
     },
     "execution_count": 94,
     "metadata": {},
     "output_type": "execute_result"
    }
   ],
   "source": [
    "anomaly_df['anomaly'] = anomaly_df['testMAE'] > anomaly_df['max_trainMAE'] #IT gives boolean value if testMAE is greater than MAX_trainMAE\n",
    "anomaly_df"
   ]
  },
  {
   "cell_type": "code",
   "execution_count": 93,
   "id": "b56977f2-1701-4a16-a74a-3c380694e993",
   "metadata": {},
   "outputs": [
    {
     "data": {
      "text/html": [
       "<div>\n",
       "<style scoped>\n",
       "    .dataframe tbody tr th:only-of-type {\n",
       "        vertical-align: middle;\n",
       "    }\n",
       "\n",
       "    .dataframe tbody tr th {\n",
       "        vertical-align: top;\n",
       "    }\n",
       "\n",
       "    .dataframe thead th {\n",
       "        text-align: right;\n",
       "    }\n",
       "</style>\n",
       "<table border=\"1\" class=\"dataframe\">\n",
       "  <thead>\n",
       "    <tr style=\"text-align: right;\">\n",
       "      <th></th>\n",
       "      <th>Date</th>\n",
       "      <th>Close</th>\n",
       "      <th>testMAE</th>\n",
       "      <th>max_trainMAE</th>\n",
       "      <th>anomaly</th>\n",
       "    </tr>\n",
       "  </thead>\n",
       "  <tbody>\n",
       "    <tr>\n",
       "      <th>8616</th>\n",
       "      <td>2004-02-17</td>\n",
       "      <td>1.686860</td>\n",
       "      <td>0.058472</td>\n",
       "      <td>0.3</td>\n",
       "      <td>False</td>\n",
       "    </tr>\n",
       "    <tr>\n",
       "      <th>8617</th>\n",
       "      <td>2004-02-18</td>\n",
       "      <td>1.665017</td>\n",
       "      <td>0.049514</td>\n",
       "      <td>0.3</td>\n",
       "      <td>False</td>\n",
       "    </tr>\n",
       "    <tr>\n",
       "      <th>8618</th>\n",
       "      <td>2004-02-19</td>\n",
       "      <td>1.654096</td>\n",
       "      <td>0.053478</td>\n",
       "      <td>0.3</td>\n",
       "      <td>False</td>\n",
       "    </tr>\n",
       "    <tr>\n",
       "      <th>8619</th>\n",
       "      <td>2004-02-20</td>\n",
       "      <td>1.661377</td>\n",
       "      <td>0.055223</td>\n",
       "      <td>0.3</td>\n",
       "      <td>False</td>\n",
       "    </tr>\n",
       "    <tr>\n",
       "      <th>8620</th>\n",
       "      <td>2004-02-23</td>\n",
       "      <td>1.713798</td>\n",
       "      <td>0.050084</td>\n",
       "      <td>0.3</td>\n",
       "      <td>False</td>\n",
       "    </tr>\n",
       "    <tr>\n",
       "      <th>...</th>\n",
       "      <td>...</td>\n",
       "      <td>...</td>\n",
       "      <td>...</td>\n",
       "      <td>...</td>\n",
       "      <td>...</td>\n",
       "    </tr>\n",
       "    <tr>\n",
       "      <th>12818</th>\n",
       "      <td>2020-10-23</td>\n",
       "      <td>-0.141684</td>\n",
       "      <td>0.069106</td>\n",
       "      <td>0.3</td>\n",
       "      <td>False</td>\n",
       "    </tr>\n",
       "    <tr>\n",
       "      <th>12819</th>\n",
       "      <td>2020-10-26</td>\n",
       "      <td>-0.160614</td>\n",
       "      <td>0.066375</td>\n",
       "      <td>0.3</td>\n",
       "      <td>False</td>\n",
       "    </tr>\n",
       "    <tr>\n",
       "      <th>12820</th>\n",
       "      <td>2020-10-27</td>\n",
       "      <td>-0.181816</td>\n",
       "      <td>0.051909</td>\n",
       "      <td>0.3</td>\n",
       "      <td>False</td>\n",
       "    </tr>\n",
       "    <tr>\n",
       "      <th>12821</th>\n",
       "      <td>2020-10-28</td>\n",
       "      <td>-0.157586</td>\n",
       "      <td>0.039491</td>\n",
       "      <td>0.3</td>\n",
       "      <td>False</td>\n",
       "    </tr>\n",
       "    <tr>\n",
       "      <th>12822</th>\n",
       "      <td>2020-10-29</td>\n",
       "      <td>-0.161372</td>\n",
       "      <td>0.045721</td>\n",
       "      <td>0.3</td>\n",
       "      <td>False</td>\n",
       "    </tr>\n",
       "  </tbody>\n",
       "</table>\n",
       "<p>4207 rows × 5 columns</p>\n",
       "</div>"
      ],
      "text/plain": [
       "            Date     Close   testMAE  max_trainMAE  anomaly\n",
       "8616  2004-02-17  1.686860  0.058472           0.3    False\n",
       "8617  2004-02-18  1.665017  0.049514           0.3    False\n",
       "8618  2004-02-19  1.654096  0.053478           0.3    False\n",
       "8619  2004-02-20  1.661377  0.055223           0.3    False\n",
       "8620  2004-02-23  1.713798  0.050084           0.3    False\n",
       "...          ...       ...       ...           ...      ...\n",
       "12818 2020-10-23 -0.141684  0.069106           0.3    False\n",
       "12819 2020-10-26 -0.160614  0.066375           0.3    False\n",
       "12820 2020-10-27 -0.181816  0.051909           0.3    False\n",
       "12821 2020-10-28 -0.157586  0.039491           0.3    False\n",
       "12822 2020-10-29 -0.161372  0.045721           0.3    False\n",
       "\n",
       "[4207 rows x 5 columns]"
      ]
     },
     "execution_count": 93,
     "metadata": {},
     "output_type": "execute_result"
    }
   ],
   "source": [
    "anomaly_df['Close'] = test[seq_size:]['Close'] \n",
    "anomaly_df"
   ]
  },
  {
   "cell_type": "markdown",
   "id": "7d779a2f-3fe8-4d55-8d8d-5ff581d1d11d",
   "metadata": {},
   "source": [
    "# Plot testMAE vs MAx_trainMAE"
   ]
  },
  {
   "cell_type": "code",
   "execution_count": 100,
   "id": "cb63166c-7eea-4d64-b06a-d963ecad4337",
   "metadata": {},
   "outputs": [
    {
     "data": {
      "text/plain": [
       "<AxesSubplot:xlabel='Date', ylabel='testMAE'>"
      ]
     },
     "execution_count": 100,
     "metadata": {},
     "output_type": "execute_result"
    },
    {
     "data": {
      "image/png": "[encoded data removed]",
      "text/plain": [
       "<Figure size 432x288 with 1 Axes>"
      ]
     },
     "metadata": {
      "needs_background": "light"
     },
     "output_type": "display_data"
    }
   ],
   "source": [
    "sns.lineplot(x=anomaly_df['Date'],y=anomaly_df['testMAE'])\n",
    "sns.lineplot(x=anomaly_df['Date'],y=anomaly_df['max_trainMAE'])\n",
    "\n",
    "#Value above yellow line means there are only few values that are above threshold value we set that is 0.3"
   ]
  },
  {
   "cell_type": "code",
   "execution_count": 102,
   "id": "25865ef0-d9d5-4a2a-b229-ba86a835c1d6",
   "metadata": {},
   "outputs": [],
   "source": [
    "anomalies = anomaly_df.loc[anomaly_df['anomaly'] == True]"
   ]
  },
  {
   "cell_type": "markdown",
   "id": "4b7427f2-e0c8-4244-b00e-15c48d32dcfd",
   "metadata": {},
   "source": [
    "# Plot ANOMALIES"
   ]
  },
  {
   "cell_type": "code",
   "execution_count": 110,
   "id": "8c192ef4-5ad8-41af-ab84-fc6e8a446e3f",
   "metadata": {},
   "outputs": [
    {
     "data": {
      "text/plain": [
       "<AxesSubplot:xlabel='Date'>"
      ]
     },
     "execution_count": 110,
     "metadata": {},
     "output_type": "execute_result"
    },
    {
     "data": {
      "image/png": "[encoded data removed]",
      "text/plain": [
       "<Figure size 432x288 with 1 Axes>"
      ]
     },
     "metadata": {
      "needs_background": "light"
     },
     "output_type": "display_data"
    }
   ],
   "source": [
    "sns.lineplot(x=anomaly_df['Date'], y=scaler.inverse_transform(anomaly_df['Close']))\n",
    "sns.scatterplot(x=anomalies['Date'], y=scaler.inverse_transform(anomalies['Close']), color='r')\n",
    "#Anomalies day are in red plot"
   ]
  },
  {
   "cell_type": "code",
   "execution_count": null,
   "id": "3b6f7d83-8ef9-4ade-bef4-b0300f9956ff",
   "metadata": {},
   "outputs": [],
   "source": [
    "!git add AutoEncoced+lstm2.h5 AutoEncoder+lstm.ipynb GE.csv\n",
    "! git commit -m \"17:05/12-05-2021\"\n",
    "! git push origin main"
   ]
  }
 ],
 "metadata": {
  "kernelspec": {
   "display_name": "Python [conda env:cv]",
   "language": "python",
   "name": "conda-env-cv-py"
  },
  "language_info": {
   "codemirror_mode": {
    "name": "ipython",
    "version": 3
   },
   "file_extension": ".py",
   "mimetype": "text/x-python",
   "name": "python",
   "nbconvert_exporter": "python",
   "pygments_lexer": "ipython3",
   "version": "3.8.5"
  }
 },
 "nbformat": 4,
 "nbformat_minor": 5
}
