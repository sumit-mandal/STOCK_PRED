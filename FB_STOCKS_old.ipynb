{
  "nbformat": 4,
  "nbformat_minor": 0,
  "metadata": {
    "colab": {
      "name": "FB_STOCKS.ipynb",
      "provenance": [],
      "collapsed_sections": []
    },
    "kernelspec": {
      "name": "python3",
      "display_name": "Python 3"
    },
    "language_info": {
      "name": "python"
    }
  },
  "cells": [
    {
      "cell_type": "code",
      "metadata": {
        "id": "mMz_hAAwuXxj"
      },
      "source": [
        "from sklearn.svm import SVR\n",
        "import numpy as np\n",
        "import pandas as pd\n",
        "import matplotlib.pyplot as plt\n",
        "plt.style.use('fivethirtyeight')"
      ],
      "execution_count": 24,
      "outputs": []
    },
    {
      "cell_type": "code",
      "metadata": {
        "colab": {
          "resources": {
            "http://localhost:8080/nbextensions/google.colab/files.js": {
              "data": "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",
              "ok": true,
              "headers": [
                [
                  "content-type",
                  "application/javascript"
                ]
              ],
              "status": 200,
              "status_text": ""
            }
          },
          "base_uri": "https://localhost:8080/",
          "height": 73
        },
        "id": "5ANOcEcyupSs",
        "outputId": "63735a69-b632-4416-88d3-230c90335a0f"
      },
      "source": [
        "# loading the data\n",
        "from google.colab import files\n",
        "uploaded = files.upload()"
      ],
      "execution_count": null,
      "outputs": [
        {
          "output_type": "display_data",
          "data": {
            "text/html": [
              "\n",
              "     <input type=\"file\" id=\"files-213927a4-1f9c-46fe-acb8-044ebdc449fe\" name=\"files[]\" multiple disabled\n",
              "        style=\"border:none\" />\n",
              "     <output id=\"result-213927a4-1f9c-46fe-acb8-044ebdc449fe\">\n",
              "      Upload widget is only available when the cell has been executed in the\n",
              "      current browser session. Please rerun this cell to enable.\n",
              "      </output>\n",
              "      <script src=\"/nbextensions/google.colab/files.js\"></script> "
            ],
            "text/plain": [
              "<IPython.core.display.HTML object>"
            ]
          },
          "metadata": {
            "tags": []
          }
        },
        {
          "output_type": "stream",
          "text": [
            "Saving FB_stock.csv to FB_stock.csv\n"
          ],
          "name": "stdout"
        }
      ]
    },
    {
      "cell_type": "code",
      "metadata": {
        "colab": {
          "base_uri": "https://localhost:8080/",
          "height": 698
        },
        "id": "P8wLXcdvu1GA",
        "outputId": "4950dc11-aefb-4591-e2c8-d561d81fd9ab"
      },
      "source": [
        "#storing and showing the data\n",
        "df = pd.read_csv('FB_stock.csv')\n",
        "df"
      ],
      "execution_count": 23,
      "outputs": [
        {
          "output_type": "execute_result",
          "data": {
            "text/html": [
              "<div>\n",
              "<style scoped>\n",
              "    .dataframe tbody tr th:only-of-type {\n",
              "        vertical-align: middle;\n",
              "    }\n",
              "\n",
              "    .dataframe tbody tr th {\n",
              "        vertical-align: top;\n",
              "    }\n",
              "\n",
              "    .dataframe thead th {\n",
              "        text-align: right;\n",
              "    }\n",
              "</style>\n",
              "<table border=\"1\" class=\"dataframe\">\n",
              "  <thead>\n",
              "    <tr style=\"text-align: right;\">\n",
              "      <th></th>\n",
              "      <th>Date</th>\n",
              "      <th>Open</th>\n",
              "      <th>High</th>\n",
              "      <th>Low</th>\n",
              "      <th>Close</th>\n",
              "      <th>Adj Close</th>\n",
              "      <th>Volume</th>\n",
              "    </tr>\n",
              "  </thead>\n",
              "  <tbody>\n",
              "    <tr>\n",
              "      <th>0</th>\n",
              "      <td>2019-05-01</td>\n",
              "      <td>194.779999</td>\n",
              "      <td>196.179993</td>\n",
              "      <td>193.009995</td>\n",
              "      <td>193.029999</td>\n",
              "      <td>193.029999</td>\n",
              "      <td>15996600</td>\n",
              "    </tr>\n",
              "    <tr>\n",
              "      <th>1</th>\n",
              "      <td>2019-05-02</td>\n",
              "      <td>193.000000</td>\n",
              "      <td>194.000000</td>\n",
              "      <td>189.750000</td>\n",
              "      <td>192.529999</td>\n",
              "      <td>192.529999</td>\n",
              "      <td>13209500</td>\n",
              "    </tr>\n",
              "    <tr>\n",
              "      <th>2</th>\n",
              "      <td>2019-05-03</td>\n",
              "      <td>194.380005</td>\n",
              "      <td>196.160004</td>\n",
              "      <td>193.710007</td>\n",
              "      <td>195.470001</td>\n",
              "      <td>195.470001</td>\n",
              "      <td>14575400</td>\n",
              "    </tr>\n",
              "    <tr>\n",
              "      <th>3</th>\n",
              "      <td>2019-05-06</td>\n",
              "      <td>191.240005</td>\n",
              "      <td>194.279999</td>\n",
              "      <td>190.550003</td>\n",
              "      <td>193.880005</td>\n",
              "      <td>193.880005</td>\n",
              "      <td>13994900</td>\n",
              "    </tr>\n",
              "    <tr>\n",
              "      <th>4</th>\n",
              "      <td>2019-05-07</td>\n",
              "      <td>192.539993</td>\n",
              "      <td>192.899994</td>\n",
              "      <td>187.850006</td>\n",
              "      <td>189.770004</td>\n",
              "      <td>189.770004</td>\n",
              "      <td>16253000</td>\n",
              "    </tr>\n",
              "    <tr>\n",
              "      <th>5</th>\n",
              "      <td>2019-05-08</td>\n",
              "      <td>189.389999</td>\n",
              "      <td>190.720001</td>\n",
              "      <td>188.550003</td>\n",
              "      <td>189.539993</td>\n",
              "      <td>189.539993</td>\n",
              "      <td>12505700</td>\n",
              "    </tr>\n",
              "    <tr>\n",
              "      <th>6</th>\n",
              "      <td>2019-05-09</td>\n",
              "      <td>187.199997</td>\n",
              "      <td>189.770004</td>\n",
              "      <td>186.259995</td>\n",
              "      <td>188.649994</td>\n",
              "      <td>188.649994</td>\n",
              "      <td>12967000</td>\n",
              "    </tr>\n",
              "    <tr>\n",
              "      <th>7</th>\n",
              "      <td>2019-05-10</td>\n",
              "      <td>188.250000</td>\n",
              "      <td>190.000000</td>\n",
              "      <td>184.589996</td>\n",
              "      <td>188.339996</td>\n",
              "      <td>188.339996</td>\n",
              "      <td>12578500</td>\n",
              "    </tr>\n",
              "    <tr>\n",
              "      <th>8</th>\n",
              "      <td>2019-05-13</td>\n",
              "      <td>183.500000</td>\n",
              "      <td>185.429993</td>\n",
              "      <td>180.839996</td>\n",
              "      <td>181.539993</td>\n",
              "      <td>181.539993</td>\n",
              "      <td>16833300</td>\n",
              "    </tr>\n",
              "    <tr>\n",
              "      <th>9</th>\n",
              "      <td>2019-05-14</td>\n",
              "      <td>182.520004</td>\n",
              "      <td>183.490005</td>\n",
              "      <td>178.100006</td>\n",
              "      <td>180.729996</td>\n",
              "      <td>180.729996</td>\n",
              "      <td>17628100</td>\n",
              "    </tr>\n",
              "    <tr>\n",
              "      <th>10</th>\n",
              "      <td>2019-05-15</td>\n",
              "      <td>180.419998</td>\n",
              "      <td>187.279999</td>\n",
              "      <td>180.020004</td>\n",
              "      <td>186.270004</td>\n",
              "      <td>186.270004</td>\n",
              "      <td>16746900</td>\n",
              "    </tr>\n",
              "    <tr>\n",
              "      <th>11</th>\n",
              "      <td>2019-05-16</td>\n",
              "      <td>185.050003</td>\n",
              "      <td>188.580002</td>\n",
              "      <td>185.050003</td>\n",
              "      <td>186.990005</td>\n",
              "      <td>186.990005</td>\n",
              "      <td>12953100</td>\n",
              "    </tr>\n",
              "    <tr>\n",
              "      <th>12</th>\n",
              "      <td>2019-05-17</td>\n",
              "      <td>184.839996</td>\n",
              "      <td>187.580002</td>\n",
              "      <td>184.279999</td>\n",
              "      <td>185.300003</td>\n",
              "      <td>185.300003</td>\n",
              "      <td>10485400</td>\n",
              "    </tr>\n",
              "    <tr>\n",
              "      <th>13</th>\n",
              "      <td>2019-05-20</td>\n",
              "      <td>181.880005</td>\n",
              "      <td>184.229996</td>\n",
              "      <td>181.369995</td>\n",
              "      <td>182.720001</td>\n",
              "      <td>182.720001</td>\n",
              "      <td>10352000</td>\n",
              "    </tr>\n",
              "    <tr>\n",
              "      <th>14</th>\n",
              "      <td>2019-05-21</td>\n",
              "      <td>184.570007</td>\n",
              "      <td>185.699997</td>\n",
              "      <td>183.889999</td>\n",
              "      <td>184.820007</td>\n",
              "      <td>184.820007</td>\n",
              "      <td>7502800</td>\n",
              "    </tr>\n",
              "    <tr>\n",
              "      <th>15</th>\n",
              "      <td>2019-05-22</td>\n",
              "      <td>184.729996</td>\n",
              "      <td>186.740005</td>\n",
              "      <td>183.610001</td>\n",
              "      <td>185.320007</td>\n",
              "      <td>185.320007</td>\n",
              "      <td>9213800</td>\n",
              "    </tr>\n",
              "    <tr>\n",
              "      <th>16</th>\n",
              "      <td>2019-05-23</td>\n",
              "      <td>182.419998</td>\n",
              "      <td>183.899994</td>\n",
              "      <td>179.669998</td>\n",
              "      <td>180.869995</td>\n",
              "      <td>180.869995</td>\n",
              "      <td>12768800</td>\n",
              "    </tr>\n",
              "    <tr>\n",
              "      <th>17</th>\n",
              "      <td>2019-05-24</td>\n",
              "      <td>182.330002</td>\n",
              "      <td>183.630005</td>\n",
              "      <td>180.830002</td>\n",
              "      <td>181.059998</td>\n",
              "      <td>181.059998</td>\n",
              "      <td>8807700</td>\n",
              "    </tr>\n",
              "    <tr>\n",
              "      <th>18</th>\n",
              "      <td>2019-05-28</td>\n",
              "      <td>181.539993</td>\n",
              "      <td>184.710007</td>\n",
              "      <td>181.449997</td>\n",
              "      <td>184.309998</td>\n",
              "      <td>184.309998</td>\n",
              "      <td>14843300</td>\n",
              "    </tr>\n",
              "    <tr>\n",
              "      <th>19</th>\n",
              "      <td>2019-05-29</td>\n",
              "      <td>183.500000</td>\n",
              "      <td>184.559998</td>\n",
              "      <td>181.350006</td>\n",
              "      <td>182.190002</td>\n",
              "      <td>182.190002</td>\n",
              "      <td>12797700</td>\n",
              "    </tr>\n",
              "    <tr>\n",
              "      <th>20</th>\n",
              "      <td>2019-05-30</td>\n",
              "      <td>183.080002</td>\n",
              "      <td>183.479996</td>\n",
              "      <td>180.889999</td>\n",
              "      <td>183.009995</td>\n",
              "      <td>183.009995</td>\n",
              "      <td>8581500</td>\n",
              "    </tr>\n",
              "    <tr>\n",
              "      <th>21</th>\n",
              "      <td>2019-05-31</td>\n",
              "      <td>180.279999</td>\n",
              "      <td>180.539993</td>\n",
              "      <td>177.160004</td>\n",
              "      <td>177.470001</td>\n",
              "      <td>177.470001</td>\n",
              "      <td>15226500</td>\n",
              "    </tr>\n",
              "  </tbody>\n",
              "</table>\n",
              "</div>"
            ],
            "text/plain": [
              "          Date        Open        High  ...       Close   Adj Close    Volume\n",
              "0   2019-05-01  194.779999  196.179993  ...  193.029999  193.029999  15996600\n",
              "1   2019-05-02  193.000000  194.000000  ...  192.529999  192.529999  13209500\n",
              "2   2019-05-03  194.380005  196.160004  ...  195.470001  195.470001  14575400\n",
              "3   2019-05-06  191.240005  194.279999  ...  193.880005  193.880005  13994900\n",
              "4   2019-05-07  192.539993  192.899994  ...  189.770004  189.770004  16253000\n",
              "5   2019-05-08  189.389999  190.720001  ...  189.539993  189.539993  12505700\n",
              "6   2019-05-09  187.199997  189.770004  ...  188.649994  188.649994  12967000\n",
              "7   2019-05-10  188.250000  190.000000  ...  188.339996  188.339996  12578500\n",
              "8   2019-05-13  183.500000  185.429993  ...  181.539993  181.539993  16833300\n",
              "9   2019-05-14  182.520004  183.490005  ...  180.729996  180.729996  17628100\n",
              "10  2019-05-15  180.419998  187.279999  ...  186.270004  186.270004  16746900\n",
              "11  2019-05-16  185.050003  188.580002  ...  186.990005  186.990005  12953100\n",
              "12  2019-05-17  184.839996  187.580002  ...  185.300003  185.300003  10485400\n",
              "13  2019-05-20  181.880005  184.229996  ...  182.720001  182.720001  10352000\n",
              "14  2019-05-21  184.570007  185.699997  ...  184.820007  184.820007   7502800\n",
              "15  2019-05-22  184.729996  186.740005  ...  185.320007  185.320007   9213800\n",
              "16  2019-05-23  182.419998  183.899994  ...  180.869995  180.869995  12768800\n",
              "17  2019-05-24  182.330002  183.630005  ...  181.059998  181.059998   8807700\n",
              "18  2019-05-28  181.539993  184.710007  ...  184.309998  184.309998  14843300\n",
              "19  2019-05-29  183.500000  184.559998  ...  182.190002  182.190002  12797700\n",
              "20  2019-05-30  183.080002  183.479996  ...  183.009995  183.009995   8581500\n",
              "21  2019-05-31  180.279999  180.539993  ...  177.470001  177.470001  15226500\n",
              "\n",
              "[22 rows x 7 columns]"
            ]
          },
          "metadata": {
            "tags": []
          },
          "execution_count": 23
        }
      ]
    },
    {
      "cell_type": "code",
      "metadata": {
        "colab": {
          "base_uri": "https://localhost:8080/"
        },
        "id": "EqJXAFcNvBBx",
        "outputId": "048d1033-2a71-4d5e-d501-bf324f66f100"
      },
      "source": [
        "# get the number of rows and columns \n",
        "df.shape"
      ],
      "execution_count": 25,
      "outputs": [
        {
          "output_type": "execute_result",
          "data": {
            "text/plain": [
              "(22, 7)"
            ]
          },
          "metadata": {
            "tags": []
          },
          "execution_count": 25
        }
      ]
    },
    {
      "cell_type": "code",
      "metadata": {
        "id": "oBzfjrHwvKQf"
      },
      "source": [
        "## our model will predict the stock value for  last day and testing parameter is adjusted close price"
      ],
      "execution_count": 26,
      "outputs": []
    },
    {
      "cell_type": "code",
      "metadata": {
        "colab": {
          "base_uri": "https://localhost:8080/",
          "height": 77
        },
        "id": "C8_nlVK-vcIN",
        "outputId": "8a5d1c4c-0334-422f-fc2b-bcce89a54047"
      },
      "source": [
        "#Get and print the last row of data\n",
        "\n",
        "actual_price = df.tail(1)\n",
        "actual_price"
      ],
      "execution_count": 27,
      "outputs": [
        {
          "output_type": "execute_result",
          "data": {
            "text/html": [
              "<div>\n",
              "<style scoped>\n",
              "    .dataframe tbody tr th:only-of-type {\n",
              "        vertical-align: middle;\n",
              "    }\n",
              "\n",
              "    .dataframe tbody tr th {\n",
              "        vertical-align: top;\n",
              "    }\n",
              "\n",
              "    .dataframe thead th {\n",
              "        text-align: right;\n",
              "    }\n",
              "</style>\n",
              "<table border=\"1\" class=\"dataframe\">\n",
              "  <thead>\n",
              "    <tr style=\"text-align: right;\">\n",
              "      <th></th>\n",
              "      <th>Date</th>\n",
              "      <th>Open</th>\n",
              "      <th>High</th>\n",
              "      <th>Low</th>\n",
              "      <th>Close</th>\n",
              "      <th>Adj Close</th>\n",
              "      <th>Volume</th>\n",
              "    </tr>\n",
              "  </thead>\n",
              "  <tbody>\n",
              "    <tr>\n",
              "      <th>21</th>\n",
              "      <td>2019-05-31</td>\n",
              "      <td>180.279999</td>\n",
              "      <td>180.539993</td>\n",
              "      <td>177.160004</td>\n",
              "      <td>177.470001</td>\n",
              "      <td>177.470001</td>\n",
              "      <td>15226500</td>\n",
              "    </tr>\n",
              "  </tbody>\n",
              "</table>\n",
              "</div>"
            ],
            "text/plain": [
              "          Date        Open        High  ...       Close   Adj Close    Volume\n",
              "21  2019-05-31  180.279999  180.539993  ...  177.470001  177.470001  15226500\n",
              "\n",
              "[1 rows x 7 columns]"
            ]
          },
          "metadata": {
            "tags": []
          },
          "execution_count": 27
        }
      ]
    },
    {
      "cell_type": "code",
      "metadata": {
        "colab": {
          "base_uri": "https://localhost:8080/"
        },
        "id": "L-_0pUsCvl-N",
        "outputId": "726275f3-01c0-40c9-a844-13afe989dd55"
      },
      "source": [
        "#prepare the data for training thr svr models\n",
        "# get all of the data except last row\n",
        "df = df.head(len(df)-1)\n",
        "\n",
        "#new dataset\n",
        "print(df)"
      ],
      "execution_count": 28,
      "outputs": [
        {
          "output_type": "stream",
          "text": [
            "          Date        Open        High  ...       Close   Adj Close    Volume\n",
            "0   2019-05-01  194.779999  196.179993  ...  193.029999  193.029999  15996600\n",
            "1   2019-05-02  193.000000  194.000000  ...  192.529999  192.529999  13209500\n",
            "2   2019-05-03  194.380005  196.160004  ...  195.470001  195.470001  14575400\n",
            "3   2019-05-06  191.240005  194.279999  ...  193.880005  193.880005  13994900\n",
            "4   2019-05-07  192.539993  192.899994  ...  189.770004  189.770004  16253000\n",
            "5   2019-05-08  189.389999  190.720001  ...  189.539993  189.539993  12505700\n",
            "6   2019-05-09  187.199997  189.770004  ...  188.649994  188.649994  12967000\n",
            "7   2019-05-10  188.250000  190.000000  ...  188.339996  188.339996  12578500\n",
            "8   2019-05-13  183.500000  185.429993  ...  181.539993  181.539993  16833300\n",
            "9   2019-05-14  182.520004  183.490005  ...  180.729996  180.729996  17628100\n",
            "10  2019-05-15  180.419998  187.279999  ...  186.270004  186.270004  16746900\n",
            "11  2019-05-16  185.050003  188.580002  ...  186.990005  186.990005  12953100\n",
            "12  2019-05-17  184.839996  187.580002  ...  185.300003  185.300003  10485400\n",
            "13  2019-05-20  181.880005  184.229996  ...  182.720001  182.720001  10352000\n",
            "14  2019-05-21  184.570007  185.699997  ...  184.820007  184.820007   7502800\n",
            "15  2019-05-22  184.729996  186.740005  ...  185.320007  185.320007   9213800\n",
            "16  2019-05-23  182.419998  183.899994  ...  180.869995  180.869995  12768800\n",
            "17  2019-05-24  182.330002  183.630005  ...  181.059998  181.059998   8807700\n",
            "18  2019-05-28  181.539993  184.710007  ...  184.309998  184.309998  14843300\n",
            "19  2019-05-29  183.500000  184.559998  ...  182.190002  182.190002  12797700\n",
            "20  2019-05-30  183.080002  183.479996  ...  183.009995  183.009995   8581500\n",
            "\n",
            "[21 rows x 7 columns]\n"
          ],
          "name": "stdout"
        }
      ]
    },
    {
      "cell_type": "code",
      "metadata": {
        "id": "ortggoVsv0-g"
      },
      "source": [
        "# create empty list to store the independent and dependent data\n",
        "days = []\n",
        "adj_close_prices=[]"
      ],
      "execution_count": 64,
      "outputs": []
    },
    {
      "cell_type": "code",
      "metadata": {
        "colab": {
          "base_uri": "https://localhost:8080/"
        },
        "id": "7EXiOhgMwFcJ",
        "outputId": "139bb59b-e078-42d7-8a80-355dd565e53d"
      },
      "source": [
        "# get the data and adjusted close prices\n",
        "\n",
        "#loc = label based, we need to have to specify rows and columns based on their row and column labels\n",
        "#iloc = integer based, iloc is integer position-based, so you have to specify rows and columns by their integer position values\n",
        "df_days = df.loc[:,'Date']\n",
        "df_adj_close = df.loc[:,'Adj Close']\n",
        "\n",
        "print('days:',df_days)\n",
        "print(\"Adjusted close price:\",df_adj_close)\n",
        "\n",
        "\n",
        "# #Alternatively\n",
        "# df_days = df.iloc[:,0]\n",
        "# df_adj_close = df.iloc[:,-2]\n",
        "\n",
        "# print('days:',df_days)\n",
        "# print(\"Adjusted close price:\",df_adj_close)"
      ],
      "execution_count": 65,
      "outputs": [
        {
          "output_type": "stream",
          "text": [
            "days: 0     2019-05-01\n",
            "1     2019-05-02\n",
            "2     2019-05-03\n",
            "3     2019-05-06\n",
            "4     2019-05-07\n",
            "5     2019-05-08\n",
            "6     2019-05-09\n",
            "7     2019-05-10\n",
            "8     2019-05-13\n",
            "9     2019-05-14\n",
            "10    2019-05-15\n",
            "11    2019-05-16\n",
            "12    2019-05-17\n",
            "13    2019-05-20\n",
            "14    2019-05-21\n",
            "15    2019-05-22\n",
            "16    2019-05-23\n",
            "17    2019-05-24\n",
            "18    2019-05-28\n",
            "19    2019-05-29\n",
            "20    2019-05-30\n",
            "Name: Date, dtype: object\n",
            "Adjusted close price: 0     193.029999\n",
            "1     192.529999\n",
            "2     195.470001\n",
            "3     193.880005\n",
            "4     189.770004\n",
            "5     189.539993\n",
            "6     188.649994\n",
            "7     188.339996\n",
            "8     181.539993\n",
            "9     180.729996\n",
            "10    186.270004\n",
            "11    186.990005\n",
            "12    185.300003\n",
            "13    182.720001\n",
            "14    184.820007\n",
            "15    185.320007\n",
            "16    180.869995\n",
            "17    181.059998\n",
            "18    184.309998\n",
            "19    182.190002\n",
            "20    183.009995\n",
            "Name: Adj Close, dtype: float64\n"
          ],
          "name": "stdout"
        }
      ]
    },
    {
      "cell_type": "code",
      "metadata": {
        "id": "8kdBOKmNwYGp"
      },
      "source": [
        "# create the independent data set\n",
        "\n",
        "for day in df_days:\n",
        "  days.append( [int(day.split('-')[2])]) \n",
        "  #we add only day and not whole date\n",
        "\n",
        "\n",
        "# create the dependent data set\n",
        "for adj_close_price in df_adj_close:\n",
        "  adj_close_prices.append(float(adj_close_price))\n",
        "\n",
        "\n",
        "  "
      ],
      "execution_count": 66,
      "outputs": []
    },
    {
      "cell_type": "code",
      "metadata": {
        "colab": {
          "base_uri": "https://localhost:8080/"
        },
        "id": "PIJ0rSbJCoRD",
        "outputId": "12f07ed5-7328-47b3-cb1c-1aafa4d6c194"
      },
      "source": [
        "#print the days and adj close prices\n",
        "print(days)\n",
        "print(adj_close_prices)\n",
        "\n"
      ],
      "execution_count": 67,
      "outputs": [
        {
          "output_type": "stream",
          "text": [
            "[[1], [2], [3], [6], [7], [8], [9], [10], [13], [14], [15], [16], [17], [20], [21], [22], [23], [24], [28], [29], [30]]\n",
            "[193.029999, 192.529999, 195.470001, 193.880005, 189.770004, 189.53999299999998, 188.649994, 188.33999599999999, 181.53999299999998, 180.729996, 186.270004, 186.990005, 185.300003, 182.720001, 184.820007, 185.320007, 180.869995, 181.059998, 184.309998, 182.190002, 183.009995]\n"
          ],
          "name": "stdout"
        }
      ]
    },
    {
      "cell_type": "code",
      "metadata": {
        "id": "g204jtdnD47p"
      },
      "source": [
        ""
      ],
      "execution_count": null,
      "outputs": []
    }
  ]
}